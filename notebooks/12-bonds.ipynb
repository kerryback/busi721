{
 "cells": [
  {
   "cell_type": "markdown",
   "metadata": {"slideshow": {"slide_type": "slide"}},
   "source": [
    "# Bonds\n",
    "\n",
    "### BUSI 721: Data-Driven Finance I\n",
    "### Kerry Back, Rice University"
   ]
  },
  {
   "cell_type": "markdown",
   "metadata": {"slideshow": {"slide_type": "slide"}},
   "source": [
    "bond yields\n",
    "Treasuries\n",
    "IEF and 10-year rates\n",
    "corporates\n",
    "tips\n",
    "bonds \n",
    "\n",
    "assignment - tips and treasury yields\n",
    "IEF - (fed funds rate + 1.5%)"
   ]
  }
 ],
 "metadata": {
  "language_info": {
   "name": "python"
  }
 },
 "nbformat": 4,
 "nbformat_minor": 2
}
