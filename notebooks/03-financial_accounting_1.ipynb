{
 "cells": [
  {
   "cell_type": "markdown",
   "metadata": {
    "slideshow": {
     "slide_type": "slide"
    }
   },
   "source": [
    "# Financial Accounting I\n",
    "\n",
    "### BUSI 721: Data-Driven Finance I\n",
    "### Kerry Back, Rice University"
   ]
  },
  {
   "cell_type": "markdown",
   "metadata": {
    "slideshow": {
     "slide_type": "slide"
    }
   },
   "source": [
    "### Statements\n",
    "\n",
    "- Income statement\n",
    "  - Revenues\n",
    "  - Costs\n",
    "  - Net income = revenues - costs\n",
    "- Balance sheet\n",
    "  - Assets\n",
    "  - Liabilities\n",
    "  - Equity = assets - liabilities\n",
    "- Statement of Cash Flows"
   ]
  },
  {
   "cell_type": "markdown",
   "metadata": {
    "slideshow": {
     "slide_type": "slide"
    }
   },
   "source": [
    "### Example: Property, Plant & Equipment (PP&E)\n",
    "\n",
    "- Investment in PP&E is not an immediate cost in calculating income\n",
    "- It goes on the balance sheet as an asset.\n",
    "- It is gradually depreciated over time.\n",
    "- The depreciation is a cost in calculating income.\n",
    "- The balance sheet amount is written down by the amount of the depreciation.\n"
   ]
  },
  {
   "cell_type": "markdown",
   "metadata": {
    "slideshow": {
     "slide_type": "slide"
    }
   },
   "source": [
    "### Depreciation\n",
    "\n",
    "- Depreciation is straight-line for financial reporting (same amount each year = investment/num of years).\n",
    "- Depreciation is accelerated for tax purposes: double declining balance with a switch to straight line when that is optimal and a half-year in the first and last years.\n",
    "- Congress passed accelerated depreciation to encourage investment.  Accelerating depreciation improves near-term cash flows (more later).\n",
    "- Tax schedule is called [MACRS (Modified Accelerated Cost Recovery System)](https://en.wikipedia.org/wiki/MACRS)."
   ]
  },
  {
   "cell_type": "markdown",
   "metadata": {
    "slideshow": {
     "slide_type": "slide"
    }
   },
   "source": [
    "### Example\n",
    "\n",
    "- Invest $100 in five-year equipment\n",
    "- Straight-line is 20% per year.\n",
    "- Double-declining balance is 40% of the remaining balance each year.\n",
    "- But first year of service is only a half year, so 20%.\n",
    "- Switching to straight-line means computing balance / (num years left) and switching to that when higher."
   ]
  },
  {
   "cell_type": "markdown",
   "metadata": {
    "slideshow": {
     "slide_type": "slide"
    }
   },
   "source": [
    "- $20     -> $80    balance  \n",
    "- $32     -> $48    balance  (SL would be 80/4.5 = 17.78)\n",
    "- $19.20  -> $28.80 balance  (SL would be 48/3.5 = 13.71)\n",
    "- $11.52  ->  $17.28 balance  (SL would be 28.80/2.5 = 11.52)\n",
    "- $11.52  ->  $5.76 balance  (DDB would be 0.4 x 17.38 = 6.95) \n",
    "- $5.76  ->  $0.00 balance"
   ]
  },
  {
   "cell_type": "markdown",
   "metadata": {
    "slideshow": {
     "slide_type": "slide"
    }
   },
   "source": [
    "### Balance Sheet in Example\n",
    "\n",
    "| Year | 0 | 1 | 2 | 3 | 4 | 5 |\n",
    "| -: | -: | -: | -: | -: | -: | -: |\n",
    "| Gross PP&E | 100 | 100 | 100 | 100 | 100 | 100 |\n",
    "| Accum Depr | 20 | 52 | 71.20 |82.72 | 94.24 | 100 |\n",
    "| Net PP&E | 80 | 48 | 28.80 | 17.28 | 5.76 | 0 |\n"
   ]
  },
  {
   "cell_type": "markdown",
   "metadata": {
    "slideshow": {
     "slide_type": "slide"
    }
   },
   "source": [
    "### Income Statement in Example\n",
    "\n",
    "- Assume revenue $50 per year beginning in year 1 and there are no costs other than depreciation.\n",
    "- Assume the tax rate is 30%.\n",
    "\n",
    "\n",
    "| Year | 0 | 1 | 2 | 3 | 4 | 5|\n",
    "| -: | -: | -: | -: | -: | -: | -: |\n",
    "| Revenue | 0 | 50 | 50| 50| 50| 50 |\n",
    "| Less Depreciation     | -20 | -32 | -19.20 | -11.52 | -11.52 | -5.76 |\n",
    "| Pre-Tax Income | - 20 | 18 | 30.80 | 38.48 | 38.48 | 44.24|\n",
    "| Less Taxes         | 6 | - 5.40 | - 9.24 | - 11.54 | - 11.54 | - 13.27|\n",
    "| Net Income | - 14 | 12.60 | 21.56 | 26.94 | 26.94 | 30.97 |\n"
   ]
  },
  {
   "cell_type": "markdown",
   "metadata": {
    "slideshow": {
     "slide_type": "slide"
    }
   },
   "source": [
    "### Income is not Cash\n",
    "\n",
    "- Depreciation is not an actual cash expense.\n",
    "- Cash inflow in this example, excluding the initial $100 outlay for equipment, is revenue - taxes.\n",
    "- We can also calculate cash inflow as net income + depreciation (depreciation add back).\n",
    "  - Net income = 0.7 x (revenue - depreciation)\n",
    "  - Net income + depreciation = 0.7 x revenue + 0.3 x depreciation\n",
    "  - 0.3 x depreciation = depreciation tax shield"
   ]
  },
  {
   "cell_type": "markdown",
   "metadata": {
    "slideshow": {
     "slide_type": "slide"
    }
   },
   "source": [
    "### Statement of Cash Flows\n",
    "\n",
    "- The statement of cash flows starts with net income and makes adjustments to get to cash flow (cash flow = cash inflow).\n",
    "- Like adding back depreciation\n",
    "- The cash inflow goes on the company's balance sheet as an increase in the cash account (or a decrease if the cash flow is negative)."
   ]
  },
  {
   "cell_type": "markdown",
   "metadata": {
    "slideshow": {
     "slide_type": "slide"
    }
   },
   "source": [
    "### Statement of Cash Flows in Example\n",
    "\n",
    "\n",
    "| Year | 0 | 1 | 2 | 3 | 4 | 5 |\n",
    "| -: | -: | -: | -: | -: | -: | -: |\n",
    "| Net Income | - 14 | 12.60 | 21.56 | 26.94 | 26.94 | 30.97|\n",
    "| Less Cap Ex | - 100 | 0 | 0 | 0 | 0 | 0 | 0 |\n",
    "| Plus Depr Add-Back | 20 | 32 | 19.20 | 11.52 | 11.52 | 5.76 |\n",
    "| Cash Flow | - 94 | 44.60 | 40.76 | 38.46 | 38.46 | 36.73 |\n"
   ]
  },
  {
   "cell_type": "markdown",
   "metadata": {
    "slideshow": {
     "slide_type": "slide"
    }
   },
   "source": [
    "### Accelerated Depreciation and Cash Flows\n",
    "\n",
    "- The effect of depreciation is to increase cash flow by the depreciation tax shield = 0.3 x depreciation.\n",
    "- If we increase depreciation in early years (and therefore reduce it in later years) then we move some of the depreciation tax shields from late years to early years.\n",
    "- Accelerating depreciation accelerates cash flows.\n",
    "- How would cash flows change if the cap ex could be fully depreciated in year 0?  \n",
    "  - And how would the balance sheet change? \n",
    "  - This would be called expensing as opposed to capitalizing.\n"
   ]
  },
  {
   "cell_type": "markdown",
   "metadata": {
    "slideshow": {
     "slide_type": "slide"
    }
   },
   "source": [
    "### Why are there Assets and Liabilities?\n",
    "\n",
    "- Revenues $\\ne$ cash inflows\n",
    "- Costs $\\ne$ cash outflows\n",
    "- Difference between revenue/cost and cash inflow/outflow is always manifested in a change in a balance sheet item.\n",
    "- To calculate cash inflow/outflow from revenue/cost, the adjustment we make is to always add/subtract the change in a balance sheet item.\n",
    "- Cash flow = net income - $\\Delta$ (assets-liabilities)"
   ]
  },
  {
   "cell_type": "markdown",
   "metadata": {
    "slideshow": {
     "slide_type": "slide"
    }
   },
   "source": [
    "### Balance Sheet Changes in the Example\n",
    "\n",
    "| Year | 0 | 1 | 2 | 3 | 4 | 5 |\n",
    "| -: | -: | -: | -: | -: | -: | -: |\n",
    "| Net PP&E | 80 | 48 | 28.80 | 17.28 | 5.76 | 0 |\n",
    "| $\\Delta$ Net PP&E | 80 | -32 | -19.20 | - 11.52 | - 11.52 | - 5.76|\n",
    "\n",
    "- Cash Flow = Net Income - Cap Ex + Depreciation\n",
    "- Cash Flow = Net Income - $\\Delta$ Net PP&E"
   ]
  },
  {
   "cell_type": "markdown",
   "metadata": {
    "slideshow": {
     "slide_type": "slide"
    }
   },
   "source": [
    "### Another Example\n",
    "\n",
    "- Invest $500,000 in five-year MACRS equipment\n",
    "- Revenues = \n",
    "  - 0 in year 0\n",
    "  - $100,000 in year 1\n",
    "  - $200,000 in year 2\n",
    "  - $200,000 in year 3\n",
    "  - $100,000 in year 4\n",
    "  - $50,000 in year 5\n",
    "- No costs other than depreciation.  Calculate cash flows."
   ]
  },
  {
   "cell_type": "markdown",
   "metadata": {
    "slideshow": {
     "slide_type": "slide"
    }
   },
   "source": [
    "### Working Capital\n",
    "\n",
    "- Short-term assets minus short-term liabilities\n",
    "- Main categories:\n",
    "  - Assets = inventory + accounts receivable\n",
    "  - Liabilities = accounts payable"
   ]
  },
  {
   "cell_type": "markdown",
   "metadata": {
    "slideshow": {
     "slide_type": "slide"
    }
   },
   "source": [
    "### Matching Principle\n",
    "\n",
    "- Record costs and revenues at time of sale\n",
    "- If cash outflows/inflows occur at other times, \n",
    "  - cash outflow before recording $\\mapsto$ asset (inventory)\n",
    "  - cash outflow after recording $\\mapsto$ liability (accounts payable)\n",
    "  - cash inflow before recording $\\mapsto$ liability (pre-paid sales)\n",
    "  - cash inflow after recording $\\mapsto$ asset (accounts receivable)"
   ]
  },
  {
   "cell_type": "markdown",
   "metadata": {
    "slideshow": {
     "slide_type": "slide"
    }
   },
   "source": [
    "### Example\n",
    "\n",
    "| Year | 0 | 1 | 2 | 3 | 4 | 5 |\n",
    "| -: | -: | -: | -: | -: | -: | -: |\n",
    "| Inventory | 5 | 10 | 10 | 10 | 10 | 0 |\n",
    "| Receivables | 0 | 8 | 8 | 8 | 8 | 0 |\n",
    "| Payables | 3 | 6 | 6 | 6 | 6 | 0 |\n",
    "| Net Working Capital | 2 | 12 | 12 | 12 | 12 | 0 |\n",
    "| $\\Delta$ NWC | 2 | 10 | 0 | 0 | 0 | - 12 |"
   ]
  },
  {
   "cell_type": "markdown",
   "metadata": {
    "slideshow": {
     "slide_type": "slide"
    }
   },
   "source": [
    "### Invested Capital (using previous example for net pp&e)\n",
    "\n",
    "| Year | 0 | 1 | 2 | 3 | 4 | 5 |\n",
    "| -: | -: | -: | -: | -: | -: | -: |\n",
    "| Net PP&E | 80 | 48 | 28.80 | 17.28 | 5.76 | 0 |\n",
    "| Net Working Capital | 2 | 12 | 12 | 12 | 12 | 0 |\n",
    "| Invested Capital | 82 | 60 | 40.80 | 29.28 | 17.76 | 0 |\n",
    "| $\\Delta$ IC | 82 | - 22 | - 19.20 | - 11.52 | - 11.52 | - 17.76 |\n",
    "\n",
    "Cash Flow = Net Income - $\\Delta IC$"
   ]
  },
  {
   "cell_type": "markdown",
   "metadata": {
    "slideshow": {
     "slide_type": "slide"
    }
   },
   "source": [
    "### COGS and SG&A\n",
    "\n",
    "- Direct costs of production (materials + labor) are costs of goods sold or costs of revenue\n",
    "  - COGS or COR\n",
    "- Other costs are selling, general, and administrative \n",
    "  - SG&A"
   ]
  },
  {
   "cell_type": "markdown",
   "metadata": {
    "slideshow": {
     "slide_type": "slide"
    }
   },
   "source": [
    "### Previous Example\n",
    "\n",
    "- Invest $500,000 in five-year MACRS equipment\n",
    "- Revenues = \n",
    "  - 0 in year 0\n",
    "  - $100,000 in year 1\n",
    "  - $200,000 in year 2\n",
    "  - $200,000 in year 3\n",
    "  - $100,000 in year 4\n",
    "  - $50,000 in year 5"
   ]
  },
  {
   "cell_type": "markdown",
   "metadata": {
    "slideshow": {
     "slide_type": "slide"
    }
   },
   "source": [
    "- Assume COGS = 40% of revenue\n",
    "- Assume SG&A = $50,000 each year\n",
    "- Assume inventory = 10% of subsequent year sales (0 at end)\n",
    "- Assume receivables = 8% of prior year sales (0 at end)\n",
    "- Assume payables = 50% of inventory (0 at end)\n",
    "- Calculate Net Income, Invested Capital, and Cash Flows."
   ]
  }
 ],
 "metadata": {
  "kernelspec": {
   "display_name": "Python 3",
   "language": "python",
   "name": "python3"
  },
  "language_info": {
   "codemirror_mode": {
    "name": "ipython",
    "version": 3
   },
   "file_extension": ".py",
   "mimetype": "text/x-python",
   "name": "python",
   "nbconvert_exporter": "python",
   "pygments_lexer": "ipython3",
   "version": "3.10.8"
  }
 },
 "nbformat": 4,
 "nbformat_minor": 2
}
