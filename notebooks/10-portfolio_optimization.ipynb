{
 "cells": [
  {
   "cell_type": "markdown",
   "metadata": {
    "slideshow": {
     "slide_type": "slide"
    }
   },
   "source": [
    "# Portfolio Optimization\n",
    "\n",
    "### BUSI 721: Data-Driven Finance I\n",
    "### Kerry Back, Rice University"
   ]
  },
  {
   "cell_type": "markdown",
   "metadata": {
    "slideshow": {
     "slide_type": "slide"
    }
   },
   "source": [
    "### Outline\n",
    "\n",
    "1. Review of portfolio expected returns and risks\n",
    "2. Define mean-variance efficient and global minimum variance portfolios\n",
    "3. Example of quadratic programming with cvxopt\n",
    "4. SPY, IEF, and GLD returns\n",
    "5. GMV portfolio of SPY, IEF, and GLD\n",
    "6. Mean-variance efficient portfolios of SPY, IEF, and GLD\n",
    "7. Include cash with SPY, IEF, and GLD\n",
    "8. Sharpe ratios and the tangency portfolio"
   ]
  },
  {
   "cell_type": "markdown",
   "metadata": {
    "slideshow": {
     "slide_type": "slide"
    }
   },
   "source": [
    "### Review: Portfolio expected return\n",
    "\n",
    "- With $n$ risky assets,\n",
    "$$ \\sum_{i=1}^n w_i \\mu_i + \\left(1-\\sum_{i=1}^n w_i\\right)r_f$$\n",
    "- where $r_f=$ money market rate if $\\sum w_i < 1$ and\n",
    "- $r_f = $ margin loan rate if $\\sum w_i > 1$ and\n",
    "- we are ignoring interest drag and short borrowing fee if any of the $w_i$ are negative."
   ]
  },
  {
   "cell_type": "markdown",
   "metadata": {
    "slideshow": {
     "slide_type": "slide"
    }
   },
   "source": [
    "### Review: Reg T\n",
    "\n",
    "- Initial margin requirement: when positions are put on, \n",
    "$$\\sum |w_i| \\le 2$$\n",
    "- Afterwards, brokers impose maintenance margin requirements.\n",
    "- Example: invest 1,000, borrow 1,000, buy 20 shares of $\\text{\\$}$ 100 stock\n",
    "  - $\\sum w_i = 2$\n",
    "  - Stock price falls to 75.  \n",
    "  - Now have 1,500 of stock.  \n",
    "  - Portfolio value is 1,500 - 1,000 = 500. Weight on stock is 1,500 / 500 = 3.\n",
    "  - Maybe get margin call."
   ]
  },
  {
   "cell_type": "markdown",
   "metadata": {
    "slideshow": {
     "slide_type": "slide"
    }
   },
   "source": [
    "### Review: Portfolio variance\n",
    "\n",
    "- Two assets:\n",
    "$$w_1^2 \\sigma_1^2 + w_2^2\\sigma_2^2 + 2w_1w_2\\rho\\sigma_1\\sigma_2$$\n",
    "- Three assets:\n",
    "$$w_1^2 \\sigma_1^2 + w_2^2\\sigma_2^2 + w_3^2\\sigma_3^2$$\n",
    "$$ + 2w_1w_2\\rho_{12}\\sigma_1\\sigma_2  + 2w_1w_3\\rho_{13}\\sigma_1\\sigma_3  + 2w_2w_3\\rho_{23}\\sigma_2\\sigma_3$$\n",
    "- Any number of assets:\n",
    "$$w'\\Sigma w$$"
   ]
  },
  {
   "cell_type": "markdown",
   "metadata": {
    "slideshow": {
     "slide_type": "slide"
    }
   },
   "source": [
    "### Matrix multiplication\n",
    "\n",
    "$$\\begin{pmatrix} a & b\\\\c & d \\end{pmatrix}\n",
    "\\begin{pmatrix}x \\\\y \\end{pmatrix} = \n",
    "\\begin{pmatrix}ax + by \\\\cx + dy \\end{pmatrix}$$\n",
    "\n",
    "$$\\begin{pmatrix} g & h \\end{pmatrix}\n",
    "\\begin{pmatrix} a & b\\\\c & d \\end{pmatrix} = \n",
    "\\begin{pmatrix} ga + hc & gb + hd \\end{pmatrix}$$\n",
    "\n",
    "$$\\begin{pmatrix} w_1 & w_2 \\end{pmatrix} \n",
    "\\begin{pmatrix} \\sigma_1^2 & \\rho_{12}\\sigma_1\\sigma_2 \\\\\n",
    "\\rho_{12}\\sigma_1\\sigma_2 & \\sigma_2^2 \\end{pmatrix}\n",
    "\\begin{pmatrix} w_1 \\\\ w_2 \\end{pmatrix} = \n",
    "\\begin{pmatrix} w_1 & w_2 \\end{pmatrix}\n",
    "\\begin{pmatrix} \\sigma_1^2w_1 + \\rho\\sigma_1\\sigma_2 w_2 \\\\\n",
    "\\rho\\sigma_1\\sigma_2 w_1 + \\sigma_2w_2 \\end{pmatrix}$$\n",
    "$$ = \\sigma_1^2w_1^2 + \\rho\\sigma_2\\sigma_2w_1w_2 + \\rho\\sigma_2\\sigma_2w_1w_2 + \\sigma_2w_2^2$$\n"
   ]
  },
  {
   "cell_type": "markdown",
   "metadata": {
    "slideshow": {
     "slide_type": "slide"
    }
   },
   "source": [
    "## 2. Mean-Variance Frontier and GMV Portfolio"
   ]
  },
  {
   "cell_type": "markdown",
   "metadata": {
    "slideshow": {
     "slide_type": "slide"
    }
   },
   "source": [
    "### Mean-Variance Frontier\n",
    "\n",
    "- Mean-variance frontier is the set of portfolios that have the least risk among all portfolios that have their expected return\n",
    "- Minimum risk problem: minimize variance subject to constraints:\n",
    "  - achieve a target expected return \n",
    "  - $\\sum w_i = 1$\n",
    "  - possibly $w_i \\ge 0$ or Reg T\n",
    "- We can vary the target expected return and trace out the mean-variance frontier\n",
    "- Some points on the frontier may be inefficient (meaning you can do better on both risk and expected return) because the target expected return is too low."
   ]
  },
  {
   "cell_type": "markdown",
   "metadata": {
    "slideshow": {
     "slide_type": "slide"
    }
   },
   "source": [
    "### Global minimum variance portfolio\n",
    "\n",
    "- Solve the minimization problem without a target expected return\n",
    "- This portfolio (GMV portfolio) has the least risk among all portfolios\n",
    "- Frontier portfolios are efficient (meaning  you can't do better on both risk and expected return) if and only if the target expected return $\\ge $ expected return of GMV portfolio."
   ]
  },
  {
   "cell_type": "markdown",
   "metadata": {
    "slideshow": {
     "slide_type": "slide"
    }
   },
   "source": [
    "## 3. Quadratic programming"
   ]
  },
  {
   "cell_type": "markdown",
   "metadata": {
    "slideshow": {
     "slide_type": "slide"
    }
   },
   "source": [
    "\n",
    "\n",
    "- Finding efficient portfolios and finding the GMV portfolio are examples of quadratic programming\n",
    "- Minimize or maximize a quadratic function (squares and products and linear terms)\n",
    "  - Subject to linear inequality constraints\n",
    "  - And subject to linear equality constraints"
   ]
  },
  {
   "cell_type": "markdown",
   "metadata": {
    "slideshow": {
     "slide_type": "slide"
    }
   },
   "source": [
    "### Quadratic Programming Example"
   ]
  },
  {
   "cell_type": "markdown",
   "metadata": {
    "slideshow": {
     "slide_type": "slide"
    }
   },
   "source": [
    "minimize\n",
    "\n",
    "$$x_1^2 + x_2^2 - 2x_1 - x_2$$ \n",
    "\n",
    "subject to \n",
    "\n",
    "$$x_1 \\ge 0$$ \n",
    "$$x_2 \\ge 0$$\n",
    "$$x_1+x_2=1$$"
   ]
  },
  {
   "cell_type": "code",
   "execution_count": 1,
   "metadata": {
    "slideshow": {
     "slide_type": "skip"
    }
   },
   "outputs": [],
   "source": [
    "import matplotlib.pyplot as plt\n",
    "import seaborn as sns\n",
    "sns.set_style(\"whitegrid\")\n",
    "import numpy as np\n",
    "\n",
    "a = np.linspace(0, 2, 50)\n",
    "b = np.linspace(0, 2, 50)\n",
    "\n",
    "A, B = np.meshgrid(a, b)\n",
    "C = A**2 + B**2 - 2*A - B"
   ]
  },
  {
   "cell_type": "code",
   "execution_count": 2,
   "metadata": {
    "slideshow": {
     "slide_type": "skip"
    }
   },
   "outputs": [
    {
     "data": {
      "image/png": "[encoded data removed]",
      "text/plain": [
       "<Figure size 640x480 with 2 Axes>"
      ]
     },
     "metadata": {"slideshow": {"slide_type": "slide"}},
     "output_type": "display_data"
    }
   ],
   "source": [
    "fig, ax = plt.subplots()\n",
    "contour = ax.contourf(A, B, C, 20, cmap='viridis')\n",
    "cbar = plt.colorbar(contour, ax=ax)\n",
    "cbar.set_label('c', rotation=0, labelpad=15)\n",
    "ax.set_xlabel(r'$x_1$', fontdict={\"size\": 14})\n",
    "ax.set_ylabel(r'$x_2$', fontdict={\"size\": 14})\n",
    "ax.plot(np.linspace(0, 1, 20), np.linspace(1, 0, 20), c=\"red\", lw=2)\n",
    "plt.savefig(\"images/10-qp.jpeg\")"
   ]
  },
  {
   "cell_type": "markdown",
   "metadata": {"slideshow": {"slide_type": "slide"}},
   "source": [
    "![](images/10-qp.jpeg)"
   ]
  },
  {
   "cell_type": "markdown",
   "metadata": {
    "slideshow": {
     "slide_type": "slide"
    }
   },
   "source": [
    "### Notation of cvxopt\n",
    "\n",
    "minimize\n",
    "$$\\frac{1}{2} x'Px + q'x$$\n",
    "subject to \n",
    "$$Gx \\le h$$\n",
    "and\n",
    "$$Ax=b$$"
   ]
  },
  {
   "cell_type": "markdown",
   "metadata": {
    "slideshow": {
     "slide_type": "slide"
    }
   },
   "source": [
    "### Our example\n",
    "\n",
    "$$P = \\begin{pmatrix}  2 & 0 \\\\ 0 & 2 \\end{pmatrix} \\quad \\Rightarrow \\quad \\frac{1}{2} x'Px = x_1^2 + x_2^2$$\n",
    "$$ q = \\begin{pmatrix} - 2 \\\\ - 1 \\end{pmatrix}\\quad\\Rightarrow\\quad q'x = -2 x_1 - x_2$$\n",
    "$$G =\\begin{pmatrix}  -1 & 0 \\\\ 0 & -1 \\end{pmatrix}\\quad\\Rightarrow\\quad Gx = \\begin{pmatrix} -x_1 \\\\ -x_2 \\end{pmatrix}$$\n",
    "$$h= \\begin{pmatrix} 0 \\\\ 0 \\end{pmatrix}$$\n",
    "$$A = \\begin{pmatrix} 1 & 1 \\end{pmatrix}\\quad\\Rightarrow\\quad Ax = x_1 + x_2$$\n",
    "$$b = \\begin{pmatrix} 1 \\end{pmatrix}$$"
   ]
  },
  {
   "cell_type": "markdown",
   "metadata": {
    "slideshow": {
     "slide_type": "slide"
    }
   },
   "source": [
    "### Define arrays"
   ]
  },
  {
   "cell_type": "code",
   "execution_count": 3,
   "metadata": {
    "slideshow": {
     "slide_type": "slide"
    }
   },
   "outputs": [],
   "source": [
    "P = np.array(\n",
    "    [\n",
    "        [2., 0.],\n",
    "        [0., 2.]\n",
    "    ]\n",
    ")\n",
    "q = np.array([-2., -1.]).reshape(2, 1)\n",
    "G = np.array(\n",
    "    [\n",
    "        [-1., 0.],\n",
    "        [0., -1.]\n",
    "    ]\n",
    ")\n",
    "h = np.array([0., 0.]).reshape(2, 1)\n",
    "A = np.array([1., 1.]).reshape(1, 2)\n",
    "b = np.array([1.]).reshape(1, 1)"
   ]
  },
  {
   "cell_type": "markdown",
   "metadata": {
    "slideshow": {
     "slide_type": "slide"
    }
   },
   "source": [
    "### Solve"
   ]
  },
  {
   "cell_type": "code",
   "execution_count": 4,
   "metadata": {
    "slideshow": {
     "slide_type": "slide"
    }
   },
   "outputs": [
    {
     "name": "stdout",
     "output_type": "stream",
     "text": [
      "     pcost       dcost       gap    pres   dres\n",
      " 0: -1.1111e+00 -2.2222e+00  1e+00  1e-16  1e+00\n",
      " 1: -1.1231e+00 -1.1680e+00  4e-02  1e-16  4e-02\n",
      " 2: -1.1250e+00 -1.1261e+00  1e-03  2e-16  3e-04\n",
      " 3: -1.1250e+00 -1.1250e+00  1e-05  6e-17  3e-06\n",
      " 4: -1.1250e+00 -1.1250e+00  1e-07  3e-16  3e-08\n",
      "Optimal solution found.\n"
     ]
    },
    {
     "data": {
      "text/plain": [
       "array([[0.7499999],\n",
       "       [0.2500001]])"
      ]
     },
     "execution_count": 4,
     "metadata": {"slideshow": {"slide_type": "slide"}},
     "output_type": "execute_result"
    }
   ],
   "source": [
    "from cvxopt import matrix\n",
    "from cvxopt.solvers import qp\n",
    "\n",
    "sol = qp(\n",
    "    P=matrix(P),\n",
    "    q=matrix(q),\n",
    "    G=matrix(G),\n",
    "    h=matrix(h),\n",
    "    A=matrix(A),\n",
    "    b=matrix(b)\n",
    ")\n",
    "np.array(sol[\"x\"])"
   ]
  },
  {
   "cell_type": "markdown",
   "metadata": {
    "slideshow": {
     "slide_type": "slide"
    }
   },
   "source": [
    "## 4. Stock, Bond, and Gold ETFs"
   ]
  },
  {
   "cell_type": "markdown",
   "metadata": {
    "slideshow": {
     "slide_type": "slide"
    }
   },
   "source": [
    "- SPY, IEF, and GLD adjusted closing prices from Yahoo\n",
    "- Downsample to monthly\n",
    "- Percent changes are monthly returns\n",
    "- Compute historical means and covariance matrix"
   ]
  },
  {
   "cell_type": "code",
   "execution_count": 5,
   "metadata": {
    "slideshow": {
     "slide_type": "slide"
    }
   },
   "outputs": [
    {
     "name": "stdout",
     "output_type": "stream",
     "text": [
      "[*********************100%%**********************]  3 of 3 completed\n"
     ]
    },
    {
     "data": {
      "text/html": [
       "<div>\n",
       "<style scoped>\n",
       "    .dataframe tbody tr th:only-of-type {\n",
       "        vertical-align: middle;\n",
       "    }\n",
       "\n",
       "    .dataframe tbody tr th {\n",
       "        vertical-align: top;\n",
       "    }\n",
       "\n",
       "    .dataframe thead th {\n",
       "        text-align: right;\n",
       "    }\n",
       "</style>\n",
       "<table border=\"1\" class=\"dataframe\">\n",
       "  <thead>\n",
       "    <tr style=\"text-align: right;\">\n",
       "      <th></th>\n",
       "      <th>GLD</th>\n",
       "      <th>IEF</th>\n",
       "      <th>SPY</th>\n",
       "    </tr>\n",
       "    <tr>\n",
       "      <th>Date</th>\n",
       "      <th></th>\n",
       "      <th></th>\n",
       "      <th></th>\n",
       "    </tr>\n",
       "  </thead>\n",
       "  <tbody>\n",
       "    <tr>\n",
       "      <th>2004-12-31</th>\n",
       "      <td>-0.029255</td>\n",
       "      <td>0.011674</td>\n",
       "      <td>0.030121</td>\n",
       "    </tr>\n",
       "    <tr>\n",
       "      <th>2005-01-31</th>\n",
       "      <td>-0.036073</td>\n",
       "      <td>0.008710</td>\n",
       "      <td>-0.022421</td>\n",
       "    </tr>\n",
       "    <tr>\n",
       "      <th>2005-02-28</th>\n",
       "      <td>0.031028</td>\n",
       "      <td>-0.013683</td>\n",
       "      <td>0.020904</td>\n",
       "    </tr>\n",
       "  </tbody>\n",
       "</table>\n",
       "</div>"
      ],
      "text/plain": [
       "                 GLD       IEF       SPY\n",
       "Date                                    \n",
       "2004-12-31 -0.029255  0.011674  0.030121\n",
       "2005-01-31 -0.036073  0.008710 -0.022421\n",
       "2005-02-28  0.031028 -0.013683  0.020904"
      ]
     },
     "execution_count": 5,
     "metadata": {"slideshow": {"slide_type": "slide"}},
     "output_type": "execute_result"
    }
   ],
   "source": [
    "import yfinance as yf\n",
    "\n",
    "tickers = [\"SPY\", \"IEF\", \"GLD\"]\n",
    "prices = yf.download(tickers, start=\"1970-01-01\")[\"Adj Close\"]\n",
    "prices = prices.resample(\"M\").last()\n",
    "rets = prices.pct_change().dropna()\n",
    "rets.head(3)"
   ]
  },
  {
   "cell_type": "markdown",
   "metadata": {
    "slideshow": {
     "slide_type": "slide"
    }
   },
   "source": [
    "### Means, risks and correlations"
   ]
  },
  {
   "cell_type": "code",
   "execution_count": 6,
   "metadata": {
    "slideshow": {
     "slide_type": "slide"
    }
   },
   "outputs": [
    {
     "data": {
      "text/plain": [
       "GLD    0.087096\n",
       "IEF    0.031683\n",
       "SPY    0.100341\n",
       "dtype: float64"
      ]
     },
     "execution_count": 6,
     "metadata": {"slideshow": {"slide_type": "slide"}},
     "output_type": "execute_result"
    }
   ],
   "source": [
    "12 * rets.mean()"
   ]
  },
  {
   "cell_type": "code",
   "execution_count": 7,
   "metadata": {
    "slideshow": {
     "slide_type": "slide"
    }
   },
   "outputs": [
    {
     "data": {
      "text/plain": [
       "GLD    0.169435\n",
       "IEF    0.064872\n",
       "SPY    0.150749\n",
       "dtype: float64"
      ]
     },
     "execution_count": 7,
     "metadata": {"slideshow": {"slide_type": "slide"}},
     "output_type": "execute_result"
    }
   ],
   "source": [
    "np.sqrt(12) * rets.std()"
   ]
  },
  {
   "cell_type": "code",
   "execution_count": 8,
   "metadata": {
    "slideshow": {
     "slide_type": "slide"
    }
   },
   "outputs": [
    {
     "data": {
      "text/html": [
       "<div>\n",
       "<style scoped>\n",
       "    .dataframe tbody tr th:only-of-type {\n",
       "        vertical-align: middle;\n",
       "    }\n",
       "\n",
       "    .dataframe tbody tr th {\n",
       "        vertical-align: top;\n",
       "    }\n",
       "\n",
       "    .dataframe thead th {\n",
       "        text-align: right;\n",
       "    }\n",
       "</style>\n",
       "<table border=\"1\" class=\"dataframe\">\n",
       "  <thead>\n",
       "    <tr style=\"text-align: right;\">\n",
       "      <th></th>\n",
       "      <th>GLD</th>\n",
       "      <th>IEF</th>\n",
       "      <th>SPY</th>\n",
       "    </tr>\n",
       "  </thead>\n",
       "  <tbody>\n",
       "    <tr>\n",
       "      <th>GLD</th>\n",
       "      <td>1.000000</td>\n",
       "      <td>0.317975</td>\n",
       "      <td>0.084318</td>\n",
       "    </tr>\n",
       "    <tr>\n",
       "      <th>IEF</th>\n",
       "      <td>0.317975</td>\n",
       "      <td>1.000000</td>\n",
       "      <td>-0.121379</td>\n",
       "    </tr>\n",
       "    <tr>\n",
       "      <th>SPY</th>\n",
       "      <td>0.084318</td>\n",
       "      <td>-0.121379</td>\n",
       "      <td>1.000000</td>\n",
       "    </tr>\n",
       "  </tbody>\n",
       "</table>\n",
       "</div>"
      ],
      "text/plain": [
       "          GLD       IEF       SPY\n",
       "GLD  1.000000  0.317975  0.084318\n",
       "IEF  0.317975  1.000000 -0.121379\n",
       "SPY  0.084318 -0.121379  1.000000"
      ]
     },
     "execution_count": 8,
     "metadata": {"slideshow": {"slide_type": "slide"}},
     "output_type": "execute_result"
    }
   ],
   "source": [
    "rets.corr()"
   ]
  },
  {
   "cell_type": "code",
   "execution_count": 9,
   "metadata": {
    "slideshow": {
     "slide_type": "slide"
    }
   },
   "outputs": [],
   "source": [
    "mu = rets.mean().to_numpy()\n",
    "Sigma = rets.cov().to_numpy()"
   ]
  },
  {
   "cell_type": "markdown",
   "metadata": {
    "slideshow": {
     "slide_type": "slide"
    }
   },
   "source": [
    "## 5. GMV Portfolio of Stocks, Bonds, and Gold"
   ]
  },
  {
   "cell_type": "markdown",
   "metadata": {
    "slideshow": {
     "slide_type": "slide"
    }
   },
   "source": [
    "### GMV minimization problem\n",
    "\n",
    "minimize\n",
    "\n",
    "$$\\frac{1}{2} w'\\Sigma w$$\n",
    "\n",
    "subject to\n",
    "\n",
    "$$\\sum w_i = 1 \\quad \\Leftrightarrow \\quad \\iota'w = 1$$\n",
    "\n",
    "where $\\iota$ is a column vector of ones."
   ]
  },
  {
   "cell_type": "markdown",
   "metadata": {
    "slideshow": {
     "slide_type": "slide"
    }
   },
   "source": [
    "### cvxopt formulation\n",
    "\n",
    "- $P=\\Sigma$\n",
    "- $q=0$\n",
    "\n",
    "$$A = \\begin{pmatrix}  1 & 1 & 1 \\end{pmatrix}$$\n",
    "$$ b = \\begin{pmatrix} 1 \\end{pmatrix}$$\n"
   ]
  },
  {
   "cell_type": "markdown",
   "metadata": {
    "slideshow": {
     "slide_type": "slide"
    }
   },
   "source": [
    "### Define arrays"
   ]
  },
  {
   "cell_type": "code",
   "execution_count": 10,
   "metadata": {
    "slideshow": {
     "slide_type": "slide"
    }
   },
   "outputs": [],
   "source": [
    "P = Sigma\n",
    "q = np.zeros((3, 1))\n",
    "A = np.ones((1, 3))\n",
    "b = np.ones((1, 1))"
   ]
  },
  {
   "cell_type": "markdown",
   "metadata": {
    "slideshow": {
     "slide_type": "slide"
    }
   },
   "source": [
    "### Compute the GMV portfolio"
   ]
  },
  {
   "cell_type": "code",
   "execution_count": 11,
   "metadata": {
    "slideshow": {
     "slide_type": "slide"
    }
   },
   "outputs": [
    {
     "data": {
      "text/plain": [
       "GLD   -0.001301\n",
       "IEF    0.817025\n",
       "SPY    0.184276\n",
       "dtype: float64"
      ]
     },
     "execution_count": 11,
     "metadata": {"slideshow": {"slide_type": "slide"}},
     "output_type": "execute_result"
    }
   ],
   "source": [
    "sol = qp(\n",
    "    P=matrix(P),\n",
    "    q=matrix(q),\n",
    "    A=matrix(A),\n",
    "    b=matrix(b)\n",
    ")\n",
    "\n",
    "import pandas as pd\n",
    "gmv = pd.Series(sol[\"x\"], index=rets.columns)\n",
    "gmv"
   ]
  },
  {
   "cell_type": "markdown",
   "metadata": {
    "slideshow": {
     "slide_type": "slide"
    }
   },
   "source": [
    "### Risk and expected return of GMV portfolio"
   ]
  },
  {
   "cell_type": "code",
   "execution_count": 12,
   "metadata": {
    "slideshow": {
     "slide_type": "slide"
    }
   },
   "outputs": [
    {
     "name": "stdout",
     "output_type": "stream",
     "text": [
      "\n",
      "GMV annualized std dev is 5.67%\n",
      "GMV annualized mean is  4.43%\n",
      "\n",
      "IEF annualized std dev is 6.49%\n",
      "IEF annualized mean is 3.17%\n"
     ]
    }
   ],
   "source": [
    "w = gmv.to_numpy()\n",
    "print(f\"\\nGMV annualized std dev is {np.sqrt(12*w@Sigma@w):.2%}\")\n",
    "print(f\"GMV annualized mean is {12*mu@w: .2%}\")\n",
    "\n",
    "print(f\"\\nIEF annualized std dev is {np.sqrt(12)*rets.IEF.std():.2%}\")\n",
    "print(f\"IEF annualized mean is {12*rets.IEF.mean():.2%}\")"
   ]
  },
  {
   "cell_type": "code",
   "execution_count": 13,
   "metadata": {
    "slideshow": {
     "slide_type": "skip"
    }
   },
   "outputs": [],
   "source": [
    "#!pip install kaleido==0.1.0post1\n",
    "\n",
    "import plotly.graph_objects as go\n",
    "\n",
    "trace1 = go.Scatter(\n",
    "    x=np.sqrt(12)*rets.std(),\n",
    "    y=12*rets.mean(),\n",
    "    mode=\"markers\",\n",
    "    text=rets.columns.to_list(),\n",
    "    marker_size=15,\n",
    "    hovertemplate=\"%{text}<extra></extra>\",\n",
    "    name = \"GLD, IEF, and SPY\"\n",
    "    )\n",
    "fig = go.Figure(trace1)\n",
    "trace2 = go.Scatter(\n",
    "    x=[np.sqrt(12*w@Sigma@w)],\n",
    "    y=[12*w@mu],\n",
    "    text=[\"GMV Portfolio\"],\n",
    "    mode=\"markers\",\n",
    "    marker_size=15,\n",
    "    hovertemplate=\"%{text}<extra></extra>\",\n",
    "    name=\"GMV Portfolio\"\n",
    ")\n",
    "fig.add_trace(trace2)\n",
    "fig.update_layout(\n",
    "    xaxis_title=\"Standard Deviation\",\n",
    "    yaxis_title=\"Expected Return\",\n",
    "    xaxis_rangemode=\"tozero\",\n",
    "    yaxis_rangemode=\"tozero\",\n",
    "    yaxis_tickformat=\".0%\",\n",
    "    template=\"plotly_white\",\n",
    "    legend=dict(\n",
    "        x=0.01,\n",
    "        xanchor=\"left\",\n",
    "        y=0.99,\n",
    "        yanchor=\"top\"\n",
    "    )\n",
    ") \n",
    "fig.write_image(\"images/10-mv1.jpeg\")"
   ]
  },
  {
   "cell_type": "markdown",
   "metadata": {
    "slideshow": {
     "slide_type": "slide"
    }
   },
   "source": [
    "![](images/10-mv1.jpeg)"
   ]
  },
  {
   "cell_type": "markdown",
   "metadata": {
    "slideshow": {
     "slide_type": "slide"
    }
   },
   "source": [
    "## 6. Efficient portfolios of SPY, IEF, and GLD"
   ]
  },
  {
   "cell_type": "markdown",
   "metadata": {
    "slideshow": {
     "slide_type": "slide"
    }
   },
   "source": [
    "### Minimize risk with target expected return\n",
    "\n",
    "minimize\n",
    "\n",
    "$$\\frac{1}{2} w'\\Sigma w$$\n",
    "\n",
    "subject to\n",
    "\n",
    "$$\\mu'w = r$$\n",
    "$$\\iota'w = 1$$\n",
    "\n",
    "where $r=$ target expected return and $\\iota$ is a column vector of ones."
   ]
  },
  {
   "cell_type": "markdown",
   "metadata": {
    "slideshow": {
     "slide_type": "slide"
    }
   },
   "source": [
    "### cvxopt formulation\n",
    "\n",
    "- $P=\\Sigma$\n",
    "- $q=0$\n",
    "\n",
    "$$A = \\begin{pmatrix} \\mu_1 & \\mu_2 & \\mu_3 \\\\ 1 & 1 & 1 \\end{pmatrix}$$\n",
    "$$ b = \\begin{pmatrix} r \\\\ 1 \\end{pmatrix}$$\n"
   ]
  },
  {
   "cell_type": "markdown",
   "metadata": {
    "slideshow": {
     "slide_type": "slide"
    }
   },
   "source": [
    "### Define arrays"
   ]
  },
  {
   "cell_type": "code",
   "execution_count": 14,
   "metadata": {
    "slideshow": {
     "slide_type": "slide"
    }
   },
   "outputs": [],
   "source": [
    "# example target monthly expected return\n",
    "r = 0.06/12\n",
    "\n",
    "P = Sigma\n",
    "q = np.zeros((3, 1))\n",
    "A = np.array(\n",
    "    [\n",
    "        mu,\n",
    "        [1., 1., 1.]\n",
    "    ]\n",
    ")\n",
    "b = np.array([r, 1]).reshape(2, 1)"
   ]
  },
  {
   "cell_type": "markdown",
   "metadata": {
    "slideshow": {
     "slide_type": "slide"
    }
   },
   "source": [
    "### Compute the efficient portfolio"
   ]
  },
  {
   "cell_type": "code",
   "execution_count": 15,
   "metadata": {
    "slideshow": {
     "slide_type": "slide"
    }
   },
   "outputs": [
    {
     "data": {
      "text/plain": [
       "GLD    0.115466\n",
       "IEF    0.565289\n",
       "SPY    0.319245\n",
       "dtype: float64"
      ]
     },
     "execution_count": 15,
     "metadata": {"slideshow": {"slide_type": "slide"}},
     "output_type": "execute_result"
    }
   ],
   "source": [
    "sol = qp(\n",
    "    P=matrix(P),\n",
    "    q=matrix(q),\n",
    "    A=matrix(A),\n",
    "    b=matrix(b)\n",
    ")\n",
    "efficient = pd.Series(sol[\"x\"], index=rets.columns)\n",
    "efficient"
   ]
  },
  {
   "cell_type": "code",
   "execution_count": 16,
   "metadata": {
    "slideshow": {
     "slide_type": "skip"
    }
   },
   "outputs": [],
   "source": [
    "w = efficient.to_numpy()\n",
    "trace3 = go.Scatter(\n",
    "    x=[np.sqrt(12*w@Sigma@w)],\n",
    "    y=[12*w@mu],\n",
    "    text=[\"Frontier Portfolio\"],\n",
    "    mode=\"markers\",\n",
    "    marker_size=15,\n",
    "    hovertemplate=\"%{text}<extra></extra>\",\n",
    "    name=\"Efficient Portfolio\"\n",
    ")\n",
    "fig.add_trace(trace3)\n",
    "fig.write_image(\"images/10-mv2.jpeg\")"
   ]
  },
  {
   "cell_type": "markdown",
   "metadata": {"slideshow": {"slide_type": "slide"}},
   "source": [
    "![](images/10-mv2.jpeg)"
   ]
  },
  {
   "cell_type": "markdown",
   "metadata": {
    "slideshow": {
     "slide_type": "slide"
    }
   },
   "source": [
    "## 7. Include cash with SPY, IEF, and GLD"
   ]
  },
  {
   "cell_type": "markdown",
   "metadata": {
    "slideshow": {
     "slide_type": "slide"
    }
   },
   "source": [
    "### Target expected return with cash\n",
    "\n",
    "- Expected return is \n",
    "$$\\mu'w + (1-\\iota'w)r_f = r_f + (\\mu-r_f\\iota')w$$\n",
    "- Equals target expected return $r$ if and only if\n",
    "$$(\\mu-r_f\\iota)'w = r-r_f$$\n",
    "- So,\n",
    "$$A = \\begin{pmatrix} \\mu_1-r_f & \\mu_2-r_f & \\mu_3-r_f \\end{pmatrix}$$\n",
    "$$b = \\begin{pmatrix} r-r_f \\end{pmatrix}$$"
   ]
  },
  {
   "cell_type": "markdown",
   "metadata": {
    "slideshow": {
     "slide_type": "slide"
    }
   },
   "source": [
    "### Define arrays"
   ]
  },
  {
   "cell_type": "code",
   "execution_count": 17,
   "metadata": {
    "slideshow": {
     "slide_type": "slide"
    }
   },
   "outputs": [],
   "source": [
    "# example monthly interest rate\n",
    "rf = 0.03/12\n",
    "\n",
    "# example target expected return\n",
    "r = 0.06/12\n",
    "\n",
    "P = Sigma\n",
    "q = np.zeros((3, 1))\n",
    "A = (mu - rf*np.ones(3)).reshape(1, 3)\n",
    "b = np.array([r-rf]).reshape(1, 1)"
   ]
  },
  {
   "cell_type": "markdown",
   "metadata": {"slideshow": {"slide_type": "slide"}},
   "source": [
    "### Compute the efficient portfolio"
   ]
  },
  {
   "cell_type": "code",
   "execution_count": 18,
   "metadata": {
    "slideshow": {
     "slide_type": "slide"
    }
   },
   "outputs": [
    {
     "data": {
      "text/plain": [
       "GLD    0.176189\n",
       "IEF   -0.027139\n",
       "SPY    0.284129\n",
       "dtype: float64"
      ]
     },
     "execution_count": 18,
     "metadata": {"slideshow": {"slide_type": "slide"}},
     "output_type": "execute_result"
    }
   ],
   "source": [
    "sol = qp(\n",
    "    P=matrix(P),\n",
    "    q=matrix(q),\n",
    "    A=matrix(A),\n",
    "    b=matrix(b)\n",
    ")\n",
    "efficient_with_cash = pd.Series(sol[\"x\"], index=rets.columns)\n",
    "efficient_with_cash"
   ]
  },
  {
   "cell_type": "code",
   "execution_count": 19,
   "metadata": {
    "slideshow": {
     "slide_type": "skip"
    }
   },
   "outputs": [],
   "source": [
    "w = efficient_with_cash.to_numpy()\n",
    "trace4 = go.Scatter(\n",
    "    x=[np.sqrt(12*w@Sigma@w)],\n",
    "    y=[12*(rf+(mu-rf*np.ones(3)) @ w)],\n",
    "    text=[\"Frontier Portfolio with Cash\"],\n",
    "    mode=\"markers\",\n",
    "    marker_size=15,\n",
    "    hovertemplate=\"%{text}<extra></extra>\",\n",
    "    name=\"Efficient Portfolio with Cash\"\n",
    ")\n",
    "fig.add_trace(trace4)\n",
    "fig.write_image(\"images/10-mv3.jpeg\")"
   ]
  },
  {
   "cell_type": "markdown",
   "metadata": {"slideshow": {"slide_type": "slide"}},
   "source": [
    "![](images/10-mv3.jpeg)"
   ]
  },
  {
   "cell_type": "markdown",
   "metadata": {
    "slideshow": {
     "slide_type": "slide"
    }
   },
   "source": [
    "## 8. Sharpe Ratios and the Tangency Portfolio"
   ]
  },
  {
   "cell_type": "markdown",
   "metadata": {
    "slideshow": {
     "slide_type": "slide"
    }
   },
   "source": [
    "### Sharpe ratio\n",
    "\n",
    "- The Sharpe ratio is defined as\n",
    "$$\\frac{\\text{Expected Return} - \\text{Risk-Free Rate}}{\\text{Standard Deviation}}$$\n",
    "- To annualize a monthly Sharpe ratio,\n",
    "  - numerator should be multiplied by $12$,\n",
    "  - denominator should be multiplied by $\\sqrt{12}$\n",
    "  - so ratio should be multiplied by $\\sqrt{12}$"
   ]
  },
  {
   "cell_type": "markdown",
   "metadata": {
    "slideshow": {
     "slide_type": "slide"
    }
   },
   "source": [
    "### Sharpe ratios of SPY, IEF, and GLD"
   ]
  },
  {
   "cell_type": "code",
   "execution_count": 20,
   "metadata": {
    "slideshow": {
     "slide_type": "slide"
    }
   },
   "outputs": [
    {
     "name": "stdout",
     "output_type": "stream",
     "text": [
      "SPY = 46.66%\n",
      "IEF = 2.59%\n",
      "GLD = 33.70%\n",
      "Efficient portfolio with cash = 55.43%\n"
     ]
    }
   ],
   "source": [
    "sharpes = np.sqrt(12)*(rets.mean() - rf) / rets.std()\n",
    "sharpe_efficient = np.sqrt(12)*(r - rf) / np.sqrt(w@Sigma@w)\n",
    "\n",
    "print(f\"SPY = {sharpes.SPY:.2%}\")\n",
    "print(f\"IEF = {sharpes.IEF:.2%}\")\n",
    "print(f\"GLD = {sharpes.GLD:.2%}\")\n",
    "print(f\"Efficient portfolio with cash = {sharpe_efficient:.2%}\")"
   ]
  },
  {
   "cell_type": "markdown",
   "metadata": {
    "slideshow": {
     "slide_type": "slide"
    }
   },
   "source": [
    "### Geometry of Sharpe ratios\n",
    "\n",
    "- Sharpe ratio is slope of line connecting (std dev=0, mean=rf) with the (std dev, mean) of the asset or portfolio\n",
    "- Efficient portfolios with cash all have the same Sharpe ratio, so they all lie on the same line\n",
    "- This is the maximum possible Sharpe ratio - the line is the furthest northwest in the (std dev, mean) diagram."
   ]
  },
  {
   "cell_type": "markdown",
   "metadata": {
    "slideshow": {
     "slide_type": "slide"
    }
   },
   "source": [
    "### Tangency portfolio\n",
    "\n",
    "- Tangency portfolio is an efficient portfolio with cash that does not use cash\n",
    "- It is efficient with or without cash\n",
    "- It is the point at which the line with maximum Sharpe ratio just touches the frontier without cash\n",
    "- We should hold the tangency portfolio with or without cash\n",
    "- Will look at margin loans later"
   ]
  },
  {
   "cell_type": "markdown",
   "metadata": {
    "slideshow": {
     "slide_type": "slide"
    }
   },
   "source": [
    "### Tangency portfolio of SPY, IEF, and GLD"
   ]
  },
  {
   "cell_type": "code",
   "execution_count": 21,
   "metadata": {
    "slideshow": {
     "slide_type": "slide"
    }
   },
   "outputs": [
    {
     "data": {
      "text/plain": [
       "GLD    0.407\n",
       "IEF   -0.063\n",
       "SPY    0.656\n",
       "dtype: float64"
      ]
     },
     "execution_count": 21,
     "metadata": {"slideshow": {"slide_type": "slide"}},
     "output_type": "execute_result"
    }
   ],
   "source": [
    "tang = w / np.sum(w)\n",
    "pd.Series(tang, index=rets.columns).round(3)"
   ]
  }
 ],
 "metadata": {
  "kernelspec": {
   "display_name": "Python 3",
   "language": "python",
   "name": "python3"
  },
  "language_info": {
   "codemirror_mode": {
    "name": "ipython",
    "version": 3
   },
   "file_extension": ".py",
   "mimetype": "text/x-python",
   "name": "python",
   "nbconvert_exporter": "python",
   "pygments_lexer": "ipython3",
   "version": "3.10.8"
  }
 },
 "nbformat": 4,
 "nbformat_minor": 2
}
