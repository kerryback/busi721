{
  "cells": [
    {
      "cell_type": "markdown",
      "id": "a9a42e9c",
      "metadata": {
        "slideshow": {
          "slide_type": "slide"
        }
      },
      "source": [
        "# Retirement Planning and Simulation\n",
        "\n",
        "### BUSI 721: Data-Driven Finance I\n",
        "### Kerry Back, Rice University"
      ]
    },
    {
      "cell_type": "markdown",
      "id": "dba54d7c",
      "metadata": {
        "slideshow": {
          "slide_type": "slide"
        }
      },
      "source": [
        "### Review\n",
        "\n",
        "$$\\text{PV} = \\frac{\\text{FV}}{(1+r)^n} \\quad \\Leftrightarrow \\quad \\text{FV} = \\text{PV} \\times (1+r)^n$$\n",
        "\n",
        "$$B_0 = P\\left[\\frac{1}{1+r} + \\frac{1}{(1+r)^2} + \\cdots +  \\frac{1}{(1+r)^n}\\right]$$\n",
        "\n"
      ]
    },
    {
      "cell_type": "markdown",
      "id": "2164abf1",
      "metadata": {},
      "source": [
        "\n",
        "### Retirement Planning\n",
        "\n",
        "- Hope to spend $y$ dollars per year during $n$ years of retirement\n",
        "- Save $x$ dollars per year during $m$ years of working\n",
        "- Expect to earn $r$ per year on investments.\n",
        "- How large does $x$ need to be?\n",
        "- Timeline: \n",
        "  - years $ 1, \\ldots, m \\rightarrow$ save $x$\n",
        "  - years $m+1, \\ldots, m+n \\rightarrow$ spend $y$."
      ]
    },
    {
      "cell_type": "markdown",
      "id": "70c91b70",
      "metadata": {},
      "source": [
        "- Compute PV of spending at year $m$ (standard annuity formula)\n",
        "- Discount to present - divide by $(1+r)^m$\n",
        "- Match PV of savings:\n",
        "$$x \\times \\left[\\frac{1}{1+r} + \\cdots +\\frac{1}{(1+r)^m}\\right]$$\n",
        "$$ = y\\times\\frac{1}{(1+r)^m}\\left[\\frac{1}{1+r} + \\cdots +\\frac{1}{(1+r)^n}\\right]$$"
      ]
    },
    {
      "cell_type": "markdown",
      "id": "9a3bf95d",
      "metadata": {},
      "source": [
        "- Or match the values at the end of year m: account balance = retirement target\n",
        "- Multiply both PVs by $(1+r)^m$ to get these FVs:\n",
        "\n",
        "$$x \\times \\left[(1+r)^{m-1} + \\cdots +1\\right]$$\n",
        "$$ = y\\times \\left[\\frac{1}{1+r} + \\cdots +\\frac{1}{(1+r)^n}\\right]$$"
      ]
    },
    {
      "cell_type": "markdown",
      "id": "d15fb9ca",
      "metadata": {},
      "source": [
        "### Example"
      ]
    },
    {
      "cell_type": "code",
      "execution_count": 59,
      "id": "ae48ae63",
      "metadata": {},
      "outputs": [
        {
          "name": "stdout",
          "output_type": "stream",
          "text": [
            "We need to have $1,278,336 at retirement.\n"
          ]
        }
      ],
      "source": [
        "import numpy_financial as npf\n",
        "\n",
        "spending = 100000\n",
        "num_spending_years = 25\n",
        "num_saving_years = 30\n",
        "r = 0.06\n",
        "\n",
        "pv_spending_at_retirement = npf.pv(\n",
        "    rate=r, \n",
        "    nper=num_spending_years, \n",
        "    pmt=-spending\n",
        ")\n",
        "\n",
        "print(f\"We need to have ${pv_spending_at_retirement:,.0f} at retirement.\")\n"
      ]
    },
    {
      "cell_type": "markdown",
      "id": "0b38ba07",
      "metadata": {},
      "source": [
        "# MATCH PRESENT VALUES"
      ]
    },
    {
      "cell_type": "code",
      "execution_count": 60,
      "id": "f0d27cf5",
      "metadata": {},
      "outputs": [
        {
          "name": "stdout",
          "output_type": "stream",
          "text": [
            "We need to save $16,170 each year.\n"
          ]
        }
      ],
      "source": [
        "savings = - npf.pmt(\n",
        "    pv=pv_spending_at_retirement / (1+rate)**num_saving_years, \n",
        "    rate=r, \n",
        "    fv=0, \n",
        "    nper=num_saving_years\n",
        ")\n",
        "\n",
        "print(f\"We need to save ${savings:,.0f} each year.\")"
      ]
    },
    {
      "cell_type": "markdown",
      "id": "98ff02ce",
      "metadata": {},
      "source": [
        "# MATCH FUTURE VALUES"
      ]
    },
    {
      "cell_type": "code",
      "execution_count": 61,
      "id": "e46d207d",
      "metadata": {},
      "outputs": [
        {
          "name": "stdout",
          "output_type": "stream",
          "text": [
            "We need to save $16,170 each year.\n"
          ]
        }
      ],
      "source": [
        "savings = - npf.pmt(\n",
        "    pv=0, \n",
        "    rate=r, \n",
        "    fv=pv_spending_at_retirement, \n",
        "    nper=num_saving_years\n",
        ")\n",
        "\n",
        "print(f\"We need to save ${savings:,.0f} each year.\")"
      ]
    },
    {
      "cell_type": "markdown",
      "id": "2ff9fe9f",
      "metadata": {},
      "source": [
        "### Growing Savings\n",
        "\n",
        "- Save $x$ first year, $x(1+g)$ second year, $x(1+g)^2$ third year, etc.\n",
        "- E.g., $x=20,000$, $g=0.05$, second year is $21,000$, third year is $22,050$, etc.\n",
        "- FV of savings:\n",
        "$$x(1+r)^{m-1} + x(1+g)(1+r)^{m-2} + \\cdots + x(1+g)^{m-1}$$\n",
        "$$=x\\bigg[(1+r)^{m-1} + (1+g)(1+r)^{m-2} + \\cdots + (1+g)^{m-1} \\bigg]$$"
      ]
    },
    {
      "cell_type": "markdown",
      "id": "c1d41004",
      "metadata": {},
      "source": [
        "### Match FVs"
      ]
    },
    {
      "cell_type": "code",
      "execution_count": 62,
      "id": "2e44b4e3",
      "metadata": {},
      "outputs": [
        {
          "name": "stdout",
          "output_type": "stream",
          "text": [
            "We need to save $11,564 each year.\n"
          ]
        }
      ],
      "source": [
        "import numpy as np \n",
        "\n",
        "g = 0.03\n",
        "m = num_saving_years\n",
        "\n",
        "factors = (1+g) ** np.arange(m) \n",
        "factors *= (1+r) ** np.arange(m-1, -1, -1)\n",
        "x = pv_spending_at_retirement / np.sum(factors)\n",
        "\n",
        "print(f\"We need to save ${x:,.0f} each year.\")"
      ]
    },
    {
      "cell_type": "markdown",
      "id": "e81fdb5f",
      "metadata": {},
      "source": [
        "### Inflation and Real Rate of Return\n",
        "\n",
        "- Inflation rate is % change in Consumer Price Index (CPI)\n",
        "- Real rate of return is inflation-adjusted rate\n",
        "- Example:\n",
        "  - Item costs $\\$100$ today\n",
        "  - Can earn $8\\%$ on investments\n",
        "  - Inflation is $3\\%$\n",
        "  - Instead of buying today, you could invest $\\$100$.\n",
        "  - Have $\\$108$ in one year, item costs $\\$103$, buy $1$ and have $\\$5$ left over\n",
        "  - Extra $\\$5$ will buy $5/103$ units.  Real rate of return is $5/103$."
      ]
    },
    {
      "cell_type": "markdown",
      "id": "473731d9",
      "metadata": {},
      "source": [
        "- $5/103 = (108-103)/103 = 108/103 - 1 = 1.08/1.03 - 1$\n",
        "- Real rate of return is\n",
        "$$r_{\\text{real}} = \\frac{1+r_{\\text{nominal}}}{1+\\text{inflation}} - 1$$"
      ]
    },
    {
      "cell_type": "markdown",
      "id": "c2ea4bcf",
      "metadata": {},
      "source": [
        "### Retirement Planning and Inflation\n",
        "\n",
        "- Do everything with expected real rate of return\n",
        "- If savings are expected to grow, use the real growth rate\n",
        "$$ g_{\\text{real}} = \\frac{1+g_{\\text{nominal}}}{1+\\text{inflation}} - 1$$\n",
        "- Then retirement spending will be in today's dollars.\n",
        "- [https://learn-investments.rice-business.org/borrowing-saving/inflation](https://learn-investments.rice-business.org/borrowing-saving/inflation)"
      ]
    },
    {
      "cell_type": "markdown",
      "id": "cb4d0e90",
      "metadata": {},
      "source": [
        "### Simulation\n",
        "\n",
        "- Annual returns are approximately normally distributed.\n",
        "- And are approximately independent from one year to the next.\n",
        "- Simulate random normals with np.random.normal."
      ]
    },
    {
      "cell_type": "code",
      "execution_count": 63,
      "id": "38f631c4",
      "metadata": {},
      "outputs": [
        {
          "data": {
            "text/plain": [
              "0.36460785189514955"
            ]
          },
          "execution_count": 63,
          "metadata": {},
          "output_type": "execute_result"
        }
      ],
      "source": [
        "mean = 0.1\n",
        "stdev = 0.15\n",
        "np.random.seed(0)\n",
        "np.random.normal(loc=mean, scale=stdev)"
      ]
    },
    {
      "cell_type": "markdown",
      "id": "a655d7d5",
      "metadata": {},
      "source": [
        "### Simulate Returns for $n$ Years"
      ]
    },
    {
      "cell_type": "code",
      "execution_count": 64,
      "id": "8672ebed",
      "metadata": {},
      "outputs": [
        {
          "data": {
            "text/plain": [
              "array([ 0.36460785,  0.16002358,  0.2468107 ,  0.43613398,  0.3801337 ,\n",
              "       -0.04659168,  0.24251326,  0.07729642,  0.08451717,  0.16158978])"
            ]
          },
          "execution_count": 64,
          "metadata": {},
          "output_type": "execute_result"
        }
      ],
      "source": [
        "n = 10\n",
        "np.random.seed(0)\n",
        "\n",
        "rets = np.random.normal(\n",
        "    loc=mean,\n",
        "    scale=stdev,\n",
        "    size=n\n",
        ")\n",
        "rets"
      ]
    },
    {
      "cell_type": "markdown",
      "id": "9271f9b8",
      "metadata": {},
      "source": [
        "### Compound Returns for $n$ Years\n",
        "\n",
        "- How much would $1 grow to?\n",
        "- What is the total return over the $n$ years?"
      ]
    },
    {
      "cell_type": "code",
      "execution_count": 65,
      "id": "40c870ec",
      "metadata": {},
      "outputs": [
        {
          "name": "stdout",
          "output_type": "stream",
          "text": [
            "$1 would grow to $ 6.289\n",
            "the total return is  528.9%\n"
          ]
        }
      ],
      "source": [
        "print(f\"$1 would grow to ${np.prod(1+rets): .3f}\")\n",
        "print(f\"the total return is {np.prod(1+rets)-1: .1%}\")"
      ]
    },
    {
      "cell_type": "markdown",
      "id": "d340a448",
      "metadata": {},
      "source": [
        "### Repeat $s$ Times"
      ]
    },
    {
      "cell_type": "code",
      "execution_count": 66,
      "id": "44d17e53",
      "metadata": {},
      "outputs": [
        {
          "data": {
            "text/plain": [
              "array([1.30568504, 4.01010011, 2.92173927, 2.62512839, 4.17660966])"
            ]
          },
          "execution_count": 66,
          "metadata": {},
          "output_type": "execute_result"
        }
      ],
      "source": [
        "s = 5\n",
        "np.random.seed(0)\n",
        "\n",
        "rets = np.random.normal(\n",
        "    loc=mean,\n",
        "    scale=stdev,\n",
        "    size=(n, s)\n",
        ")\n",
        "np.prod((1+rets), axis=0)"
      ]
    },
    {
      "cell_type": "markdown",
      "id": "43f66563",
      "metadata": {},
      "source": [
        "### Distribution of the Compound Return\n",
        "\n",
        "- Compounding produces positive skewness\n",
        "- So, the median is below the mean\n",
        "- The skewness is greater and the difference between median and mean is larger when there is more risk."
      ]
    },
    {
      "cell_type": "code",
      "execution_count": 67,
      "id": "27c99283",
      "metadata": {},
      "outputs": [
        {
          "data": {
            "text/plain": [
              "count    1000.000000\n",
              "mean        1.525291\n",
              "std         1.123597\n",
              "min        -0.464922\n",
              "25%         0.737312\n",
              "50%         1.330335\n",
              "75%         2.061266\n",
              "max         7.906556\n",
              "dtype: float64"
            ]
          },
          "execution_count": 67,
          "metadata": {},
          "output_type": "execute_result"
        }
      ],
      "source": [
        "s = 1000\n",
        "np.random.seed(0)\n",
        "\n",
        "rets = np.random.normal(\n",
        "    loc=mean,\n",
        "    scale=stdev,\n",
        "    size=(n, s)\n",
        ")\n",
        "compound_rets = np.prod((1+rets), axis=0) - 1\n",
        "\n",
        "import pandas as pd \n",
        "pd.Series(compound_rets).describe()"
      ]
    },
    {
      "cell_type": "markdown",
      "id": "62c9e7d6",
      "metadata": {},
      "source": [
        "[https://learn-investments.rice-business.org/risk/long-run](https://learn-investments.rice-business.org/risk/long-run)"
      ]
    }
  ],
  "metadata": {
    "kernel_info": {
      "name": "python3"
    },
    "kernelspec": {
      "display_name": "Python 3.9",
      "language": "python",
      "name": "python3"
    },
    "language_info": {
      "codemirror_mode": {
        "name": "ipython",
        "version": 3
      },
      "file_extension": ".py",
      "mimetype": "text/x-python",
      "name": "python",
      "nbconvert_exporter": "python",
      "pygments_lexer": "ipython3",
      "version": "3.10.8"
    },
    "noteable": {
      "last_delta_id": "bf2f8f10-5993-4627-a162-68a2b4eecd49"
    },
    "noteable-chatgpt": {
      "create_notebook": {
        "openai_conversation_id": "9b7a1eac-1446-5e56-8cc7-255f258eb1a2",
        "openai_ephemeral_user_id": "71b5984e-8869-50a8-ab46-5ebd5e17556d",
        "openai_subdivision1_iso_code": "US-TX"
      }
    },
    "nteract": {
      "version": "noteable@2.9.0"
    },
    "selected_hardware_size": "small"
  },
  "nbformat": 4,
  "nbformat_minor": 5
}
