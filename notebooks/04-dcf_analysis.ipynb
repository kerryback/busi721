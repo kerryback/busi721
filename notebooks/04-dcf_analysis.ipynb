{
 "cells": [
  {
   "cell_type": "markdown",
   "metadata": {
    "slideshow": {
     "slide_type": "slide"
    }
   },
   "source": [
    "# Discounted Cash Flow Analysis\n",
    "\n",
    "### BUSI 721: Data-Driven Finance I\n",
    "### Kerry Back, Rice University"
   ]
  },
  {
   "cell_type": "markdown",
   "metadata": {
    "slideshow": {
     "slide_type": "slide"
    }
   },
   "source": [
    "### Cash Flows\n",
    "\n",
    "- Cash inflow = positive cash flow\n",
    "- Cash outflow = negative cash flow\n",
    "- Cash inflows to a project can be redistributed elsewhere in a company or paid to shareholders or bondholders.\n",
    "- Cash outflows must be financed by running down cash balances, using cash generated elsewhere in the company, or issuing new equity or debt."
   ]
  },
  {
   "cell_type": "markdown",
   "metadata": {
    "slideshow": {
     "slide_type": "slide"
    }
   },
   "source": [
    "### Timing\n",
    "\n",
    "- Years are periods between dates.\n",
    "  - Date 0 is project inception (or first couple of months)\n",
    "  - Date 1 is end of first year\n",
    "  - etc.\n",
    "- Put first year's cash flows at date 1, second year's at date 2, etc.\n",
    "- Most assets and liabilities should be down to zero at project's end.\n",
    "  - Collect receivables, pay payables, draw down inventory, \n",
    "  - Might sell, or dispose of PP&E.  \n",
    "  - If it stays in the company and has value, take a credit for it in cash flows (terminal value).  "
   ]
  },
  {
   "cell_type": "markdown",
   "metadata": {
    "slideshow": {
     "slide_type": "slide"
    }
   },
   "source": [
    "### Net Present Value\n",
    "\n",
    "- Suppose a project's cash flows are $-100, -20, 50, 50, 50, 80$ at years 0, 1, 2, 3, 4, 5.\n",
    "- Consider making investments yourself of $100$ and then $20$.  Would you be able to withdraw $50, 50, 50$, and $80$? \n",
    "- We can answer this on a PV basis - compare PVs of deposits and withdrawals.\n",
    "\n",
    "  "
   ]
  },
  {
   "cell_type": "code",
   "execution_count": 4,
   "metadata": {
    "slideshow": {
     "slide_type": "slide"
    }
   },
   "outputs": [
    {
     "name": "stdout",
     "output_type": "stream",
     "text": [
      "PV of investments is $118.52\n",
      "PV of withdrawals is $173.76\n"
     ]
    }
   ],
   "source": [
    "import numpy as np\n",
    "\n",
    "r = 0.08\n",
    "pv_investments = np.sum(\n",
    "    np.array([100, 20]) * (1+r)**np.arange(0, -2, -1)\n",
    ")\n",
    "pv_withdrawals = np.sum(\n",
    "    np.array([50, 50, 50, 80]) * (1+r)**np.arange(-2, -6, -1)\n",
    ")\n",
    "print(f\"PV of investments is ${pv_investments:.2f}\")\n",
    "print(f\"PV of withdrawals is ${pv_withdrawals:.2f}\")"
   ]
  },
  {
   "cell_type": "markdown",
   "metadata": {
    "slideshow": {
     "slide_type": "slide"
    }
   },
   "source": [
    "### Above Market Projects\n",
    "- The answer is no: we couldn't withdraw (50, 50, 50, 80) with investments of (100, 20).\n",
    "- If the company can do this, then it has an \"above market\" project.\n",
    "- It will benefit investors because it generates positive cash flows with lower investments than investors can do on their own.\n",
    "- This assumes we're using the right discount rate (interest rate).  More on this later.\n"
   ]
  },
  {
   "cell_type": "markdown",
   "metadata": {
    "slideshow": {
     "slide_type": "slide"
    }
   },
   "source": [
    "### Positive NPV Projects\n",
    "\n",
    "- To quickly calculate whether it is an above market project, we can put all of the cash flows together in a sequence (negative for outflows) and compute the PV of the sequence.\n",
    "- Positive PV means withdrawals are high relative to investments $\\rightarrow$ good project.\n",
    "- This is called the Net Present Value (NPV).  It is the PV of the cash inflows net of the PV of the cash outflows."
   ]
  },
  {
   "cell_type": "code",
   "execution_count": 3,
   "metadata": {
    "slideshow": {
     "slide_type": "slide"
    }
   },
   "outputs": [
    {
     "name": "stdout",
     "output_type": "stream",
     "text": [
      "The NPV is $55.24\n"
     ]
    }
   ],
   "source": [
    "cash_flows = np.array(\n",
    "    [-100, -20, 50, 50, 50, 80]\n",
    ")\n",
    "\n",
    "NPV = np.sum(\n",
    "    cash_flows * (1+r)**np.arange(0, -6, -1)\n",
    ")\n",
    "print(f\"The NPV is ${NPV:.2f}\")"
   ]
  },
  {
   "cell_type": "markdown",
   "metadata": {
    "slideshow": {
     "slide_type": "slide"
    }
   },
   "source": [
    "### Alternate Calculation\n",
    "\n",
    "- We can use the npv function from numpy-financial.\n",
    "- It assumes the first cash flow is at date 0.\n",
    "- Warning: The Excel NPV function works differently.  It assumes the first cash flow is one period away.\n",
    "- In Excel, use -100 + NPV(0.08, (-20, 50, 50, 50, 80))\n",
    "- See npv.xlsx"
   ]
  },
  {
   "cell_type": "code",
   "execution_count": 5,
   "metadata": {
    "slideshow": {
     "slide_type": "slide"
    }
   },
   "outputs": [
    {
     "name": "stdout",
     "output_type": "stream",
     "text": [
      "The NPV is $55.24\n"
     ]
    }
   ],
   "source": [
    "import numpy_financial as npf\n",
    "\n",
    "NPV = npf.npv(0.08, cash_flows)\n",
    "print(f\"The NPV is ${NPV:.2f}\")"
   ]
  },
  {
   "cell_type": "markdown",
   "metadata": {
    "slideshow": {
     "slide_type": "slide"
    }
   },
   "source": [
    "### Internal Rate of Return\n",
    "\n",
    "- Call a project standard if cash flows are negative early and positive late.\n",
    "- Consider any standard project.\n",
    "  - NPV > 0 means later positive cash flows have greater PV than negative early cash flows.\n",
    "  - If we raise the discount rate, the NPV will fall.\n",
    "  - The discount rate at which NPV=0 is called the Internal Rate of Return (IRR)\n",
    "  - NPV > 0 if and only if IRR > discount rate.\n",
    "- Calculate with\n",
    "  - npf.irr((-100, -20, 50, 50, 50, 80))\n",
    "  - or, in Excel, IRR(-100, -20, 50, 50, 50, 80)"
   ]
  }
 ],
 "metadata": {
  "kernelspec": {
   "display_name": "Python 3",
   "language": "python",
   "name": "python3"
  },
  "language_info": {
   "codemirror_mode": {
    "name": "ipython",
    "version": 3
   },
   "file_extension": ".py",
   "mimetype": "text/x-python",
   "name": "python",
   "nbconvert_exporter": "python",
   "pygments_lexer": "ipython3",
   "version": "3.10.8"
  }
 },
 "nbformat": 4,
 "nbformat_minor": 2
}
