{
 "cells": [
  {
   "cell_type": "markdown",
   "metadata": {
    "slideshow": {
     "slide_type": "slide"
    }
   },
   "source": [
    "# Financial Accounting II\n",
    "\n",
    "### BUSI 721: Data-Driven Finance I\n",
    "### Kerry Back, Rice University"
   ]
  },
  {
   "cell_type": "markdown",
   "metadata": {
    "slideshow": {
     "slide_type": "slide"
    }
   },
   "source": [
    "## A Simplified Balance Sheet"
   ]
  },
  {
   "cell_type": "markdown",
   "metadata": {
    "slideshow": {
     "slide_type": "slide"
    }
   },
   "source": [
    "<img src=\"images/balancesheet.jpeg\" height=\"500\" width=\"1000\">"
   ]
  },
  {
   "cell_type": "markdown",
   "metadata": {
    "slideshow": {
     "slide_type": "slide"
    }
   },
   "source": [
    "## Invested Capital\n",
    "\n",
    "- The balance sheet balances: LTA + STOA + OSTA = LTL + STOL + OSTL + SE\n",
    "- Therefore, LTA + STOA - STOL = SE + LTL + OSTL - OSTA \n",
    "- Both sides are invested capital\n",
    "  - Left-hand side is, roughly, Net PP&E plus NWC\n",
    "  - Right-hand side is, roughly, Shareholders Equity + Net Debt\n",
    "- Shareholders equity is capital contributed by shareholders plus the sum over all past years of net income minus dividends paid (retained earnings)"
   ]
  },
  {
   "cell_type": "markdown",
   "metadata": {
    "slideshow": {
     "slide_type": "slide"
    }
   },
   "source": [
    "## An Income Statement Example\n",
    "\n",
    "| Item |  With interest|Without interest|\n",
    "|---|---|---|\n",
    "| EBIT | 300 | 300|\n",
    "| Less interest | (100) | 0|\n",
    "| Pre-tax income | 200 |300|\n",
    "| Less taxes @ 30% | (60) |90|\n",
    "| Net income | 140 | 210\n",
    "\n",
    "- What is the 70 difference?  It is interest net of the tax deduction (70% of 100), i.e., the after-tax interest.\n",
    "- So, to go from \"with interest\" to \"without interest,\" we **add** the after-tax interest expense."
   ]
  },
  {
   "cell_type": "markdown",
   "metadata": {
    "slideshow": {
     "slide_type": "slide"
    }
   },
   "source": [
    "## Return on Capital Employed\n",
    "\n",
    "- On Monday,\n",
    "\n",
    "$$ \\frac{\\text{EBIAT}}{\\text{Net PPE} + \\text{NWC}}$$\n",
    "\n",
    "- An equivalent definition:\n",
    "\n",
    "$$ \\frac{\\text{Net Income} + \\text{After-tax Interest}}{\\text{Shareholders Equity} + \\text{Net Debt}}$$\n",
    "\n"
   ]
  },
  {
   "cell_type": "markdown",
   "metadata": {
    "slideshow": {
     "slide_type": "slide"
    }
   },
   "source": [
    "## Accounting for Acquisitions\n",
    "\n",
    "- Suppose you buy a company for 100 mllion cash\n",
    "- The company had assets of 150 million and liabilities of 70 million\n",
    "- So, it had shareholders equity of 80 million\n",
    "- The assets and liabilities (not shareholders equity) go directly on your balance sheet as they were on the target company's balance sheet.\n",
    "- You are net adding assets of 50 million (assets of 150 but drawing down cash of 100).\n",
    "- You are net adding liabilities of 70 million.\n",
    "- How does the balance sheet balance?  You add another asset of 20 million called \"goodwill.\""
   ]
  },
  {
   "cell_type": "markdown",
   "metadata": {"slideshow": {"slide_type": "slide"}},
   "source": [
    "### Accounting for Subs and JVs\n",
    "\n",
    "Suppose two companies jointly own a third company.  Suppose ABC has two-thirds ownership.\n",
    "\n",
    "<img src=\"images/JV.jpg\" height=\"500\" width=\"1000\">"
   ]
  },
  {
   "cell_type": "markdown",
   "metadata": {"slideshow": {"slide_type": "slide"}},
   "source": [
    "- Because ABC has a controlling interest, all of the assets and liabilities of the joint venture are shown on ABC's balance sheet, just as if they were directly ABC's assets and liabilities.\n",
    "- To reflect XYZ's part ownership, ABC shows a liability: \"equity of noncontrolling interests.\"  Also \"income to noncontrolling interests\" on income statement.\n",
    "- XYZ's balance sheet reflects its part ownership by showing an asset: \"investments and advances to equity affiliates.\"  Also, in the income statement: \"income from equity affiliates.\""
   ]
  },
  {
   "cell_type": "markdown",
   "metadata": {"slideshow": {"slide_type": "slide"}},
   "source": [
    "<img src=\"images/JV2.jpg\" height=\"500\" width=\"1000\">"
   ]
  },
  {
   "cell_type": "markdown",
   "metadata": {"slideshow": {"slide_type": "slide"}},
   "source": [
    "### Timing of Balance Sheets and Income Statements\n",
    "\n",
    "- Balance sheet is at a point in time (end of fiscal year)\n",
    "- Income statement describes things that happened during the fiscal year\n",
    "- Compare income statement to beginning-of-year balance sheet?\n",
    "- Or compare to end-of-year balance sheet?\n",
    "- Usually average balance sheet items.  Examples:\n",
    "  - ROCE = net income + after-tax interest / average invested capital\n",
    "  - asset turnover = sales / average assets\n",
    "  - etc."
   ]
  },
  {
   "cell_type": "markdown",
   "metadata": {
    "slideshow": {
     "slide_type": "slide"
    }
   },
   "source": [
    "## Accounting for Subsidiaries and Joint Ventures\n",
    "\n",
    "- If Chevron owns a controlling interest (50%+) then income statement and balance sheet are consolidated.\n",
    "  - At bottom of income statement, there is \"income to noncontrolling interests\" which is the part of the fraction of subsidiary income not owned by Chevron.\n",
    "  - At bottom of balance sheet, there is \"equity of noncontrolling interests,\" which is capital contributed by partners plus the sum over years of their part of income less dividends paid.\n",
    "- If Chevron owns less than a controlling interest, then income and balance sheet **are not** consolidated.\n",
    "  - At top of income statment, there is \"income from equity affiliates,\" which is Chevron's part of the income.\n",
    "  - Near the top of the balance sheet, there is \"investments and advances,\" which is capital contributed by Chevron plus the sum over years of Chevron's part of net income less dividends received."
   ]
  },
  {
   "cell_type": "markdown",
   "metadata": {
    "slideshow": {
     "slide_type": "slide"
    }
   },
   "source": [
    "## Basic Rules of Accrual Accounting\n",
    "\n",
    "1. In income statement as $+$ but not cash inflow $\\Rightarrow$ asset (like receivables)\n",
    "2. Not in income statement as $-$ but cash outflow $\\Rightarrow$ asset (like PP&E)\n",
    "3. In income statement as $-$ but not cash outflow $\\Rightarrow$ liability (like payables)\n",
    "4. Not in income statement as $+$ but cash inflow $\\Rightarrow$ liability (like provision for warranties)\n",
    "\n",
    "- Rules 1 & 2: Income statement overstates cash $\\Rightarrow$ asset\n",
    "- Rules 3 & 4: Income statement understates cash $\\Rightarrow$ liability\n",
    "- These are why subtracting $\\Delta$ (assets-liabilities) from income produces cash."
   ]
  },
  {
   "cell_type": "markdown",
   "metadata": {
    "slideshow": {
     "slide_type": "slide"
    }
   },
   "source": [
    "### Timing of Balance Sheets and Income Statements\n",
    "\n",
    "- Balance sheet is at a point in time (end of fiscal year)\n",
    "- Income statement describes things that happened during the fiscal year\n",
    "- Compare income statement to beginning-of-year balance sheet?\n",
    "- Or compare to end-of-year balance sheet?\n",
    "- Usually average balance sheet items.  Examples:\n",
    "  - ROCE = net income + after-tax interest / average invested capital\n",
    "  - asset turnover = sales / average assets\n",
    "  - etc."
   ]
  },
  {
   "cell_type": "markdown",
   "metadata": {
    "slideshow": {
     "slide_type": "slide"
    }
   },
   "source": [
    "### Profitability Ratios\n",
    "\n",
    "- Gross profit margin = (revenue - COGS) / revenue\n",
    "- Net profit margin = net income / revenue\n",
    "- Return on equity = net income / shareholders equity\n",
    "- Return on assets = net income / total assets\n",
    "- ROCE (also called ROIC = return on invested capital)"
   ]
  },
  {
   "cell_type": "markdown",
   "metadata": {
    "slideshow": {
     "slide_type": "slide"
    }
   },
   "source": [
    "### Efficiency Ratios\n",
    "\n",
    "- Asset turnover = revenue / assets\n",
    "- Inventory turnover = COGS / inventory\n",
    "\n",
    "### Liquidity/Solvency Ratios\n",
    "\n",
    "- Leverage ratio = assets / debt\n",
    "- Debt to equity = debt / shareholders equity\n",
    "- Current ratio = current assets / current liabilities\n",
    "- Quick ratio = (current assets - inventory) / current liabilities"
   ]
  },
  {
   "cell_type": "markdown",
   "metadata": {
    "slideshow": {
     "slide_type": "slide"
    }
   },
   "source": [
    "### DuPont Analysis\n",
    "\n",
    "$$\\text{ROE} = \\text{Net Profit Margin} \\times \\text{Asset Turnover} \\times \\text{Equity Multiplier}$$\n",
    "\n",
    "$$\\frac{\\text{Net Income}}{\\text{Equity}} = \\frac{\\text{Net Income}}{\\text{Sales}} \\times \\frac{\\text{Sales}}{\\text{Assets}} \\times \\frac{\\text{Assets}}{\\text{Equity}}$$\n",
    "\n"
   ]
  },
  {
   "cell_type": "markdown",
   "metadata": {
    "slideshow": {
     "slide_type": "slide"
    }
   },
   "source": [
    "### Getting financial Sstatements with yfinance"
   ]
  },
  {
   "cell_type": "code",
   "execution_count": 20,
   "metadata": {
    "slideshow": {
     "slide_type": "slide"
    }
   },
   "outputs": [],
   "source": [
    "# !pip install --upgrade yfinance\n",
    "import yfinance as yf\n",
    "\n",
    "ticker = yf.Ticker('COP')\n",
    "income_statement = ticker.financials\n",
    "balance_sheet = ticker.balance_sheet\n",
    "cash_flows = ticker.cashflow"
   ]
  },
  {
   "cell_type": "code",
   "execution_count": 21,
   "metadata": {
    "slideshow": {
     "slide_type": "slide"
    }
   },
   "outputs": [
    {
     "name": "stdout",
     "output_type": "stream",
     "text": [
      "Tax Effect Of Unusual Items\n",
      "Tax Rate For Calcs\n",
      "Normalized EBITDA\n",
      "Total Unusual Items\n",
      "Total Unusual Items Excluding Goodwill\n",
      "Net Income From Continuing Operation Net Minority Interest\n",
      "Reconciled Depreciation\n",
      "Reconciled Cost Of Revenue\n",
      "EBITDA\n",
      "EBIT\n",
      "Net Interest Income\n",
      "Interest Expense\n",
      "Interest Income\n",
      "Normalized Income\n",
      "Net Income From Continuing And Discontinued Operation\n",
      "Total Expenses\n",
      "Diluted Average Shares\n",
      "Basic Average Shares\n",
      "Diluted EPS\n",
      "Basic EPS\n",
      "Diluted NI Availto Com Stockholders\n",
      "Net Income Common Stockholders\n",
      "Otherunder Preferred Stock Dividend\n",
      "Net Income\n",
      "Minority Interests\n",
      "Net Income Including Noncontrolling Interests\n",
      "Net Income Continuous Operations\n",
      "Tax Provision\n",
      "Pretax Income\n",
      "Other Income Expense\n",
      "Other Non Operating Income Expenses\n",
      "Special Income Charges\n",
      "Gain On Sale Of Ppe\n",
      "Write Off\n",
      "Impairment Of Capital Assets\n",
      "Earnings From Equity Interest\n",
      "Gain On Sale Of Security\n",
      "Net Non Operating Interest Income Expense\n",
      "Interest Expense Non Operating\n",
      "Interest Income Non Operating\n",
      "Operating Income\n",
      "Operating Expense\n",
      "Other Operating Expenses\n",
      "Other Taxes\n",
      "Selling General And Administration\n",
      "Gross Profit\n",
      "Cost Of Revenue\n",
      "Total Revenue\n",
      "Operating Revenue\n"
     ]
    }
   ],
   "source": [
    "for item in income_statement.index:\n",
    "    print(item)"
   ]
  },
  {
   "cell_type": "code",
   "execution_count": 22,
   "metadata": {
    "slideshow": {
     "slide_type": "slide"
    }
   },
   "outputs": [
    {
     "name": "stdout",
     "output_type": "stream",
     "text": [
      "2022-12-31 00:00:00\n",
      "2021-12-31 00:00:00\n",
      "2020-12-31 00:00:00\n",
      "2019-12-31 00:00:00\n"
     ]
    }
   ],
   "source": [
    "for item in income_statement.columns:\n",
    "    print(item)"
   ]
  },
  {
   "cell_type": "code",
   "execution_count": 23,
   "metadata": {
    "slideshow": {
     "slide_type": "slide"
    }
   },
   "outputs": [
    {
     "name": "stdout",
     "output_type": "stream",
     "text": [
      "Treasury Shares Number\n",
      "Ordinary Shares Number\n",
      "Share Issued\n",
      "Net Debt\n",
      "Total Debt\n",
      "Tangible Book Value\n",
      "Invested Capital\n",
      "Working Capital\n",
      "Net Tangible Assets\n",
      "Common Stock Equity\n",
      "Total Capitalization\n",
      "Total Equity Gross Minority Interest\n",
      "Minority Interest\n",
      "Stockholders Equity\n",
      "Gains Losses Not Affecting Retained Earnings\n",
      "Other Equity Adjustments\n",
      "Treasury Stock\n",
      "Retained Earnings\n",
      "Additional Paid In Capital\n",
      "Capital Stock\n",
      "Common Stock\n",
      "Total Liabilities Net Minority Interest\n",
      "Total Non Current Liabilities Net Minority Interest\n",
      "Other Non Current Liabilities\n",
      "Employee Benefits\n",
      "Non Current Deferred Liabilities\n",
      "Non Current Deferred Taxes Liabilities\n",
      "Long Term Debt And Capital Lease Obligation\n",
      "Long Term Debt\n",
      "Long Term Provisions\n",
      "Current Liabilities\n",
      "Current Debt And Capital Lease Obligation\n",
      "Current Debt\n",
      "Pensionand Other Post Retirement Benefit Plans Current\n",
      "Payables And Accrued Expenses\n",
      "Current Accrued Expenses\n",
      "Payables\n",
      "Total Tax Payable\n",
      "Accounts Payable\n",
      "Total Assets\n",
      "Total Non Current Assets\n",
      "Other Non Current Assets\n",
      "Non Current Note Receivables\n",
      "Non Current Accounts Receivable\n",
      "Investments And Advances\n",
      "Other Investments\n",
      "Investmentin Financial Assets\n",
      "Held To Maturity Securities\n",
      "Long Term Equity Investment\n",
      "Net PPE\n",
      "Accumulated Depreciation\n",
      "Gross PPE\n",
      "Other Properties\n",
      "Current Assets\n",
      "Other Current Assets\n",
      "Prepaid Assets\n",
      "Inventory\n",
      "Finished Goods\n",
      "Raw Materials\n",
      "Receivables\n",
      "Accounts Receivable\n",
      "Allowance For Doubtful Accounts Receivable\n",
      "Gross Accounts Receivable\n",
      "Cash Cash Equivalents And Short Term Investments\n",
      "Other Short Term Investments\n",
      "Cash And Cash Equivalents\n",
      "Cash Equivalents\n",
      "Cash Financial\n"
     ]
    }
   ],
   "source": [
    "for item in balance_sheet.index:\n",
    "    print(item)"
   ]
  },
  {
   "cell_type": "code",
   "execution_count": 24,
   "metadata": {
    "slideshow": {
     "slide_type": "slide"
    }
   },
   "outputs": [
    {
     "name": "stdout",
     "output_type": "stream",
     "text": [
      "2022-12-31 00:00:00\n",
      "2021-12-31 00:00:00\n",
      "2020-12-31 00:00:00\n",
      "2019-12-31 00:00:00\n"
     ]
    }
   ],
   "source": [
    "for item in balance_sheet.columns:\n",
    "    print(item)"
   ]
  }
 ],
 "metadata": {
  "kernelspec": {
   "display_name": "Python 3",
   "language": "python",
   "name": "python3"
  },
  "language_info": {
   "codemirror_mode": {
    "name": "ipython",
    "version": 3
   },
   "file_extension": ".py",
   "mimetype": "text/x-python",
   "name": "python",
   "nbconvert_exporter": "python",
   "pygments_lexer": "ipython3",
   "version": "3.10.8"
  }
 },
 "nbformat": 4,
 "nbformat_minor": 2
}
