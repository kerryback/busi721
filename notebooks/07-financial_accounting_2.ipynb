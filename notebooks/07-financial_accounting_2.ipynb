{
 "cells": [
  {
   "cell_type": "markdown",
   "metadata": {
    "slideshow": {
     "slide_type": "slide"
    }
   },
   "source": [
    "# Financial Accounting II\n",
    "\n",
    "### BUSI 721: Data-Driven Finance I\n",
    "### Kerry Back, Rice University"
   ]
  },
  {
   "cell_type": "markdown",
   "metadata": {
    "slideshow": {
     "slide_type": "slide"
    }
   },
   "source": [
    "## A Simplified Balance Sheet"
   ]
  },
  {
   "cell_type": "markdown",
   "metadata": {"slideshow": {"slide_type": "slide"}},
   "source": [
    "<img src=\"images/balancesheet.jpeg\" height=\"500\" width=\"1000\">"
   ]
  },
  {
   "cell_type": "markdown",
   "metadata": {
    "slideshow": {
     "slide_type": "slide"
    }
   },
   "source": [
    "## Invested Capital\n",
    "\n",
    "- The balance sheet balances: LTA + STOA + OSTA = LTL + STOL + OSTL + SE\n",
    "- Therefore, LTA + STOA - STOL = SE + LTL + OSTL - OSTA \n",
    "- Both sides are invested capital\n",
    "  - Left-hand side is, roughly, Net PP&E plus NWC\n",
    "  - Right-hand side is, roughly, Shareholders Equity + Net Debt\n",
    "- Shareholders equity is capital contributed by shareholders plus the sum over all past years of net income minus dividends paid (retained earnings)"
   ]
  },
  {
   "cell_type": "markdown",
   "metadata": {
    "slideshow": {
     "slide_type": "slide"
    }
   },
   "source": [
    "## An Income Statement Example\n",
    "\n",
    "| Item |  With interest|Without interest|\n",
    "|---|---|---|\n",
    "| EBIT | 300 | 300|\n",
    "| Less interest | (100) | 0|\n",
    "| Pre-tax income | 200 |300|\n",
    "| Less taxes @ 30% | (60) |90|\n",
    "| Net income | 140 | 210\n",
    "\n",
    "- What is the $70 difference?  It is interest net of the tax deduction (70% of $100)\n",
    "- So, to go from \"with interest\" to \"without interest,\" we **add** the after-tax interest expense."
   ]
  },
  {
   "cell_type": "markdown",
   "metadata": {
    "slideshow": {
     "slide_type": "slide"
    }
   },
   "source": [
    "## Return on Capital Employed\n",
    "\n",
    "- On Monday,\n",
    "\n",
    "$$ \\frac{\\text{EBIAT}}{\\text{Net PP\\&E} + \\text{NWC}}$$\n",
    "\n",
    "- An equivalent definition:\n",
    "\n",
    "$$ \\frac{\\text{Net Income} + \\text{After-tax Interest}}{\\text{Shareholders Equity} + \\text{Net Debt}}$$\n",
    "\n"
   ]
  },
  {
   "cell_type": "markdown",
   "metadata": {
    "slideshow": {
     "slide_type": "slide"
    }
   },
   "source": [
    "## Accounting for Acquisitions\n",
    "\n",
    "- Suppose you buy a company for $100 million cash\n",
    "- The company had assets of $150 million and liabilities of $70 million\n",
    "- So, it had shareholders equity of $80 million\n",
    "- The assets and liabilities (not shareholders equity) go directly on your balance sheet as they were on the target company's balance sheet.\n",
    "- You are net adding assets of $50 million (assets of $150 but drawing down cash of $100).\n",
    "- You are net adding liabilities of $70 million.\n",
    "- How does the balance sheet balance?  You add another asset of $20 million called \"goodwill.\""
   ]
  },
  {
   "cell_type": "markdown",
   "metadata": {
    "slideshow": {
     "slide_type": "slide"
    }
   },
   "source": [
    "## Accounting for Subsidiaries and Joint Ventures\n",
    "\n",
    "- If Chevron owns a controlling interest (50%+) then income statement and balance sheet are consolidated.\n",
    "  - At bottom of income statement, there is \"income to noncontrolling interests\" which is the part of the fraction of subsidiary income not owned by Chevron.\n",
    "  - At bottom of balance sheet, there is \"equity of noncontrolling interests,\" which is capital contributed by partners plus the sum over years of their part of income less dividends paid.\n",
    "- If Chevron owns less than a controlling interest, then income and balance sheet **are not** consolidated.\n",
    "  - At top of income statment, there is \"income from equity affiliates,\" which is Chevron's part of the income.\n",
    "  - Near the top of the balance sheet, there is \"investments and advances,\" which is capital contributed by Chevron plus the sum over years of Chevron's part of net income less dividends received."
   ]
  },
  {
   "cell_type": "markdown",
   "metadata": {
    "slideshow": {
     "slide_type": "slide"
    }
   },
   "source": [
    "## Basic Rules of Accrual Accounting\n",
    "\n",
    "1. In income statement as $+$ but not cash inflow $\\Rightarrow$ asset (like receivables)\n",
    "2. Not in income statement as $-$ but cash outflow $\\Rightarrow$ asset (like PP&E)\n",
    "3. In income statement as $-$ but not cash outflow $\\Rightarrow$ liability (like payables)\n",
    "4. Not in income statement as $+$ but cash inflow $\\Rightarrow$ liability (like provision for warranties)\n",
    "\n",
    "- Rules 1 & 2: Income statement overstates cash $\\Rightarrow$ asset\n",
    "- Rules 3 & 4: Income statement understates cash $\\Rightarrow$ liability\n",
    "- These are why subtracting $\\Delta$ (assets-liabilities) from income produces cash."
   ]
  }
 ],
 "metadata": {
  "kernelspec": {
   "display_name": "Python 3",
   "language": "python",
   "name": "python3"
  },
  "language_info": {
   "codemirror_mode": {
    "name": "ipython",
    "version": 3
   },
   "file_extension": ".py",
   "mimetype": "text/x-python",
   "name": "python",
   "nbconvert_exporter": "python",
   "pygments_lexer": "ipython3",
   "version": "3.10.8"
  }
 },
 "nbformat": 4,
 "nbformat_minor": 2
}
