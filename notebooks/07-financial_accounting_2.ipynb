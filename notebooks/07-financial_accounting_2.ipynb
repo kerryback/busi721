{
 "cells": [
  {
   "cell_type": "markdown",
   "metadata": {
    "slideshow": {
     "slide_type": "slide"
    }
   },
   "source": [
    "# Financial Accounting II\n",
    "\n",
    "### BUSI 721: Data-Driven Finance I\n",
    "### Kerry Back, Rice University"
   ]
  },
  {
   "cell_type": "markdown",
   "metadata": {
    "slideshow": {
     "slide_type": "slide"
    }
   },
   "source": [
    "## A Simplified Balance Sheet"
   ]
  },
  {
   "cell_type": "markdown",
   "metadata": {
    "slideshow": {
     "slide_type": "slide"
    }
   },
   "source": [
    "<img src=\"images/balancesheet.jpeg\" height=\"500\" width=\"1000\">"
   ]
  },
  {
   "cell_type": "markdown",
   "metadata": {
    "slideshow": {
     "slide_type": "slide"
    }
   },
   "source": [
    "## Invested Capital\n",
    "\n",
    "- The balance sheet balances: LTA + STOA + OSTA = LTL + STOL + OSTL + SE\n",
    "- Therefore, LTA + STOA - STOL = SE + LTL + OSTL - OSTA \n",
    "- Both sides are invested capital\n",
    "  - Left-hand side is, roughly, Net PP&E plus NWC\n",
    "  - Right-hand side is, roughly, Shareholders Equity + Net Debt\n",
    "- Shareholders equity is capital contributed by shareholders plus the sum over all past years of net income minus dividends paid (retained earnings)"
   ]
  },
  {
   "cell_type": "markdown",
   "metadata": {
    "slideshow": {
     "slide_type": "slide"
    }
   },
   "source": [
    "## An Income Statement Example\n",
    "\n",
    "| Item |  With interest|Without interest|\n",
    "|---|---|---|\n",
    "| EBIT | 300 | 300|\n",
    "| Less interest | (100) | 0|\n",
    "| Pre-tax income | 200 |300|\n",
    "| Less taxes @ 30% | (60) |90|\n",
    "| Net income | 140 | 210\n",
    "\n",
    "- What is the $70 difference?  It is interest net of the tax deduction (70% of $100)\n",
    "- So, to go from \"with interest\" to \"without interest,\" we **add** the after-tax interest expense."
   ]
  },
  {
   "cell_type": "markdown",
   "metadata": {
    "slideshow": {
     "slide_type": "slide"
    }
   },
   "source": [
    "## Return on Capital Employed\n",
    "\n",
    "- On Monday,\n",
    "\n",
    "$$ \\frac{\\text{EBIAT}}{\\text{Net PP\\&E} + \\text{NWC}}$$\n",
    "\n",
    "- An equivalent definition:\n",
    "\n",
    "$$ \\frac{\\text{Net Income} + \\text{After-tax Interest}}{\\text{Shareholders Equity} + \\text{Net Debt}}$$\n",
    "\n"
   ]
  },
  {
   "cell_type": "markdown",
   "metadata": {
    "slideshow": {
     "slide_type": "slide"
    }
   },
   "source": [
    "## Accounting for Acquisitions\n",
    "\n",
    "- Suppose you buy a company for $100 million cash\n",
    "- The company had assets of $150 million and liabilities of $70 million\n",
    "- So, it had shareholders equity of $80 million\n",
    "- The assets and liabilities (not shareholders equity) go directly on your balance sheet as they were on the target company's balance sheet.\n",
    "- You are net adding assets of $50 million (assets of $150 but drawing down cash of $100).\n",
    "- You are net adding liabilities of $70 million.\n",
    "- How does the balance sheet balance?  You add another asset of $20 million called \"goodwill.\""
   ]
  },
  {
   "cell_type": "markdown",
   "metadata": {
    "slideshow": {
     "slide_type": "slide"
    }
   },
   "source": [
    "## Accounting for Subsidiaries and Joint Ventures\n",
    "\n",
    "- If Chevron owns a controlling interest (50%+) then income statement and balance sheet are consolidated.\n",
    "  - At bottom of income statement, there is \"income to noncontrolling interests\" which is the part of the fraction of subsidiary income not owned by Chevron.\n",
    "  - At bottom of balance sheet, there is \"equity of noncontrolling interests,\" which is capital contributed by partners plus the sum over years of their part of income less dividends paid.\n",
    "- If Chevron owns less than a controlling interest, then income and balance sheet **are not** consolidated.\n",
    "  - At top of income statment, there is \"income from equity affiliates,\" which is Chevron's part of the income.\n",
    "  - Near the top of the balance sheet, there is \"investments and advances,\" which is capital contributed by Chevron plus the sum over years of Chevron's part of net income less dividends received."
   ]
  },
  {
   "cell_type": "markdown",
   "metadata": {
    "slideshow": {
     "slide_type": "slide"
    }
   },
   "source": [
    "## Basic Rules of Accrual Accounting\n",
    "\n",
    "1. In income statement as $+$ but not cash inflow $\\Rightarrow$ asset (like receivables)\n",
    "2. Not in income statement as $-$ but cash outflow $\\Rightarrow$ asset (like PP&E)\n",
    "3. In income statement as $-$ but not cash outflow $\\Rightarrow$ liability (like payables)\n",
    "4. Not in income statement as $+$ but cash inflow $\\Rightarrow$ liability (like provision for warranties)\n",
    "\n",
    "- Rules 1 & 2: Income statement overstates cash $\\Rightarrow$ asset\n",
    "- Rules 3 & 4: Income statement understates cash $\\Rightarrow$ liability\n",
    "- These are why subtracting $\\Delta$ (assets-liabilities) from income produces cash."
   ]
  },
  {
   "cell_type": "markdown",
   "metadata": {"slideshow": {"slide_type": "slide"}},
   "source": [
    "### Profitability Ratios\n",
    "\n",
    "- Gross profit margin = (revenue - COGS) / revenue\n",
    "- Net profit margin = net income / revenue\n",
    "- Return on equity = net income / shareholders equity\n",
    "- Return on assets = net income / total assets\n",
    "- ROCE (also called ROIC = return on invested capital)"
   ]
  },
  {
   "cell_type": "markdown",
   "metadata": {"slideshow": {"slide_type": "slide"}},
   "source": [
    "### Efficiency Ratios\n",
    "\n",
    "- Asset turnover = revenue / assets\n",
    "- Inventory turnover = COGS / inventory\n",
    "\n",
    "### Liquidity/solvency ratios\n",
    "\n",
    "- Leverage ratio = assets / debt\n",
    "- Debt to equity = debt / shareholders equity\n",
    "- Current ratio = current assets / current liabilities\n",
    "- Quick ratio = (current assets - inventory) / current liabilities"
   ]
  },
  {
   "cell_type": "markdown",
   "metadata": {"slideshow": {"slide_type": "slide"}},
   "source": [
    "### DuPont Analysis\n",
    "\n",
    "$$\\text{ROE} = \\text{Net Profit Margin} \\times \\text{Asset Turnover} \\times \\text{Equity Multiplier}$$\n",
    "\n",
    "$$\\frac{\\text{Net Income}}{\\text{Equity}} = \\frac{\\text{Net Income}}{\\text{Sales}} \\times \\frac{\\text{Sales}}{\\text{Assets}} \\times \\frac{\\text{Assets}}{\\text{Equity}}$$\n",
    "\n"
   ]
  },
  {
   "cell_type": "markdown",
   "metadata": {"slideshow": {"slide_type": "slide"}},
   "source": [
    "### Timing of Balance Sheets and Income Statements\n",
    "\n",
    "- Balance sheet is at a point in time (end of fiscal year)\n",
    "- Income statement describes things that happened during the fiscal year\n",
    "- Compare income statement to beginning-of-year balance sheet?\n",
    "- Or compare to end-of-year balance sheet?\n",
    "- Usually average balance sheet items.  Examples:\n",
    "  - ROCE = net income + after-tax interest / average invested capital\n",
    "  - asset turnover = sales / average assets\n",
    "  - etc."
   ]
  },
  {
   "cell_type": "markdown",
   "metadata": {"slideshow": {"slide_type": "slide"}},
   "source": [
    "### Getting Financial Statements with yfinance"
   ]
  },
  {
   "cell_type": "code",
   "execution_count": 11,
   "metadata": {"slideshow": {"slide_type": "slide"}},
   "outputs": [],
   "source": [
    "# !pip install --upgrade yfinance\n",
    "import yfinance as yf\n",
    "\n",
    "ticker = yf.Ticker('COP')\n",
    "income_statement = ticker.financials\n",
    "balance_sheet = ticker.balance_sheet\n",
    "cash_flows = ticker.cashflow"
   ]
  },
  {
   "cell_type": "code",
   "execution_count": 12,
   "metadata": {"slideshow": {"slide_type": "slide"}},
   "outputs": [
    {
     "data": {
      "text/plain": [
       "Index(['Tax Effect Of Unusual Items', 'Tax Rate For Calcs',\n",
       "       'Normalized EBITDA', 'Total Unusual Items',\n",
       "       'Total Unusual Items Excluding Goodwill',\n",
       "       'Net Income From Continuing Operation Net Minority Interest',\n",
       "       'Reconciled Depreciation', 'Reconciled Cost Of Revenue', 'EBITDA',\n",
       "       'EBIT', 'Net Interest Income', 'Interest Expense', 'Interest Income',\n",
       "       'Normalized Income',\n",
       "       'Net Income From Continuing And Discontinued Operation',\n",
       "       'Total Expenses', 'Diluted Average Shares', 'Basic Average Shares',\n",
       "       'Diluted EPS', 'Basic EPS', 'Diluted NI Availto Com Stockholders',\n",
       "       'Net Income Common Stockholders', 'Otherunder Preferred Stock Dividend',\n",
       "       'Net Income', 'Minority Interests',\n",
       "       'Net Income Including Noncontrolling Interests',\n",
       "       'Net Income Continuous Operations', 'Tax Provision', 'Pretax Income',\n",
       "       'Other Income Expense', 'Other Non Operating Income Expenses',\n",
       "       'Special Income Charges', 'Gain On Sale Of Ppe', 'Write Off',\n",
       "       'Impairment Of Capital Assets', 'Earnings From Equity Interest',\n",
       "       'Gain On Sale Of Security', 'Net Non Operating Interest Income Expense',\n",
       "       'Interest Expense Non Operating', 'Interest Income Non Operating',\n",
       "       'Operating Income', 'Operating Expense', 'Other Operating Expenses',\n",
       "       'Other Taxes', 'Selling General And Administration', 'Gross Profit',\n",
       "       'Cost Of Revenue', 'Total Revenue', 'Operating Revenue'],\n",
       "      dtype='object')"
      ]
     },
     "execution_count": 12,
     "metadata": {"slideshow": {"slide_type": "slide"}},
     "output_type": "execute_result"
    }
   ],
   "source": [
    "income_statement.index"
   ]
  },
  {
   "cell_type": "code",
   "execution_count": 13,
   "metadata": {"slideshow": {"slide_type": "slide"}},
   "outputs": [
    {
     "data": {
      "text/plain": [
       "DatetimeIndex(['2022-12-31', '2021-12-31', '2020-12-31', '2019-12-31'], dtype='datetime64[ns]', freq=None)"
      ]
     },
     "execution_count": 13,
     "metadata": {"slideshow": {"slide_type": "slide"}},
     "output_type": "execute_result"
    }
   ],
   "source": [
    "income_statement.columns"
   ]
  },
  {
   "cell_type": "code",
   "execution_count": 14,
   "metadata": {"slideshow": {"slide_type": "slide"}},
   "outputs": [
    {
     "data": {
      "text/plain": [
       "Index(['Treasury Shares Number', 'Ordinary Shares Number', 'Share Issued',\n",
       "       'Net Debt', 'Total Debt', 'Tangible Book Value', 'Invested Capital',\n",
       "       'Working Capital', 'Net Tangible Assets', 'Common Stock Equity',\n",
       "       'Total Capitalization', 'Total Equity Gross Minority Interest',\n",
       "       'Minority Interest', 'Stockholders Equity',\n",
       "       'Gains Losses Not Affecting Retained Earnings',\n",
       "       'Other Equity Adjustments', 'Treasury Stock', 'Retained Earnings',\n",
       "       'Additional Paid In Capital', 'Capital Stock', 'Common Stock',\n",
       "       'Total Liabilities Net Minority Interest',\n",
       "       'Total Non Current Liabilities Net Minority Interest',\n",
       "       'Other Non Current Liabilities', 'Employee Benefits',\n",
       "       'Non Current Deferred Liabilities',\n",
       "       'Non Current Deferred Taxes Liabilities',\n",
       "       'Long Term Debt And Capital Lease Obligation', 'Long Term Debt',\n",
       "       'Long Term Provisions', 'Current Liabilities',\n",
       "       'Current Debt And Capital Lease Obligation', 'Current Debt',\n",
       "       'Pensionand Other Post Retirement Benefit Plans Current',\n",
       "       'Payables And Accrued Expenses', 'Current Accrued Expenses', 'Payables',\n",
       "       'Total Tax Payable', 'Accounts Payable', 'Total Assets',\n",
       "       'Total Non Current Assets', 'Other Non Current Assets',\n",
       "       'Non Current Note Receivables', 'Non Current Accounts Receivable',\n",
       "       'Investments And Advances', 'Other Investments',\n",
       "       'Investmentin Financial Assets', 'Held To Maturity Securities',\n",
       "       'Long Term Equity Investment', 'Net PPE', 'Accumulated Depreciation',\n",
       "       'Gross PPE', 'Other Properties', 'Current Assets',\n",
       "       'Other Current Assets', 'Prepaid Assets', 'Inventory', 'Finished Goods',\n",
       "       'Raw Materials', 'Receivables', 'Accounts Receivable',\n",
       "       'Allowance For Doubtful Accounts Receivable',\n",
       "       'Gross Accounts Receivable',\n",
       "       'Cash Cash Equivalents And Short Term Investments',\n",
       "       'Other Short Term Investments', 'Cash And Cash Equivalents',\n",
       "       'Cash Equivalents', 'Cash Financial'],\n",
       "      dtype='object')"
      ]
     },
     "execution_count": 14,
     "metadata": {"slideshow": {"slide_type": "slide"}},
     "output_type": "execute_result"
    }
   ],
   "source": [
    "balance_sheet.index"
   ]
  }
 ],
 "metadata": {
  "kernelspec": {
   "display_name": "Python 3",
   "language": "python",
   "name": "python3"
  },
  "language_info": {
   "codemirror_mode": {
    "name": "ipython",
    "version": 3
   },
   "file_extension": ".py",
   "mimetype": "text/x-python",
   "name": "python",
   "nbconvert_exporter": "python",
   "pygments_lexer": "ipython3",
   "version": "3.10.8"
  }
 },
 "nbformat": 4,
 "nbformat_minor": 2
}
