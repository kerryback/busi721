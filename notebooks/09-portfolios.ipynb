{
 "cells": [
  {
   "cell_type": "markdown",
   "metadata": {
    "slideshow": {
     "slide_type": "slide"
    }
   },
   "source": [
    "# Portfolios\n",
    "\n",
    "### BUSI 721: Data-Driven Finance I\n",
    "### Kerry Back, Rice University"
   ]
  },
  {
   "cell_type": "markdown",
   "metadata": {
    "slideshow": {
     "slide_type": "slide"
    }
   },
   "source": [
    "## Portfolio returns\n",
    "\n",
    "- Two assets, prices $p_1$ and $p_2$\n",
    "- Own shares $x_1$ and $x_2$\n",
    "- Portfolio value is $p_1x_1 + p_2x_2$\n",
    "- Fraction of value in asset $i$ (**weight of asset**) is\n",
    "$$w_i = \\frac{p_ix_i}{p_1x_1+p_2x_2}$$\n",
    "- Future prices + dividends $\\Rightarrow$ returns $r_1$ and $r_2$\n",
    "- Portfolio return is $w_1r_1 + w_2r_2$."
   ]
  },
  {
   "cell_type": "markdown",
   "metadata": {
    "slideshow": {
     "slide_type": "slide"
    }
   },
   "source": [
    "## Example\n",
    "\n",
    "- $\\text{\\$}200$ in asset 1 and $\\text{\\$}300$ in asset 2\n",
    "- asset 1 goes up 10% and asset 2 goes up 5%\n",
    "- asset 1 $\\mapsto \\text{\\$}220$\n",
    "- asset 2 $\\mapsto \\text{\\$}315$\n",
    "- portfolio value is $\\text{\\$}535$\n",
    "- This is a 7% gain and \n",
    "$$\\frac{2}{5} \\times 0.1 + \\frac{3}{5} \\times 0.05 = 0.07$$"
   ]
  },
  {
   "cell_type": "markdown",
   "metadata": {
    "slideshow": {
     "slide_type": "slide"
    }
   },
   "source": [
    "## Expected return\n",
    "\n",
    "- Returns are random variables\n",
    "- Expected = mean\n",
    "- mean portfolio return $w_1r_1 + w_2r_2$ is\n",
    "$$w_1 \\times \\text{mean of $r_1$} + w_2 \\times \\text{mean of $r_2$}$$"
   ]
  },
  {
   "cell_type": "markdown",
   "metadata": {
    "slideshow": {
     "slide_type": "slide"
    }
   },
   "source": [
    "## Variance\n",
    "\n",
    "- The variance of the portfolio return is\n",
    "\n",
    "$$w_1^2 \\sigma_1^2 + w_2 \\sigma_2^2 + 2 w_1w_2\\rho\\sigma_1\\sigma_2$$\n",
    "\n",
    "- where $\\sigma_i=$ std dev of $r_i$ and $\\rho$ is the correlation of $r_1$ and $r_2$.\n",
    "\n",
    "- Lower correlation implies lower portfolio risk!"
   ]
  },
  {
   "cell_type": "markdown",
   "metadata": {
    "slideshow": {
     "slide_type": "slide"
    }
   },
   "source": [
    "## Proof of variance formula\n",
    "\n",
    "- Variance is expected squared deviation from mean\n",
    "- Set $r_p = w_1r_1+w_2r_2$ and use overbars to denote means\n",
    "- Variance of $r_p$ is\n",
    "$$ \\text{mean of } (r_p - \\bar{r}_p)^2$$\n",
    "- And\n",
    "$$r_p - \\bar{r}_p = w_1r_1 + w_2r_2 - (w_1\\bar{r}_1 + w_2\\bar{r}_2)$$\n",
    "- So\n",
    "$$r_p - \\bar{r}_p = w_1(r_1 -\\bar{r}_1) + w_2(r_2 - \\bar{r}_2)$$\n",
    "- To square this, use $(a+b)^2 = a^2 + b^2 + 2ab$"
   ]
  },
  {
   "cell_type": "markdown",
   "metadata": {
    "slideshow": {
     "slide_type": "slide"
    }
   },
   "source": [
    "- So portfolio variance is\n",
    "$$w_1^2 \\times \\text{mean of $(r_1-\\bar{r}_1)^2$}$$\n",
    "$$ \\quad + w_2^2 \\times \\text{mean of $(r_2-\\bar{r}_2)^2$}$$\n",
    "$$ \\qquad \\qquad \\qquad + 2w_1w_2 \\times \\text{mean of $(r_1-\\bar{r_1})(r_2-\\bar{r}_2)$}$$\n",
    "- This is \n",
    "$$w_1^2 \\sigma_1^2 + w_2 \\sigma_2^2 + 2 w_1w_2\\rho\\sigma_1\\sigma_2$$\n"
   ]
  },
  {
   "cell_type": "markdown",
   "metadata": {
    "slideshow": {
     "slide_type": "slide"
    }
   },
   "source": [
    "## Example"
   ]
  },
  {
   "cell_type": "code",
   "execution_count": 2,
   "metadata": {
    "slideshow": {
     "slide_type": "slide"
    }
   },
   "outputs": [],
   "source": [
    "mu1, mu2 = 0.06, 0.1\n",
    "sigma1, sigma2 = 0.2, 0.3\n",
    "rho = 0.3\n",
    "w1, w2 = 0.4, 0.6"
   ]
  },
  {
   "cell_type": "code",
   "execution_count": 3,
   "metadata": {
    "slideshow": {
     "slide_type": "slide"
    }
   },
   "outputs": [
    {
     "name": "stdout",
     "output_type": "stream",
     "text": [
      "mean portfolio return is 8.40%\n",
      "std dev of portfolio return is 21.78%\n"
     ]
    }
   ],
   "source": [
    "import numpy as np\n",
    "\n",
    "mn = w1*mu1 + w2*mu2\n",
    "var = w1**2*sigma1**2 + w2**2*sigma2**2 + 2*w1*w2*rho*sigma1*sigma2\n",
    "\n",
    "print(f\"mean portfolio return is {mn:.2%}\")\n",
    "print(f\"std dev of portfolio return is {np.sqrt(var):.2%}\")"
   ]
  },
  {
   "cell_type": "markdown",
   "metadata": {
    "slideshow": {
     "slide_type": "slide"
    }
   },
   "source": [
    "## Simulation"
   ]
  },
  {
   "cell_type": "code",
   "execution_count": 4,
   "metadata": {
    "slideshow": {
     "slide_type": "slide"
    }
   },
   "outputs": [
    {
     "name": "stdout",
     "output_type": "stream",
     "text": [
      "simulated mean is 8.39%\n",
      "simulated std dev is 21.77%\n"
     ]
    }
   ],
   "source": [
    "cov = [\n",
    "    [sigma1**2, rho*sigma1*sigma2],\n",
    "    [rho*sigma1*sigma2, sigma2**2]\n",
    "]\n",
    "\n",
    "from scipy.stats import multivariate_normal as multinorm\n",
    "rets = multinorm.rvs(\n",
    "    mean=[mu1, mu2], \n",
    "    cov=cov, \n",
    "    size=1000000\n",
    ")\n",
    "rp = w1*rets[:,0] + w2*rets[:,1]\n",
    "\n",
    "print(f\"simulated mean is {np.mean(rp):.2%}\")\n",
    "print(f\"simulated std dev is {np.std(rp):.2%}\")"
   ]
  },
  {
   "cell_type": "markdown",
   "metadata": {
    "slideshow": {
     "slide_type": "slide"
    }
   },
   "source": [
    "## Cash\n",
    "\n",
    "- Adding cash (money market investment) to a portfolio has a simple effect on expected return and risk.\n",
    "- Let asset 2 be cash.  Its return has negligible risk.  Call its return $r_{mm}$.\n",
    "- Portfolio mean is $w_1 \\mu_1 + w_2 r_{mm}$\n",
    "- Portfolio variance is $w_1^2\\sigma_1^2$\n",
    "- Portfolio std dev is $w_1\\sigma_1$."
   ]
  },
  {
   "cell_type": "markdown",
   "metadata": {
    "slideshow": {
     "slide_type": "slide"
    }
   },
   "source": [
    "## Margin loans\n",
    "\n",
    "- You can have negative cash by borrowing from your broker.\n",
    "- Example: put $\\text{\\$1,000}$ in an account, borrow $\\text{\\$200}$ and buy $\\text{\\$1,200}$ of a stock.  \n",
    "- Continue to call asset 2 cash.  \n",
    "- Your portfolio weights are\n",
    "$w_1 = 1.2$ and $w_2=-0.2$.\n",
    "- Your expected return is $1.2\\times\\mu_1 - 0.2\\times r_{ml}$ where $r_{ml}$ is the margin loan rate.\n",
    "- Your std dev is $1.2 \\sigma_1$."
   ]
  },
  {
   "cell_type": "markdown",
   "metadata": {
    "slideshow": {
     "slide_type": "slide"
    }
   },
   "source": [
    "## Short selling\n",
    "\n",
    "- You can have a negative weight on a stock by selling short.\n",
    "- To sell short, your broker borrows shares on your behalf and sells them.\n",
    "- You eventually have to buy the shares back in the market and return them.\n",
    "- Profit by selling high and buying low.\n",
    "- Example: short sell 100 shares $\\text{\\$}$100 stock.  \n",
    "  - Stock falls to $\\text{\\$}$90 and you cover the short (buy and return shares).  \n",
    "  - Paid $\\text{\\$}$90 and sold at $\\text{\\$}$100 $\\Rightarrow$ profit $\\text{\\$}$10 per share on 100 shares."
   ]
  },
  {
   "cell_type": "markdown",
   "metadata": {
    "slideshow": {
     "slide_type": "slide"
    }
   },
   "source": [
    "## Long and short returns (simplified version)\n",
    "\n",
    "- Assume we invest $\\text{\\$1,000}$, short sell $\\text{\\$400}$ of stock 2 and buy $\\text{\\$1,400}$ of stock 1.\n",
    "- The weights are 1.4 in stock 1 and -0.4 in stock 2.\n",
    "- Suppose stock 1 goes up 10% and stock 2 goes up 5%.\n",
    "  - Stock 1 $\\rightarrow$ $\\text{\\$1,540}$.  \n",
    "  - Stock 2 position $\\rightarrow$ $-\\text{\\$420}$.\n",
    "  - Portfolio value $\\rightarrow$ $\\text{\\$1,120} = 12$% return\n",
    "  - $w_1r_1 + w_2r_2 = 1.4 \\times 0.10 - 0.4 \\times 0.05 = 0.12$"
   ]
  },
  {
   "cell_type": "markdown",
   "metadata": {
    "slideshow": {
     "slide_type": "slide"
    }
   },
   "source": [
    "## Long and short returns (practical version)\n",
    "\n",
    "- Proceeds from short sales are retained as collateral\n",
    "- Investor may get some interest on the proceeds while they are held (called short interest rebate)\n",
    "- We can invest $\\text{\\$1,000}$, short sell $\\text{\\$400}$ of stock 2 and buy $\\text{\\$1,400}$ of stock 1 only if we take out a margin loan for $\\text{\\$400}$.\n",
    "- Actual return in example is \n",
    "$$1.4 \\times 0.10 - 0.4 \\times 0.05 $$\n",
    "$$- 0.4 \\times r_{ml} + 0.4 \\times r_{sir}- 0.4 \\text{$\\times$ short borrowing fee}$$\n",
    "- where $r_{sir}$ is the short interest rebate rate."
   ]
  },
  {
   "cell_type": "markdown",
   "metadata": {
    "slideshow": {
     "slide_type": "slide"
    }
   },
   "source": [
    "## Enhanced index return example\n",
    "\n",
    "- Invest $\\text{\\$1,000}$.  Borrow $\\text{\\$1,000}$ on margin loan.  \n",
    "- Buy $\\text{\\$1,000}$ of SPY and buy $\\text{\\$1,000}$ of CVX.  \n",
    "- Short sell $\\text{\\$1,000}$ of COP.\n",
    "- Return is SPY return + CVX return - COP return minus margin loan/short interest rebate/short borrowing fee drag.\n",
    "- If CVX beats COP enough, you will beat SPY."
   ]
  },
  {
   "cell_type": "markdown",
   "metadata": {
    "slideshow": {
     "slide_type": "slide"
    }
   },
   "source": [
    "## More assets\n",
    "\n",
    "- $n$ stocks\n",
    "- weights $w_1, \\ldots, w_n$\n",
    "- expected returns $\\mu_1, \\ldots, \\mu_n$\n",
    "- covariance matrix $\\Sigma$\n",
    "  - diagonal elements of covariance matrix are variances\n",
    "  - off-diagonal elements are correlation $\\times$ std dev $\\times$ std dev."
   ]
  },
  {
   "cell_type": "markdown",
   "metadata": {
    "slideshow": {
     "slide_type": "slide"
    }
   },
   "source": [
    "## Portfolio risk\n",
    "\n",
    "- Portfolio variance is $w'\\Sigma w$\n",
    "- Portfolio std dev is $\\sqrt{w'\\Sigma w}$"
   ]
  },
  {
   "cell_type": "code",
   "execution_count": 5,
   "metadata": {
    "slideshow": {
     "slide_type": "slide"
    }
   },
   "outputs": [
    {
     "name": "stdout",
     "output_type": "stream",
     "text": [
      "portfolio std dev is 10.84%\n"
     ]
    }
   ],
   "source": [
    "# example\n",
    "\n",
    "w = np.array([0.2, 0.2, 0.4])\n",
    "sigma1, sigma2, sigma3 = 0.2, 0.3, 0.1\n",
    "rho12, rho13, rho23 = 0.3, 0.5, 0.4\n",
    "\n",
    "cov = np.array([\n",
    "    [sigma1**2, rho12*sigma1*sigma2, rho13*sigma1*sigma3],\n",
    "    [rho12*sigma1*sigma2, sigma2**2, rho23*sigma2*sigma3],\n",
    "    [rho13*sigma1*sigma3, rho23*sigma2*sigma3, sigma3**2]\n",
    "])\n",
    "stdev = np.sqrt(w @ cov @ w)\n",
    "\n",
    "print(f\"portfolio std dev is {stdev:.2%}\")"
   ]
  },
  {
   "cell_type": "markdown",
   "metadata": {
    "slideshow": {
     "slide_type": "slide"
    }
   },
   "source": [
    "## Portfolio expected return\n",
    "\n",
    "- If $w_i \\ge 0$ and sum to 1, then portfolio mean is $w'\\mu$.\n",
    "- If $w_i \\ge 0$ and sum to less than 1, then portfolio mean is\n",
    "$$w'\\mu + \\left(1-\\sum w_i\\right)r_{mm}$$\n",
    "- If $w_i \\ge 0$ and sum to more than 1, then portfolio mean is\n",
    "$$w'\\mu + \\left(1-\\sum w_i\\right)r_{ml}$$"
   ]
  },
  {
   "cell_type": "markdown",
   "metadata": {
    "slideshow": {
     "slide_type": "slide"
    }
   },
   "source": [
    "- So we can say that if $w_i \\ge 0$, then portfolio mean is\n",
    "$$w'\\mu + \\left(1-\\sum w_i\\right)r_f$$\n",
    "- where $r_f = r_{mm}$ if cash > 0 and $r_m = r_{ml}$ if cash < 0.\n",
    "- With short sales, portfolio mean is also\n",
    "$$w'\\mu + \\left(1-\\sum w_i\\right)r_f$$\n",
    "- minus the drag from difference between margin loan and short interest rebate rates and minus short borrowing fees."
   ]
  },
  {
   "cell_type": "code",
   "execution_count": 6,
   "metadata": {
    "slideshow": {
     "slide_type": "slide"
    }
   },
   "outputs": [
    {
     "name": "stdout",
     "output_type": "stream",
     "text": [
      "portfolio mean is 8.40%\n"
     ]
    }
   ],
   "source": [
    "# continuing prior example\n",
    "\n",
    "rf = 0.04\n",
    "mu1, mu2, mu3 = 0.1, 0.12, 0.08\n",
    "mu = np.array([mu1, mu2, mu3])\n",
    "\n",
    "port_mean = w @ mu + (1-np.sum(w))*rf\n",
    "print(f\"portfolio mean is {port_mean:.2%}\")"
   ]
  },
  {
   "cell_type": "markdown",
   "metadata": {
    "slideshow": {
     "slide_type": "slide"
    }
   },
   "source": [
    "## Estimating from historical returns\n",
    "\n",
    "- Example:\n",
    "  - SPY = S&P 500\n",
    "  - IEF = Treasury bonds\n",
    "  - GLD = gold\n",
    "- Get adjusted closing prices from Yahoo\n",
    "- Compute returns as percent changes"
   ]
  },
  {
   "cell_type": "code",
   "execution_count": 7,
   "metadata": {
    "slideshow": {
     "slide_type": "slide"
    }
   },
   "outputs": [
    {
     "name": "stdout",
     "output_type": "stream",
     "text": [
      "[*********************100%%**********************]  3 of 3 completed\n"
     ]
    },
    {
     "data": {
      "text/html": [
       "<div>\n",
       "<style scoped>\n",
       "    .dataframe tbody tr th:only-of-type {\n",
       "        vertical-align: middle;\n",
       "    }\n",
       "\n",
       "    .dataframe tbody tr th {\n",
       "        vertical-align: top;\n",
       "    }\n",
       "\n",
       "    .dataframe thead th {\n",
       "        text-align: right;\n",
       "    }\n",
       "</style>\n",
       "<table border=\"1\" class=\"dataframe\">\n",
       "  <thead>\n",
       "    <tr style=\"text-align: right;\">\n",
       "      <th></th>\n",
       "      <th>GLD</th>\n",
       "      <th>IEF</th>\n",
       "      <th>SPY</th>\n",
       "    </tr>\n",
       "    <tr>\n",
       "      <th>Date</th>\n",
       "      <th></th>\n",
       "      <th></th>\n",
       "      <th></th>\n",
       "    </tr>\n",
       "  </thead>\n",
       "  <tbody>\n",
       "    <tr>\n",
       "      <th>2004-11-19</th>\n",
       "      <td>0.009013</td>\n",
       "      <td>-0.005480</td>\n",
       "      <td>-0.011117</td>\n",
       "    </tr>\n",
       "    <tr>\n",
       "      <th>2004-11-22</th>\n",
       "      <td>0.003796</td>\n",
       "      <td>0.000704</td>\n",
       "      <td>0.004769</td>\n",
       "    </tr>\n",
       "    <tr>\n",
       "      <th>2004-11-23</th>\n",
       "      <td>-0.004449</td>\n",
       "      <td>-0.000938</td>\n",
       "      <td>0.001526</td>\n",
       "    </tr>\n",
       "  </tbody>\n",
       "</table>\n",
       "</div>"
      ],
      "text/plain": [
       "                 GLD       IEF       SPY\n",
       "Date                                    \n",
       "2004-11-19  0.009013 -0.005480 -0.011117\n",
       "2004-11-22  0.003796  0.000704  0.004769\n",
       "2004-11-23 -0.004449 -0.000938  0.001526"
      ]
     },
     "execution_count": 7,
     "metadata": {"slideshow": {"slide_type": "slide"}},
     "output_type": "execute_result"
    }
   ],
   "source": [
    "import yfinance as yf\n",
    "\n",
    "tickers = [\"SPY\", \"IEF\", \"GLD\"]\n",
    "prices = yf.download(tickers, start=\"1970-01-01\")[\"Adj Close\"]\n",
    "rets = prices.pct_change().dropna()\n",
    "rets.head(3)"
   ]
  },
  {
   "cell_type": "code",
   "execution_count": 8,
   "metadata": {
    "slideshow": {
     "slide_type": "slide"
    }
   },
   "outputs": [
    {
     "data": {
      "text/html": [
       "<div>\n",
       "<style scoped>\n",
       "    .dataframe tbody tr th:only-of-type {\n",
       "        vertical-align: middle;\n",
       "    }\n",
       "\n",
       "    .dataframe tbody tr th {\n",
       "        vertical-align: top;\n",
       "    }\n",
       "\n",
       "    .dataframe thead th {\n",
       "        text-align: right;\n",
       "    }\n",
       "</style>\n",
       "<table border=\"1\" class=\"dataframe\">\n",
       "  <thead>\n",
       "    <tr style=\"text-align: right;\">\n",
       "      <th></th>\n",
       "      <th>GLD</th>\n",
       "      <th>IEF</th>\n",
       "      <th>SPY</th>\n",
       "    </tr>\n",
       "  </thead>\n",
       "  <tbody>\n",
       "    <tr>\n",
       "      <th>GLD</th>\n",
       "      <td>1.000000</td>\n",
       "      <td>0.208371</td>\n",
       "      <td>0.049425</td>\n",
       "    </tr>\n",
       "    <tr>\n",
       "      <th>IEF</th>\n",
       "      <td>0.208371</td>\n",
       "      <td>1.000000</td>\n",
       "      <td>-0.320228</td>\n",
       "    </tr>\n",
       "    <tr>\n",
       "      <th>SPY</th>\n",
       "      <td>0.049425</td>\n",
       "      <td>-0.320228</td>\n",
       "      <td>1.000000</td>\n",
       "    </tr>\n",
       "  </tbody>\n",
       "</table>\n",
       "</div>"
      ],
      "text/plain": [
       "          GLD       IEF       SPY\n",
       "GLD  1.000000  0.208371  0.049425\n",
       "IEF  0.208371  1.000000 -0.320228\n",
       "SPY  0.049425 -0.320228  1.000000"
      ]
     },
     "execution_count": 8,
     "metadata": {"slideshow": {"slide_type": "slide"}},
     "output_type": "execute_result"
    }
   ],
   "source": [
    "rets.corr()"
   ]
  },
  {
   "cell_type": "markdown",
   "metadata": {
    "slideshow": {
     "slide_type": "slide"
    }
   },
   "source": [
    "## Annualizing\n",
    "\n",
    "- May be easier to interpret means and std devs when expressed in annual terms\n",
    "- Annualize daily means by multiplying by 252 (# of trading days in a year)\n",
    "- Annualize daily variances by multiplying by 252\n",
    "- Annualize daily std devs by multiplying by square root of 252"
   ]
  },
  {
   "cell_type": "code",
   "execution_count": 9,
   "metadata": {
    "slideshow": {
     "slide_type": "slide"
    }
   },
   "outputs": [
    {
     "name": "stdout",
     "output_type": "stream",
     "text": [
      "annualized means are \n",
      "GLD    0.090313\n",
      "IEF    0.031442\n",
      "SPY    0.106698\n",
      "dtype: float64\n",
      "\n",
      "annualized std devs are \n",
      "GLD    0.176744\n",
      "IEF    0.068225\n",
      "SPY    0.193171\n",
      "dtype: float64\n"
     ]
    }
   ],
   "source": [
    "print(f\"annualized means are \\n{252*rets.mean()}\")\n",
    "print(f\"\\nannualized std devs are \\n{np.sqrt(252)*rets.std()}\")"
   ]
  },
  {
   "cell_type": "markdown",
   "metadata": {
    "slideshow": {
     "slide_type": "slide"
    }
   },
   "source": [
    "## Portfolio returns"
   ]
  },
  {
   "cell_type": "code",
   "execution_count": 10,
   "metadata": {
    "slideshow": {
     "slide_type": "slide"
    }
   },
   "outputs": [
    {
     "name": "stdout",
     "output_type": "stream",
     "text": [
      "annualized mean portfolio return is 8.08%\n",
      "annualized std dev is 10.18%\n"
     ]
    }
   ],
   "source": [
    "w = np.array([0.2, 0.3, 0.5])\n",
    "mean = w @ rets.mean()\n",
    "var = w @ rets.cov() @ w\n",
    "stdev = np.sqrt(var)\n",
    "\n",
    "print(f\"annualized mean portfolio return is {252*mean:.2%}\")\n",
    "print(f\"annualized std dev is {np.sqrt(252)*stdev:.2%}\")"
   ]
  }
 ],
 "metadata": {
  "kernelspec": {
   "display_name": "Python 3",
   "language": "python",
   "name": "python3"
  },
  "language_info": {
   "codemirror_mode": {
    "name": "ipython",
    "version": 3
   },
   "file_extension": ".py",
   "mimetype": "text/x-python",
   "name": "python",
   "nbconvert_exporter": "python",
   "pygments_lexer": "ipython3",
   "version": "3.10.8"
  }
 },
 "nbformat": 4,
 "nbformat_minor": 2
}
