{
  "cells": [
    {
      "cell_type": "markdown",
      "id": "a9a42e9c",
      "metadata": {
        "slideshow": {
          "slide_type": "slide"
        }
      },
      "source": [
        "# Time Value of Money\n",
        "\n",
        "### BUSI 721: Data-Driven Finance I\n",
        "### Kerry Back, Rice University"
      ]
    },
    {
      "cell_type": "markdown",
      "id": "dba54d7c",
      "metadata": {
        "slideshow": {
          "slide_type": "slide"
        }
      },
      "source": [
        "### Overview\n",
        "\n",
        "- PV = present value = today's value\n",
        "- FV = future value = value at some particular time in the future\n",
        "- r = interest rate, discount rate, expected rate of return, required rate of return, cost of capital, $\\ldots$\n",
        "- n = number of periods (could be years or months or $\\ldots$)\n",
        "\n",
        "$$\\text{PV} = \\frac{\\text{FV}}{(1+r)^n} \\quad \\Leftrightarrow \\quad \\text{FV} = \\text{PV} \\times (1+r)^n$$\n",
        "\n",
        "- used for loan calculations, retirement planning, evaluation of corporate investment projects, $\\ldots$\n"
      ]
    },
    {
      "cell_type": "markdown",
      "id": "a137a53c-bbfe-422f-a494-206d1fd3d064",
      "metadata": {
        "slideshow": {
          "slide_type": "slide"
        }
      },
      "source": [
        "### Example\n",
        "\n",
        "Suppose we invest $\\$1,000$ at an annual interest rate of 5% for 2 years.\n",
        "\n",
        "**End of Year 1:**\n",
        "\n",
        "At the end of the first year, we'll have earn interest on our initial investment equal to $\\$1,000$ multiplied by $0.05$. So, the balance at the end of the year would be our initial investment plus the interest earned.\n",
        "\n",
        "Balance = Initial Investment + Interest\n",
        "\n",
        "Balance = $\\$1,000 \\times 1 + \\$1,000 \\times 0.05$\n",
        "\n",
        "Balance = $\\$1,000 \\times 1.05$"
      ]
    },
    {
      "cell_type": "markdown",
      "id": "faf5b34a",
      "metadata": {
        "slideshow": {
          "slide_type": "slide"
        }
      },
      "source": [
        "**End of Year 2:**\n",
        "\n",
        "During the second year, we'll earn interest on the balance from the end of the first year, which is $\\$1,000 \\times 1.05$.\n",
        "\n",
        "Interest for the second year: $(\\$1,000 \\times 1.05) \\times 0.05$\n",
        "\n",
        "Balance = $(\\$1,000 \\times 1.05) \\times 1 + (\\$1,000 \\times 1.05) \\times 0.05$\n",
        "\n",
        "Balance = $\\$1,000 \\times 1.05 \\times 1.05$\n",
        "\n",
        "Balance = $\\$1,000 \\times 1.05^2$\n",
        "\n",
        "Continuing this pattern, for any given year n, the future value of the investment will be:\n",
        "\n",
        "$$\\text{FV} = \\$1,000 \\times 1.05^n$$\n"
      ]
    },
    {
      "cell_type": "markdown",
      "id": "3706066a-5728-4814-96db-483bdd26c731",
      "metadata": {
        "slideshow": {
          "slide_type": "slide"
        }
      },
      "source": [
        "### Loan Balance Example\n",
        "\n",
        "Imagine you take out a loan of $\\$10,000$ at an annual interest rate of 5%. You agree to repay the loan in annual installments of $\\$2,500$.\n",
        "\n",
        "**End of Year 1:**\n",
        "   - Interest for the year: $\\$10,000 \\times 0.05 = \\$500$\n",
        "   - Total amount owed (before payment): $\\$10,000 + \\$500 = \\$10,500$\n",
        "   - After making the annual payment of $\\$2,500$, the remaining balance is: $\\$10,500 - \\$2,500 = \\$8,000$"
      ]
    },
    {
      "cell_type": "markdown",
      "id": "7d3591bc",
      "metadata": {
        "slideshow": {
          "slide_type": "slide"
        }
      },
      "source": [
        "**End of Year 2:**\n",
        "   - Interest for the year: $\\$8,000 \\times 0.05 = \\$400$\n",
        "   - Total amount owed (before payment): $\\$8,000 + \\$400 = \\$8,400$\n",
        "   - After making the annual payment of $\\$2,500$, the remaining balance is: $\\$8,400 - \\$2,500 = \\$5,900$\n",
        "\n",
        "And so on..."
      ]
    },
    {
      "cell_type": "markdown",
      "id": "5aa05aa3",
      "metadata": {
        "slideshow": {
          "slide_type": "slide"
        }
      },
      "source": [
        "### Loan Balances as FVs\n",
        "\n",
        "- B = balance\n",
        "- P = payment\n",
        "- r = interest rate\n",
        "- each period B $\\mapsto$ B(1+r) - P"
      ]
    },
    {
      "cell_type": "markdown",
      "id": "6d5adc4b",
      "metadata": {
        "slideshow": {
          "slide_type": "slide"
        }
      },
      "source": [
        "\\begin{align*}\n",
        " B_1 &= B_0(1+r) - P\\\\\n",
        "B_2 &= B_1(1+r) - P\\\\\n",
        "B_2 &= \\big[B_0(1+r) - P\\big](1+r) - P\\\\\n",
        "B_2 &= B_0(1+r)^2 - P(1+r) - P\n",
        "\\end{align*}\n",
        "\n",
        "Likewise,\n",
        "$$B_3 = B_0(1+r)^3 - P(1+r)^2 - P(1+r) - P, \\ldots$$\n"
      ]
    },
    {
      "cell_type": "markdown",
      "id": "171da19c",
      "metadata": {
        "slideshow": {
          "slide_type": "slide"
        }
      },
      "source": [
        "### Loan Balances and PVs\n",
        "\n",
        "- Balance = FV of initial balance - combined FVs of payments\n",
        "- Divide by (1+r)^n to convert to PVs.\n",
        "\n",
        "\\begin{align*}\n",
        "\\frac{B_2}{(1+r)^2} &= B_0 - \\frac{P}{1+r} - \\frac{P}{(1+r)^2}\\\\\n",
        "\\frac{B_3}{(1+r)^3} &= B_0 - \\frac{P}{1+r} - \\frac{P}{(1+r)^2} - \\frac{P}{(1+r)^3}, \\ldots\n",
        "\\end{align*}\n",
        "\n",
        "- PV of future balance is initial balance minus combined PVs of payments"
      ]
    },
    {
      "cell_type": "markdown",
      "id": "f31caaae",
      "metadata": {
        "slideshow": {
          "slide_type": "slide"
        }
      },
      "source": [
        "### Annuity Factor and Loan Terms\n",
        "\n",
        "- After the final payment, the future balance must be zero.\n",
        "- So, PV of future balance = initial balance - combined PVs of payments implies\n",
        "\n",
        "- **initial balance = combined PVs of all payments**\n",
        "\n",
        "\\begin{align*}\n",
        "B_0 &= \\frac{P}{1+r} + \\frac{P}{(1+r)^2} + \\cdots +  \\frac{P}{(1+r)^n}\\\\\n",
        "B_0 &= P\\left[\\frac{1}{1+r} + \\frac{1}{(1+r)^2} + \\cdots +  \\frac{1}{(1+r)^n}\\right]\n",
        "\\end{align*}\n",
        "\n",
        "- Expression in braces is called the **Annuity Factor**"
      ]
    },
    {
      "cell_type": "markdown",
      "id": "100a1fac",
      "metadata": {
        "slideshow": {
          "slide_type": "slide"
        }
      },
      "source": [
        "### Calculating Annuity Factors\n",
        "\n",
        "- In Excel, use pv(r, n, 1)\n",
        "- In python, use either of the following:"
      ]
    },
    {
      "cell_type": "code",
      "execution_count": 35,
      "id": "4f5078a0",
      "metadata": {
        "slideshow": {
          "slide_type": "slide"
        }
      },
      "outputs": [
        {
          "name": "stdout",
          "output_type": "stream",
          "text": [
            "2.72324802937048\n",
            "2.7232480293704784\n"
          ]
        }
      ],
      "source": [
        "r = 0.05\n",
        "n = 3\n",
        "\n",
        "import numpy_financial as npf\n",
        "print(npf.pv(rate=r, nper=n, pmt=-1))\n",
        "\n",
        "# or\n",
        "\n",
        "import numpy as np \n",
        "pv_factors = (1+r)**np.arange(-1, -n-1, -1)\n",
        "print(np.sum(pv_factors))"
      ]
    },
    {
      "cell_type": "markdown",
      "id": "15027cb1",
      "metadata": {
        "slideshow": {
          "slide_type": "slide"
        }
      },
      "source": [
        "### Formula for Annuity Factor\n",
        "\n",
        "There is also a somewhat simpler formula for the sum of PV factors.  \n",
        "\n",
        "$$\\text{Annuity Factor} = \\frac{1}{r}\\;\\left[1 - \\frac{1}{(1+r)^n}\\right]$$"
      ]
    },
    {
      "cell_type": "code",
      "execution_count": 36,
      "id": "d50d790d",
      "metadata": {},
      "outputs": [
        {
          "name": "stdout",
          "output_type": "stream",
          "text": [
            "2.7232480293704797\n"
          ]
        }
      ],
      "source": [
        "annuity_factor = (1/r) * (1 - (1+r)**(-n))\n",
        "print(annuity_factor)"
      ]
    },
    {
      "cell_type": "markdown",
      "id": "e5a656e3",
      "metadata": {
        "slideshow": {
          "slide_type": "slide"
        }
      },
      "source": [
        "### pv, pmt, and rate\n",
        "\n",
        "- What will the payment on a loan be?\n",
        "- How much can you borrow?\n",
        "- What must the rate be in order for your desired payment to work?"
      ]
    },
    {
      "cell_type": "code",
      "execution_count": 37,
      "id": "6600fb79",
      "metadata": {
        "slideshow": {
          "slide_type": "slide"
        }
      },
      "outputs": [],
      "source": [
        "amount_borrowed = 40000\n",
        "num_years = 5\n",
        "rate = 0.06"
      ]
    },
    {
      "cell_type": "code",
      "execution_count": 38,
      "id": "f3eabb73",
      "metadata": {
        "slideshow": {
          "slide_type": "slide"
        }
      },
      "outputs": [
        {
          "name": "stdout",
          "output_type": "stream",
          "text": [
            "your payment will be $9,495.86\n"
          ]
        }
      ],
      "source": [
        "required_payment = npf.pmt(\n",
        "    rate=rate, \n",
        "    pv=amount_borrowed, \n",
        "    nper=num_years, \n",
        "    fv=0\n",
        ")\n",
        "\n",
        "print(f\"your payment will be ${-required_payment:,.2f}\")"
      ]
    },
    {
      "cell_type": "code",
      "execution_count": 39,
      "id": "11e3d3df",
      "metadata": {
        "slideshow": {
          "slide_type": "slide"
        }
      },
      "outputs": [
        {
          "name": "stdout",
          "output_type": "stream",
          "text": [
            "you can borrow $42,123.64\n"
          ]
        }
      ],
      "source": [
        "payment = 10000\n",
        "num_years = 5\n",
        "rate = 0.06\n",
        "\n",
        "loan_amount = npf.pv(rate=rate, nper=num_years, pmt=-payment, fv=0)\n",
        "print(f\"you can borrow ${loan_amount:,.2f}\")"
      ]
    },
    {
      "cell_type": "code",
      "execution_count": 40,
      "id": "9fc93d56",
      "metadata": {
        "slideshow": {
          "slide_type": "slide"
        }
      },
      "outputs": [
        {
          "name": "stdout",
          "output_type": "stream",
          "text": [
            "you need a rate of 7.93% or less\n"
          ]
        }
      ],
      "source": [
        "amount_borrowed = 40000\n",
        "payment = 10000\n",
        "num_years = 5\n",
        "\n",
        "rate = npf.rate(pv=amount_borrowed, nper=num_years, pmt=-payment, fv=0)\n",
        "print(f\"you need a rate of {rate:,.2%} or less\")"
      ]
    },
    {
      "cell_type": "code",
      "execution_count": 41,
      "id": "12fe435a",
      "metadata": {
        "slideshow": {
          "slide_type": "slide"
        }
      },
      "outputs": [],
      "source": [
        "# Loan with a Balloon\n",
        "\n",
        "amount_borrowed = 40000\n",
        "payment = 10000\n",
        "num_years = 5\n",
        "rate = 0.1"
      ]
    },
    {
      "cell_type": "code",
      "execution_count": 42,
      "id": "bb174cc6",
      "metadata": {
        "slideshow": {
          "slide_type": "slide"
        }
      },
      "outputs": [
        {
          "name": "stdout",
          "output_type": "stream",
          "text": [
            "you will have a balloon payment of $3,369.40\n"
          ]
        }
      ],
      "source": [
        "\n",
        "balloon = - npf.fv(\n",
        "    pv=amount_borrowed, \n",
        "    nper=num_years, \n",
        "    pmt=-payment, \n",
        "    rate=rate\n",
        ")\n",
        "\n",
        "print(f\"you will have a balloon payment of ${balloon:,.2f}\")"
      ]
    },
    {
      "cell_type": "markdown",
      "id": "b66e45f9",
      "metadata": {
        "slideshow": {
          "slide_type": "slide"
        }
      },
      "source": [
        "### Calculating with numpy\n",
        "\n",
        "- pv = pmt * annuity_factor to get loan amount \n",
        "- pmt = pv / annuity_factor to get payment\n",
        "- use scipy.optimize.solve or similar to get rate"
      ]
    },
    {
      "cell_type": "code",
      "execution_count": 43,
      "id": "89a2e011",
      "metadata": {
        "slideshow": {
          "slide_type": "slide"
        }
      },
      "outputs": [
        {
          "name": "stdout",
          "output_type": "stream",
          "text": [
            "you can borrow $42,123.64\n"
          ]
        }
      ],
      "source": [
        "amount_borrowed = 40000\n",
        "num_years = 5\n",
        "rate = 0.06\n",
        "\n",
        "pv_factors = (1+rate)**np.arange(-1, -num_years-1, -1)\n",
        "annuity_factor = np.sum(pv_factors)\n",
        "payment = amount_borrowed / annuity_factor\n",
        "print(f\"you can borrow ${loan_amount:,.2f}\")"
      ]
    },
    {
      "cell_type": "markdown",
      "id": "0a2aa364",
      "metadata": {
        "slideshow": {
          "slide_type": "slide"
        }
      },
      "source": [
        "### Monthly Payments\n",
        "\n",
        "- Banks quote annual rates.  \n",
        "- They divide by 12 to get the monthly rate.\n",
        "- The number of periods (nper) in the formulas should be the number of months (=12*num_years)."
      ]
    },
    {
      "cell_type": "code",
      "execution_count": 44,
      "id": "47c019ec",
      "metadata": {
        "slideshow": {
          "slide_type": "slide"
        }
      },
      "outputs": [],
      "source": [
        "amount_borrowed = 40000\n",
        "num_years = 5\n",
        "annual_rate = 0.06"
      ]
    },
    {
      "cell_type": "code",
      "execution_count": 45,
      "id": "f88e11b8",
      "metadata": {
        "slideshow": {
          "slide_type": "slide"
        }
      },
      "outputs": [
        {
          "name": "stdout",
          "output_type": "stream",
          "text": [
            "your payment will be $773.31 each month\n"
          ]
        }
      ],
      "source": [
        "monthly_rate = annual_rate / 12\n",
        "num_months = 12 * num_years\n",
        "required_payment = npf.pmt(\n",
        "    rate=monthly_rate, \n",
        "    pv=amount_borrowed, \n",
        "    nper=num_months, \n",
        "    fv=0\n",
        ")\n",
        "\n",
        "print(f\"your payment will be ${-required_payment:,.2f} each month\")"
      ]
    },
    {
      "cell_type": "markdown",
      "id": "785de13c",
      "metadata": {
        "slideshow": {
          "slide_type": "slide"
        }
      },
      "source": [
        "### Retirement Planning (future value problems)\n",
        "\n",
        "- Imagine you want to have x dollars in n years and expect to make an annual return of r.  How much do you need to save each year?\n",
        "- Imagine you want to spend x dollars per year for m years beginning in year n and expect to make an annual return of r.  How much must you save in years 1, ..., n?\n"
      ]
    },
    {
      "cell_type": "markdown",
      "id": "ef4cd05d",
      "metadata": {
        "slideshow": {
          "slide_type": "slide"
        }
      },
      "source": [
        "- The balance at any future date is the sum of the future values of all of the cash flows.\n",
        "  - Future value of all savings for the first question.\n",
        "  - Future value of all savings and spending for the second question, treating spending as negative.\n",
        "- For the first question, find a savings amount such that the sum of future values is x.\n",
        "  -  Sum of future values = x if and only if sum of present values = PV of x\n",
        "- For the second question, find a savings amount such that the sum of future values (including negative spending) is zero\n",
        "  - Sum of future values = 0 if and only if sum of present values = 0\n",
        "  - Solve: PV of savings = PV of spending"
      ]
    },
    {
      "cell_type": "markdown",
      "id": "bfd8167f",
      "metadata": {
        "slideshow": {
          "slide_type": "slide"
        }
      },
      "source": [
        "### Our Goal\n",
        "\n",
        "<img src=\"images/sleepingwell.jpg\" height=\"500\" width=\"1000\">"
      ]
    },
    {
      "cell_type": "markdown",
      "id": "2e8d1094",
      "metadata": {
        "slideshow": {
          "slide_type": "slide"
        }
      },
      "source": [
        "## Or maybe this\n",
        "\n",
        "<img src=\"images/richinshades.jpg\" height=\"500\" width=\"1000\">"
      ]
    },
    {
      "cell_type": "markdown",
      "id": "9b2b9b4d",
      "metadata": {
        "slideshow": {
          "slide_type": "slide"
        }
      },
      "source": [
        "### Question 1"
      ]
    },
    {
      "cell_type": "code",
      "execution_count": 46,
      "id": "604fd0f5",
      "metadata": {
        "slideshow": {
          "slide_type": "slide"
        }
      },
      "outputs": [
        {
          "data": {
            "text/plain": [
              "-25297.822980094406"
            ]
          },
          "execution_count": 46,
          "metadata": {},
          "output_type": "execute_result"
        }
      ],
      "source": [
        "desired_balance = 2000000\n",
        "num_years = 30\n",
        "rate = 0.06\n",
        "\n",
        "npf.pmt(\n",
        "    pv=0, \n",
        "    fv=desired_balance, \n",
        "    rate=rate, \n",
        "    nper=num_years\n",
        ")"
      ]
    },
    {
      "cell_type": "code",
      "execution_count": 47,
      "id": "75ae3292",
      "metadata": {
        "slideshow": {
          "slide_type": "slide"
        }
      },
      "outputs": [
        {
          "data": {
            "text/plain": [
              "-25297.822980094406"
            ]
          },
          "execution_count": 47,
          "metadata": {},
          "output_type": "execute_result"
        }
      ],
      "source": [
        "# alternatively, matching PVs:\n",
        "\n",
        "npf.pmt(\n",
        "    pv=desired_balance/(1+rate)**num_years, \n",
        "    rate=rate, \n",
        "    nper=num_years, \n",
        "    fv=0\n",
        ")"
      ]
    },
    {
      "cell_type": "markdown",
      "id": "ef517a12",
      "metadata": {
        "slideshow": {
          "slide_type": "slide"
        }
      },
      "source": [
        "### Question 2"
      ]
    },
    {
      "cell_type": "code",
      "execution_count": 48,
      "id": "635835dc",
      "metadata": {
        "slideshow": {
          "slide_type": "slide"
        }
      },
      "outputs": [
        {
          "name": "stdout",
          "output_type": "stream",
          "text": [
            "We need to have $1,278,336 at retirement.\n"
          ]
        }
      ],
      "source": [
        "spending = 100000\n",
        "num_spending_years = 25\n",
        "num_saving_years = 30\n",
        "rate = 0.06\n",
        "\n",
        "pv_spending_at_retirement = npf.pv(\n",
        "    rate=rate, \n",
        "    nper=num_spending_years, \n",
        "    pmt=-spending\n",
        ")\n",
        "\n",
        "print(f\"We need to have ${pv_spending_at_retirement:,.0f} at retirement.\")\n"
      ]
    },
    {
      "cell_type": "code",
      "execution_count": 49,
      "id": "df0c2313",
      "metadata": {
        "slideshow": {
          "slide_type": "slide"
        }
      },
      "outputs": [
        {
          "name": "stdout",
          "output_type": "stream",
          "text": [
            "We need to save $16,170 each year.\n"
          ]
        }
      ],
      "source": [
        "saving = -npf.pmt(\n",
        "    pv=0, \n",
        "    rate=rate, \n",
        "    fv=pv_spending_at_retirement, \n",
        "    nper=num_saving_years\n",
        ")\n",
        "\n",
        "print(f\"We need to save ${saving:,.0f} each year.\")"
      ]
    }
  ],
  "metadata": {
    "kernel_info": {
      "name": "python3"
    },
    "kernelspec": {
      "display_name": "Python 3.9",
      "language": "python",
      "name": "python3"
    },
    "language_info": {
      "codemirror_mode": {
        "name": "ipython",
        "version": 3
      },
      "file_extension": ".py",
      "mimetype": "text/x-python",
      "name": "python",
      "nbconvert_exporter": "python",
      "pygments_lexer": "ipython3",
      "version": "3.10.8"
    },
    "noteable": {
      "last_delta_id": "bf2f8f10-5993-4627-a162-68a2b4eecd49"
    },
    "noteable-chatgpt": {
      "create_notebook": {
        "openai_conversation_id": "9b7a1eac-1446-5e56-8cc7-255f258eb1a2",
        "openai_ephemeral_user_id": "71b5984e-8869-50a8-ab46-5ebd5e17556d",
        "openai_subdivision1_iso_code": "US-TX"
      }
    },
    "nteract": {
      "version": "noteable@2.9.0"
    },
    "selected_hardware_size": "small"
  },
  "nbformat": 4,
  "nbformat_minor": 5
}
