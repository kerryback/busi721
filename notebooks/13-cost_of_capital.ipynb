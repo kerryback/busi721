{
 "cells": [
  {
   "cell_type": "markdown",
   "metadata": {
    "slideshow": {
     "slide_type": "slide"
    }
   },
   "source": [
    "# Cost of Capital\n",
    "\n",
    "### BUSI 721: Data-Driven Finance I\n",
    "### Kerry Back, Rice University"
   ]
  },
  {
   "cell_type": "markdown",
   "metadata": {
    "slideshow": {
     "slide_type": "slide"
    }
   },
   "source": [
    "### Overview\n",
    "\n",
    "- Equations for efficient portfolio with cash\n",
    "- Risk premium formula based on beta with respect to efficient portfolio\n",
    "- Capital Asset Pricing Model (CAPM)\n",
    "- Weighted Average Cost of Capital"
   ]
  },
  {
   "cell_type": "markdown",
   "metadata": {
    "slideshow": {
     "slide_type": "slide"
    }
   },
   "source": [
    "### Efficient portfolio with cash\n",
    "\n",
    "minimize\n",
    "\n",
    "$$\\frac{1}{2} w'\\Sigma w$$\n",
    "\n",
    "subject to\n",
    "\n",
    "$$\\mu'w + \\left(1-\\sum_{i=1}^n w_i\\right)r_f= r$$\n",
    "\n",
    "\n",
    "where $r=$ target expected return and $r_f=$ borrowing and saving rate."
   ]
  },
  {
   "cell_type": "markdown",
   "metadata": {
    "slideshow": {
     "slide_type": "slide"
    }
   },
   "source": [
    "### Target expected return constraint\n",
    "\n",
    "- Expected return is \n",
    "$$\\mu'w + (1-\\iota'w)r_f = r_f + (\\mu-r_f\\iota')w$$\n",
    "- Equals target expected return $r$ if and only if\n",
    "$$(\\mu-r_f\\iota)'w = r-r_f$$\n",
    "- So, minimize \n",
    "$$\\frac{1}{2} w'\\Sigma w$$\n",
    "\n",
    "subject to\n",
    "\n",
    "$$(\\mu-r_f\\iota)'w= r = r_f$$"
   ]
  },
  {
   "cell_type": "markdown",
   "metadata": {
    "slideshow": {
     "slide_type": "slide"
    }
   },
   "source": [
    "### Marginal benefit-cost ratios\n",
    "\n",
    " - Benefit = risk premium = $(\\mu-r_f\\iota)'w$\n",
    " - Cost = half of variance = $(1/2)w'\\Sigma w$\n",
    "- Minimize cost subject to benefit $=r-r_f$\n",
    "- The optimum is such that the ratio of marginal benefit to marginal cost is the same for all assets.\n",
    "\n",
    "$$ \\frac{\\partial \\text{Benefit}/\\partial w_i}{ \\partial \\text{Cost}/\\partial w_i} = \\text{constant depending on $r-r_f$}$$"
   ]
  },
  {
   "cell_type": "markdown",
   "metadata": {
    "slideshow": {
     "slide_type": "slide"
    }
   },
   "source": [
    "### Related problem\n",
    "\n",
    "- Outputs 1, ..., n.  Quantities = $x_i$\n",
    "- Output prices $p_i$\n",
    "- Efficient production plan miminizes cost given the revenue it produces:\n",
    "$$ \\text{minimize} \\quad \\frac{1}{2}C(x_1, \\ldots, x_n) \\quad \\text{subject to} \\sum_{i=1}^n p_ix_i = \\text{revenue target}$$\n",
    "- Optimum is such that\n",
    "$$ \\frac{p_i}{\\partial C/\\partial x_i} = \\text{constant depending on revenue target}$$\n",
    "- as long as the $x_i$ are $\\ge 0$ at the solution of these equations."
   ]
  },
  {
   "cell_type": "markdown",
   "metadata": {
    "slideshow": {
     "slide_type": "slide"
    }
   },
   "source": [
    "### Why marginal benefit-cost ratios the same?\n",
    "\n",
    "- Suppose two outputs both have marginal cost = 1.  One has price = 1  The other has price = 2.\n",
    "- Reduce production of the low-price output by $\\Delta$.  \n",
    "- Increase production of the high-price output by $\\Delta$.\n",
    "- Cost goes down from reducing production of one and up from increasing producing of other, and these offset due to equal marginal costs.\n",
    "- Make more revenue."
   ]
  },
  {
   "cell_type": "markdown",
   "metadata": {
    "slideshow": {
     "slide_type": "slide"
    }
   },
   "source": [
    "### Back to finance\n",
    "\n",
    "- Marginal benefit is the risk premium of asset $i$ = $\\mu_i - r_f$.\n",
    "- To calculate marginal cost, assume only two assets for simplicity.\n",
    "\n",
    "$$\\text{Variance} = w_1^2\\sigma_1^2 + w_2^2\\sigma_2^2 + 2 \\rho\\sigma_1\\sigma_2 w_1 w_2$$\n",
    "\n",
    "- Differentiate with respect to $w_1$ for example:\n",
    "\n",
    "$$\\frac{\\partial \\text{Variance}}{\\partial w_1} = 2w_1\\sigma_1^2 + 2\\rho\\sigma_1\\sigma_2 w_2$$\n",
    "\n",
    "\n",
    "\n"
   ]
  },
  {
   "cell_type": "markdown",
   "metadata": {
    "slideshow": {
     "slide_type": "slide"
    }
   },
   "source": [
    "$$\\frac{\\partial \\text{Cost}}{\\partial w_1} = w_1\\sigma_1^2 + \\rho\\sigma_1\\sigma_2 w_2$$\n",
    "$$ = w_1\\text{cov}(r_1, r_1) + w_2 \\text{cov}(r_1, r_2)$$\n",
    "$$ = \\text{cov}(r_1, w_1r_1) + \\text{cov}(r_1, w_2r_2)$$\n",
    "$$ = \\text{cov}(r_1, w_1r_1 + w_2r_2)$$\n",
    "- With $n$ assets, the marginal cost of asset $i$ is\n",
    "$$\\text{cov}\\left(r_i, \\sum_{i=1}^n w_ir_i\\right)$$\n",
    "where $(w_1, \\ldots, w_n)$ is the efficient portfolio."
   ]
  },
  {
   "cell_type": "markdown",
   "metadata": {
    "slideshow": {
     "slide_type": "slide"
    }
   },
   "source": [
    "- Call the constant $k$\n",
    "- So, marginal benefit / marginal cost $=k$\n",
    "- So, marginal benefit $=k \\times \\text{marginal cost}$\n",
    "- So, for each asset,\n",
    "$$ \\text{risk premium} = k \\times \\text{cov}(\\text{asset return}, \\text{efficient portfolio return})$$\n",
    "- This provides some hope for estimating the return investors expect from a stock (expected return = risk premium $\\;+\\;r_f$)"
   ]
  },
  {
   "cell_type": "markdown",
   "metadata": {
    "slideshow": {
     "slide_type": "slide"
    }
   },
   "source": [
    "### A few more steps\n",
    "\n",
    "- The risk premium formula also holds for portfolios of assets, so use it for the efficient portfolio return:\n",
    "$$\\text{efficient portfolio risk premium} = k \\times \\text{var}(\\text{efficient portfolio return})$$\n",
    "- This is a formula for $k$:\n",
    "$$k = \\frac{\\text{efficient portfolio risk premium}}{\\text{var}(\\text{efficient portfolio return})}$$\n",
    "- Substituting this, we get, for each asset,\n",
    "$$ \\text{risk premium} = \\frac{\\text{cov}(\\text{asset return}, \\text{efficient portfolio return})}{\\text{var}(\\text{efficient portfolio return})}$$\n",
    "$$\\qquad \\qquad \\times \\; \\text{efficient portfolio risk premium}$$"
   ]
  },
  {
   "cell_type": "markdown",
   "metadata": {
    "slideshow": {
     "slide_type": "slide"
    }
   },
   "source": [
    "- A covariance to variance ratio like this is the slope in a regression.\n",
    "- Let $r_p$ denote the efficient portfolio return.  \n",
    "- We are dealing with risk premia, so compute excess returns $r_i-r_f$ and $r_p-r_f$.  \n",
    "- Run the regression:\n",
    "$$r_i - r_f = \\alpha_i + \\beta_i (r_p-r_f) + \\varepsilon_i$$\n",
    "- Covariance to variance ratio is $\\beta_i$.  So, for each asset,\n",
    "$$\\text{risk premium} = \\beta \\; \\times \\text{efficient portfolio risk premium}.$$"
   ]
  },
  {
   "cell_type": "markdown",
   "metadata": {
    "slideshow": {
     "slide_type": "slide"
    }
   },
   "source": [
    "- All of this is tautological and so far doesn't help us.\n",
    "- To find the efficient portfolio by calculation, we already need to know all of the risk premia.\n",
    "- But suppose we could guess a efficient portfolio.  Then,\n",
    "  - We can run regressions to estimate betas.\n",
    "  - We can estimate the efficient portfolio risk premium using hopefully a very long data series of returns.\n",
    "  - We get a formula for the return investors expect from a stock.\n",
    "\n",
    "  $$\\text{expected return} = r_f + \\beta \\times \\text{efficient portfolio risk premium}$$"
   ]
  },
  {
   "cell_type": "markdown",
   "metadata": {
    "slideshow": {
     "slide_type": "slide"
    }
   },
   "source": [
    "### Capital Asset Pricing Model (CAPM)\n",
    "\n",
    "- Assume the market portfolio of stocks is an efficient portfolio.\n",
    "- Why?  People should hold efficient portfolios - maximize the Sharpe ratio.\n",
    "- A weighted average of portfolios on the maximum Sharpe ratio line is also on the line.\n",
    "- So the market is efficient if everyone holds an efficient portfolio.\n",
    "- CAPM:\n",
    "\n",
    "$$\\text{expected return} = r_f + \\beta \\times \\text{market risk premium}$$"
   ]
  },
  {
   "cell_type": "markdown",
   "metadata": {"slideshow": {"slide_type": "slide"}},
   "source": [
    "### Intuition for the CAPM\n",
    "\n",
    "- Market risk is the biggest risk diversified investors hold\n",
    "- Therefore, the relevant risk of an asset is how much it contributes to market risk\n",
    "- This depends on its covariance with market risk, captured by beta\n",
    "- So, the risk premium of an asset should depend on its beta"
   ]
  },
  {
   "cell_type": "markdown",
   "metadata": {
    "slideshow": {
     "slide_type": "slide"
    }
   },
   "source": [
    "### Weighted average cost of capital (WACC)\n",
    "\n",
    "- Compute equity / (equity + debt) and debt / (equity + debt) on a market value basis.\n",
    "- Compute the expected return on your stock using probably the CAPM = cost of equity.\n",
    "- Determine the coupon at which you could issue debt at face value (market rate for your debt) = cost of debt.\n",
    "- Determine the marginal tax rate.  It matters because interest is tax deductible but dividends are not.\n",
    "\n",
    "$$\\text{WACC} = \\text{pct equity} \\times \\text{cost of equity}$$\n",
    "$$\\qquad \\qquad\\text{$+$ pct debt} \\times (1-\\text{tax rate}) \\times \\text{cost of debt}$$"
   ]
  }
 ],
 "metadata": {
  "kernelspec": {
   "display_name": "Python 3",
   "language": "python",
   "name": "python3"
  },
  "language_info": {
   "codemirror_mode": {
    "name": "ipython",
    "version": 3
   },
   "file_extension": ".py",
   "mimetype": "text/x-python",
   "name": "python",
   "nbconvert_exporter": "python",
   "pygments_lexer": "ipython3",
   "version": "3.10.8"
  }
 },
 "nbformat": 4,
 "nbformat_minor": 2
}
