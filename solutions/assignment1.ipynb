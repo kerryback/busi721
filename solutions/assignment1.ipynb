{
 "cells": [
  {
   "cell_type": "markdown",
   "metadata": {},
   "source": [
    "## Question 1\n",
    "\n",
    "Suppose you want to have $10,000 in 5 years. If the annual interest rate is 6%, how much should you invest today to reach that goal? "
   ]
  },
  {
   "cell_type": "code",
   "execution_count": 46,
   "metadata": {},
   "outputs": [
    {
     "name": "stdout",
     "output_type": "stream",
     "text": [
      "answer is $7472.58\n"
     ]
    }
   ],
   "source": [
    "# calculate the PV of 10,000 in 5 years\n",
    "\n",
    "print(f\"answer is ${10000/1.06**5:.2f}\")"
   ]
  },
  {
   "cell_type": "markdown",
   "metadata": {},
   "source": [
    "## Question 2\n",
    "\n",
    "You plan to invest $5,000 in a savings account that offers an annual interest rate of 4%. How much will your investment be worth in 10 years? "
   ]
  },
  {
   "cell_type": "code",
   "execution_count": 47,
   "metadata": {},
   "outputs": [
    {
     "name": "stdout",
     "output_type": "stream",
     "text": [
      "answer is $7401.22\n"
     ]
    }
   ],
   "source": [
    "# calculate future value of $5,000 in 10 years\n",
    "\n",
    "print(f\"answer is ${5000*1.04**10:.2f}\")"
   ]
  },
  {
   "cell_type": "markdown",
   "metadata": {},
   "source": [
    "## Question 3\n",
    "\n",
    "You want to save for your child's college education, which will cost $50,000 per year for four years starting in 5 years. If you can earn an annual interest rate of 8%, how much should you invest today to cover all four years' expenses?"
   ]
  },
  {
   "cell_type": "markdown",
   "metadata": {},
   "source": [
    "Note that the question does not say whether the $50,000 is needed at the beginning of each year of college or at the end of the year.  It is more reasonable to assume the beginning of the year, but either approach was given full credit.\n",
    "\n",
    "If we need the money at the beginning of each year, that will be dates 5, 6, 7, and 8.  If we need it at the end of each year, that will be dates 6, 7, 8, and 9."
   ]
  },
  {
   "cell_type": "markdown",
   "metadata": {},
   "source": [
    "#### Beginning of the year"
   ]
  },
  {
   "cell_type": "code",
   "execution_count": 48,
   "metadata": {},
   "outputs": [
    {
     "name": "stdout",
     "output_type": "stream",
     "text": [
      "answer is $121,725.61\n"
     ]
    }
   ],
   "source": [
    "import numpy_financial as npf\n",
    "\n",
    "# how much money do we need at date 4 (one year before payments begin)?\n",
    "target = npf.pv(rate=0.08, nper=4, pmt=-50000)\n",
    "\n",
    "# how much money do we need now?\n",
    "print(f\"answer is ${target/1.08**4:,.2f}\")"
   ]
  },
  {
   "cell_type": "markdown",
   "metadata": {},
   "source": [
    "#### End of the year"
   ]
  },
  {
   "cell_type": "code",
   "execution_count": 49,
   "metadata": {},
   "outputs": [
    {
     "name": "stdout",
     "output_type": "stream",
     "text": [
      "answer is $112,708.89\n"
     ]
    }
   ],
   "source": [
    "# how much money do we need at date 5 (one year before payments begin)?\n",
    "# same target as in the \"beginning of year\" solution\n",
    "target = npf.pv(rate=0.08, nper=4, pmt=-50000)\n",
    "\n",
    "# how much money do we need now?\n",
    "# need the target a year later if the payments are \"end of year\"\n",
    "print(f\"answer is ${target/1.08**5:,.2f}\")"
   ]
  },
  {
   "cell_type": "markdown",
   "metadata": {},
   "source": [
    "#### Alternate calculation\n",
    "\n",
    "Instead of using the npf.pv function we could also have calculated the target as follows"
   ]
  },
  {
   "cell_type": "code",
   "execution_count": 50,
   "metadata": {},
   "outputs": [],
   "source": [
    "import numpy as np\n",
    "\n",
    "pv_factors = 1.08**np.arange(-1, -5, -1)\n",
    "target = 50000 * np.sum(pv_factors)"
   ]
  },
  {
   "cell_type": "markdown",
   "metadata": {},
   "source": [
    "## Question 4\n",
    "\n",
    "You plan to deposit $2,000 at the end of each year into a retirement account that offers an annual interest rate of 7%. How much will be in your account after 10 years?"
   ]
  },
  {
   "cell_type": "code",
   "execution_count": 51,
   "metadata": {},
   "outputs": [
    {
     "name": "stdout",
     "output_type": "stream",
     "text": [
      "answer is $27,632.90\n"
     ]
    }
   ],
   "source": [
    "answer = npf.fv(rate=0.07, nper=10, pmt=-2000, pv=0)\n",
    "print(f\"answer is ${answer:,.2f}\")"
   ]
  },
  {
   "cell_type": "markdown",
   "metadata": {},
   "source": [
    "#### Alternate calculation"
   ]
  },
  {
   "cell_type": "code",
   "execution_count": 52,
   "metadata": {},
   "outputs": [
    {
     "name": "stdout",
     "output_type": "stream",
     "text": [
      "answer is $27,632.90\n"
     ]
    }
   ],
   "source": [
    "fv_factors = 1.07**np.arange(10)\n",
    "print(f\"answer is ${2000*np.sum(fv_factors):,.2f}\")"
   ]
  },
  {
   "cell_type": "markdown",
   "metadata": {},
   "source": [
    "## Question 5\n",
    "\n",
    "You take out a $20,000 car loan at an annual interest rate of 5% for 5 years. Calculate your monthly payment."
   ]
  },
  {
   "cell_type": "code",
   "execution_count": 53,
   "metadata": {},
   "outputs": [
    {
     "name": "stdout",
     "output_type": "stream",
     "text": [
      "answer is $377.42\n"
     ]
    }
   ],
   "source": [
    "answer = - npf.pmt(rate=0.05/12, nper=5*12, pv=20000, fv=0)\n",
    "print(f\"answer is ${answer:,.2f}\")"
   ]
  },
  {
   "cell_type": "markdown",
   "metadata": {},
   "source": [
    "#### Alternate calculation"
   ]
  },
  {
   "cell_type": "code",
   "execution_count": 54,
   "metadata": {},
   "outputs": [
    {
     "name": "stdout",
     "output_type": "stream",
     "text": [
      "answer is $377.42\n"
     ]
    }
   ],
   "source": [
    "pv_factors = (1+0.05/12)**np.arange(-1, -61, -1)\n",
    "annuity_factor = np.sum(pv_factors)\n",
    "print(f\"answer is ${20000/annuity_factor:,.2f}\")"
   ]
  },
  {
   "cell_type": "markdown",
   "metadata": {},
   "source": [
    "## Question 6\n",
    "\n",
    "After making payments on your car loan for 3 years, what is the remaining balance on the loan prior to the 37th payment?"
   ]
  },
  {
   "cell_type": "markdown",
   "metadata": {},
   "source": [
    "We can us the npf.fv function to calculate the balance after the 36th payment.  Then there is another month of interest until the 37th payment is due."
   ]
  },
  {
   "cell_type": "code",
   "execution_count": 55,
   "metadata": {},
   "outputs": [
    {
     "name": "stdout",
     "output_type": "stream",
     "text": [
      "answer is $8,639.01\n"
     ]
    }
   ],
   "source": [
    "answer = -npf.fv(\n",
    "    nper=36, \n",
    "    pmt=-377.42, \n",
    "    pv=20000, \n",
    "    rate=0.05/12\n",
    ")*(1+0.05/12)\n",
    "\n",
    "print(f\"answer is ${answer:,.2f}\")"
   ]
  },
  {
   "cell_type": "markdown",
   "metadata": {},
   "source": [
    "#### Alternate calculation\n",
    "\n",
    "To calculate the balance, we can calculate the future value of the original loan amount and subtract the cumulative future values of all of the payments.  The 37th payment would be made at date 37 (the end of the 37th month) and we would have made 36 payments prior to that payment.  "
   ]
  },
  {
   "cell_type": "code",
   "execution_count": 56,
   "metadata": {},
   "outputs": [
    {
     "name": "stdout",
     "output_type": "stream",
     "text": [
      "answer is $8,639.01\n"
     ]
    }
   ],
   "source": [
    "fv_of_principal = 20000*(1+0.05/12)**37\n",
    "fv_factors = (1 + 0.05/12)**np.arange(36, 0, -1)\n",
    "fv_of_payments = 377.42*np.sum(fv_factors)\n",
    "print(f\"answer is ${fv_of_principal - fv_of_payments:,.2f}\")"
   ]
  },
  {
   "cell_type": "markdown",
   "metadata": {},
   "source": [
    "## Question 7\n",
    "\n",
    "Compare two mortgage options:\n",
    "\n",
    "    A. $300,000 loan at 4.5% for 30 years.\n",
    "\n",
    "    B. $300,000 loan at 5% for 25 years.\n",
    "\n",
    "Which option has a lower monthly payment, and which one has a lower total interest cost over the life of the loan?"
   ]
  },
  {
   "cell_type": "code",
   "execution_count": 57,
   "metadata": {},
   "outputs": [
    {
     "name": "stdout",
     "output_type": "stream",
     "text": [
      "payments are $1,520.06 for A and $1,753.77 for B\n"
     ]
    }
   ],
   "source": [
    "paymentA = - npf.pmt(rate=0.045/12, nper=30*12, pv=300000)\n",
    "paymentB = - npf.pmt(rate=0.05/12, nper=25*12, pv=300000)\n",
    "print(f\"payments are ${paymentA:,.2f} for A and ${paymentB:,.2f} for B\")"
   ]
  },
  {
   "cell_type": "code",
   "execution_count": 58,
   "metadata": {},
   "outputs": [
    {
     "name": "stdout",
     "output_type": "stream",
     "text": [
      "total interest costs are $247,220.13 for A and $226,131.04 for B\n"
     ]
    }
   ],
   "source": [
    "interestA = paymentA * 30 * 12 - 300000\n",
    "interestB = paymentB * 25 * 12 - 300000\n",
    "print(f\"total interest costs are ${interestA:,.2f} for A and ${interestB:,.2f} for B\")"
   ]
  },
  {
   "cell_type": "markdown",
   "metadata": {},
   "source": [
    "## Question 8\n",
    "\n",
    "You want to retire in 30 years with $1,000,000 in your retirement account. If your investments yield an annual return of 8% and you currently have no savings, how much should you save each year to reach your retirement goal?  Assume the savings are at the end of each year as we did in class."
   ]
  },
  {
   "cell_type": "code",
   "execution_count": 59,
   "metadata": {},
   "outputs": [
    {
     "name": "stdout",
     "output_type": "stream",
     "text": [
      "answer is $8,827.43\n"
     ]
    }
   ],
   "source": [
    "answer = - npf.pmt(rate=0.08, nper=30, fv=1000000, pv=0)\n",
    "print(f\"answer is ${answer:,.2f}\")"
   ]
  },
  {
   "cell_type": "markdown",
   "metadata": {},
   "source": [
    "#### Alternate calculation"
   ]
  },
  {
   "cell_type": "code",
   "execution_count": 66,
   "metadata": {},
   "outputs": [
    {
     "name": "stdout",
     "output_type": "stream",
     "text": [
      "answer is $8,827.43\n"
     ]
    }
   ],
   "source": [
    "fv_factors = 1.08**np.arange(29, -1, -1)\n",
    "answer = 1000000 / np.sum(fv_factors)\n",
    "print(f\"answer is ${answer:,.2f}\")"
   ]
  }
 ],
 "metadata": {
  "kernelspec": {
   "display_name": "Python 3",
   "language": "python",
   "name": "python3"
  },
  "language_info": {
   "codemirror_mode": {
    "name": "ipython",
    "version": 3
   },
   "file_extension": ".py",
   "mimetype": "text/x-python",
   "name": "python",
   "nbconvert_exporter": "python",
   "pygments_lexer": "ipython3",
   "version": "3.10.8"
  }
 },
 "nbformat": 4,
 "nbformat_minor": 2
}
