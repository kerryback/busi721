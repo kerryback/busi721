{
 "cells": [
  {
   "cell_type": "markdown",
   "metadata": {},
   "source": [
    "## Question 1\n",
    "\n",
    "You want to retire in 30 years with $4,000,000 in your retirement account.  If your investments yield an annual return of 8% and you currently have no savings, how much should you save each year to reach your retirement goal? "
   ]
  },
  {
   "cell_type": "code",
   "execution_count": 3,
   "metadata": {},
   "outputs": [
    {
     "name": "stdout",
     "output_type": "stream",
     "text": [
      "answer by method 1 is $35,309.73\n",
      "answer by method 2 is $35,309.73\n"
     ]
    }
   ],
   "source": [
    "# Method 1\n",
    "\n",
    "import numpy_financial as npf\n",
    "answer1 = -npf.pmt(rate=0.08, nper=30, pv=0, fv=4000000)\n",
    "\n",
    "# Method 2\n",
    "\n",
    "import numpy as np\n",
    "fv_factor = np.sum(\n",
    "    1.08 ** np.arange(29, -1, -1)\n",
    ")\n",
    "answer2 = 4000000 / fv_factor\n",
    "\n",
    "print(f\"answer by method 1 is ${answer1:,.2f}\")\n",
    "print(f\"answer by method 2 is ${answer2:,.2f}\")"
   ]
  },
  {
   "cell_type": "markdown",
   "metadata": {},
   "source": [
    "## Question 2\n",
    "\n",
    "Suppose in #1 that your returns are normally distributed with a mean of 8% and a standard deviation of 15%.  Suppose you save the amount you calculated in #1.  Run a simulation to determine the probability that you will meet your retirement goal."
   ]
  },
  {
   "cell_type": "markdown",
   "metadata": {},
   "source": [
    "Our first savings will be at the end of year 1 and will earn returns for 29 years, our next for 28 years, etc.  The last savings will be at the end of year 30 and will not earn any returns.  So, we need to generate 29 random annual returns in each simulation.  First we generate the returns."
   ]
  },
  {
   "cell_type": "code",
   "execution_count": 36,
   "metadata": {},
   "outputs": [],
   "source": [
    "num_sims = 10000\n",
    "\n",
    "np.random.seed(0)\n",
    "rets = np.random.normal(\n",
    "    loc=0.08, scale=0.15, size=(29, num_sims)\n",
    ")"
   ]
  },
  {
   "cell_type": "markdown",
   "metadata": {},
   "source": [
    "The first savings will earn the compound return $(1+r_2) \\cdots (1+r_30)$ where $r_t$ is the return in year $t$.  The second will earn $(1+r_3) \\ldots (1+r_30)$, etc.  Multiplying the savings by the compound return and then adding over the years of savings is the same as adding the compound returns over the years of savings and then adding.  So, we need to add up the compound returns.  First, we will do it in a nested loop and then in a slightly quicker way."
   ]
  },
  {
   "cell_type": "code",
   "execution_count": 37,
   "metadata": {},
   "outputs": [],
   "source": [
    "sum_compound_returns_method1 = []\n",
    "for sim in range(num_sims):\n",
    "    sum = 0\n",
    "    for year in range(29):\n",
    "        sum += np.prod((1+rets[year:, sim]))\n",
    "    sum_compound_returns_method1.append(sum)\n",
    "    \n",
    "sum_compound_returns_method1 = np.array(sum_compound_returns_method1)\n",
    "\n"
   ]
  },
  {
   "cell_type": "code",
   "execution_count": 38,
   "metadata": {},
   "outputs": [],
   "source": [
    "sum_compound_returns_method2 = np.sum(\n",
    "    np.flip(\n",
    "        np.cumprod(\n",
    "            np.flip(1+rets, axis=0), \n",
    "            axis=0\n",
    "        ), \n",
    "        axis=0\n",
    "    ), \n",
    "    axis=0\n",
    ")"
   ]
  },
  {
   "cell_type": "markdown",
   "metadata": {},
   "source": [
    "We can check that the two methods give the same result."
   ]
  },
  {
   "cell_type": "code",
   "execution_count": 39,
   "metadata": {},
   "outputs": [
    {
     "data": {
      "text/plain": [
       "9.938161191839312e-24"
      ]
     },
     "execution_count": 39,
     "metadata": {},
     "output_type": "execute_result"
    }
   ],
   "source": [
    "np.sum((sum_compound_returns_method1 - sum_compound_returns_method2)**2)"
   ]
  },
  {
   "cell_type": "markdown",
   "metadata": {},
   "source": [
    "The question is in what fraction of the simulations we have\n",
    "\n",
    "$$\\text{savings} \\times \\text{sum of compound returns} >= \\text{\\$4,000,000}$$"
   ]
  },
  {
   "cell_type": "code",
   "execution_count": 40,
   "metadata": {},
   "outputs": [
    {
     "name": "stdout",
     "output_type": "stream",
     "text": [
      "probability of achieving target is 38.14%\n"
     ]
    }
   ],
   "source": [
    "savings = 35309.73\n",
    "sum_compound_returns = sum_compound_returns_method1\n",
    "\n",
    "success = savings * sum_compound_returns >= 4000000\n",
    "\n",
    "print(f\"probability of achieving target is {np.sum(success)/num_sims:.2%}\")"
   ]
  },
  {
   "cell_type": "markdown",
   "metadata": {},
   "source": [
    "### Question 3\n",
    "\n",
    "Repeat #2 assuming the standard deviation is only 10%.  What is the probability of meeting your retirement goal?"
   ]
  },
  {
   "cell_type": "code",
   "execution_count": 41,
   "metadata": {},
   "outputs": [
    {
     "name": "stdout",
     "output_type": "stream",
     "text": [
      "probability of achieving target is 41.44%\n"
     ]
    }
   ],
   "source": [
    "num_sims = 10000\n",
    "\n",
    "np.random.seed(0)\n",
    "rets = np.random.normal(\n",
    "    loc=0.08, scale=0.10, size=(29, num_sims)\n",
    ")\n",
    "sum_compound_returns = np.sum(\n",
    "    np.flip(\n",
    "        np.cumprod(\n",
    "            np.flip(1+rets, axis=0), \n",
    "            axis=0\n",
    "        ), \n",
    "        axis=0\n",
    "    ), \n",
    "    axis=0\n",
    ")\n",
    "\n",
    "savings = 35309.73\n",
    "success = savings * sum_compound_returns >= 4000000\n",
    "\n",
    "print(f\"probability of achieving target is {np.sum(success)/num_sims:.2%}\")"
   ]
  },
  {
   "cell_type": "markdown",
   "metadata": {},
   "source": [
    "### Question 4\n",
    "\n",
    "Use the following code to calculate daily SPY returns.  Calculate the skewness and kurtosis of the returns using the formulas presented in class.\n",
    "\n",
    "    import yfinance as yf\n",
    "    price = yf.download(\"spy\", start=\"1990-01-01\")[\"Adj Close\"]\n",
    "    ret = price.pct_change()"
   ]
  },
  {
   "cell_type": "code",
   "execution_count": 45,
   "metadata": {},
   "outputs": [
    {
     "name": "stdout",
     "output_type": "stream",
     "text": [
      "[*********************100%***********************]  1 of 1 completed\n",
      "skewness is -0.056\n",
      "kurtosis is 14.308\n"
     ]
    }
   ],
   "source": [
    "import yfinance as yf\n",
    "price = yf.download(\"spy\", start=\"1990-01-01\")[\"Adj Close\"]\n",
    "ret = price.pct_change()\n",
    "\n",
    "mean = ret.mean()\n",
    "variance = np.mean((ret-mean)**2)\n",
    "third = np.mean((ret-mean)**3)\n",
    "fourth = np.mean((ret-mean)**4)\n",
    "stdev = np.sqrt(variance)\n",
    "skewness = third / stdev**3\n",
    "kurtosis = fourth / stdev**4\n",
    "print(f\"skewness is {skewness:.3f}\")\n",
    "print(f\"kurtosis is {kurtosis:.3f}\")"
   ]
  },
  {
   "cell_type": "markdown",
   "metadata": {},
   "source": [
    "### Question 5\n",
    "\n",
    "Use the following code to calculate annual SPY returns.  Calculate the skewness and kurtosis of the returns using the formulas presented in class.\n",
    "\n",
    "    import yfinance as yf\n",
    "    price = yf.download(\"spy\", start=\"1990-01-01\")[\"Adj Close\"]\n",
    "    price = price.resample(\"Y\").last()\n",
    "    ret = price.pct_change()[:-1]"
   ]
  },
  {
   "cell_type": "code",
   "execution_count": 63,
   "metadata": {},
   "outputs": [
    {
     "name": "stdout",
     "output_type": "stream",
     "text": [
      "skewness is -0.748\n",
      "kurtosis is 2.990\n"
     ]
    }
   ],
   "source": [
    "price = price.resample(\"Y\").last()\n",
    "ret = price.pct_change()[1:-1]\n",
    "\n",
    "mean = ret.mean()\n",
    "variance = np.mean((ret-mean)**2)\n",
    "third = np.mean((ret-mean)**3)\n",
    "fourth = np.mean((ret-mean)**4)\n",
    "stdev = np.sqrt(variance)\n",
    "skewness = third / stdev**3\n",
    "kurtosis = fourth / stdev**4\n",
    "print(f\"skewness is {skewness:.3f}\")\n",
    "print(f\"kurtosis is {kurtosis:.3f}\")"
   ]
  },
  {
   "cell_type": "markdown",
   "metadata": {},
   "source": [
    "### Question 6\n",
    "\n",
    "Download the CPI from FRED and calculate annual inflation rates as the percent change in the end-of-year CPI from one year to the next.  Using the annual (nominal) returns from #5, calculate the real rate of return of SPY each year.\n"
   ]
  },
  {
   "cell_type": "code",
   "execution_count": 59,
   "metadata": {},
   "outputs": [
    {
     "data": {
      "text/plain": [
       "DATE\n",
       "1994-12-31    0.025974\n",
       "1995-12-31    0.025316\n",
       "1996-12-31    0.033788\n",
       "1997-12-31    0.016970\n",
       "1998-12-31    0.016069\n",
       "Freq: A-DEC, Name: CPIAUCSL, dtype: float64"
      ]
     },
     "execution_count": 59,
     "metadata": {},
     "output_type": "execute_result"
    }
   ],
   "source": [
    "from pandas_datareader import DataReader as pdr\n",
    "\n",
    "cpi = pdr('CPIAUCSL', 'fred', start=\"1993-01-01\", end=\"2022-12-31\")\n",
    "cpi = cpi.resample('Y').last()\n",
    "\n",
    "inflation = cpi.pct_change().dropna()\n",
    "inflation = inflation.iloc[:, 0]\n",
    "inflation.head()"
   ]
  },
  {
   "cell_type": "markdown",
   "metadata": {},
   "source": [
    "The date formats are not the same, so the indexes don't match.  We could change one of the indexes, but the simplest thing is to convert both series to numpy arrays and then convert back to pandas at the end."
   ]
  },
  {
   "cell_type": "code",
   "execution_count": 64,
   "metadata": {},
   "outputs": [
    {
     "data": {
      "text/plain": [
       "DATE\n",
       "1994-12-31   -0.021444\n",
       "1995-12-31    0.346403\n",
       "1996-12-31    0.184938\n",
       "1997-12-31    0.312479\n",
       "1998-12-31    0.266572\n",
       "Freq: A-DEC, dtype: float64"
      ]
     },
     "execution_count": 64,
     "metadata": {},
     "output_type": "execute_result"
    }
   ],
   "source": [
    "import pandas as pd \n",
    "real_ret = (1+ret.to_numpy()) / (1+inflation.to_numpy()) - 1\n",
    "real_ret = pd.Series(real_ret, index=inflation.index)\n",
    "real_ret.head()"
   ]
  }
 ],
 "metadata": {
  "kernelspec": {
   "display_name": "Python 3",
   "language": "python",
   "name": "python3"
  },
  "language_info": {
   "codemirror_mode": {
    "name": "ipython",
    "version": 3
   },
   "file_extension": ".py",
   "mimetype": "text/x-python",
   "name": "python",
   "nbconvert_exporter": "python",
   "pygments_lexer": "ipython3",
   "version": "3.10.8"
  }
 },
 "nbformat": 4,
 "nbformat_minor": 2
}
