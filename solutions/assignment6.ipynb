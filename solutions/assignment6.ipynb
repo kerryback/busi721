{
 "cells": [
  {
   "cell_type": "markdown",
   "metadata": {},
   "source": [
    "1. Compute the historical means and covariance matrix of the S&P 500, Treasuries, and Corporates using Damodoran's data (see 11-markets_portfolios.ipynb for a url to download the data).  Print them and then convert them to numpy arrays before doing the following parts."
   ]
  },
  {
   "cell_type": "code",
   "execution_count": null,
   "metadata": {},
   "outputs": [
    {
     "data": {
      "text/html": [
       "<div>\n",
       "<style scoped>\n",
       "    .dataframe tbody tr th:only-of-type {\n",
       "        vertical-align: middle;\n",
       "    }\n",
       "\n",
       "    .dataframe tbody tr th {\n",
       "        vertical-align: top;\n",
       "    }\n",
       "\n",
       "    .dataframe thead th {\n",
       "        text-align: right;\n",
       "    }\n",
       "</style>\n",
       "<table border=\"1\" class=\"dataframe\">\n",
       "  <thead>\n",
       "    <tr style=\"text-align: right;\">\n",
       "      <th></th>\n",
       "      <th>S&amp;P 500</th>\n",
       "      <th>TBills</th>\n",
       "      <th>Treasuries</th>\n",
       "      <th>Corporates</th>\n",
       "    </tr>\n",
       "    <tr>\n",
       "      <th>Year</th>\n",
       "      <th></th>\n",
       "      <th></th>\n",
       "      <th></th>\n",
       "      <th></th>\n",
       "    </tr>\n",
       "  </thead>\n",
       "  <tbody>\n",
       "    <tr>\n",
       "      <th>1928</th>\n",
       "      <td>0.438112</td>\n",
       "      <td>0.0308</td>\n",
       "      <td>0.008355</td>\n",
       "      <td>0.032196</td>\n",
       "    </tr>\n",
       "    <tr>\n",
       "      <th>1929</th>\n",
       "      <td>-0.082979</td>\n",
       "      <td>0.0316</td>\n",
       "      <td>0.042038</td>\n",
       "      <td>0.030179</td>\n",
       "    </tr>\n",
       "    <tr>\n",
       "      <th>1930</th>\n",
       "      <td>-0.251236</td>\n",
       "      <td>0.0455</td>\n",
       "      <td>0.045409</td>\n",
       "      <td>0.005398</td>\n",
       "    </tr>\n",
       "  </tbody>\n",
       "</table>\n",
       "</div>"
      ],
      "text/plain": [
       "       S&P 500  TBills  Treasuries  Corporates\n",
       "Year                                          \n",
       "1928  0.438112  0.0308    0.008355    0.032196\n",
       "1929 -0.082979  0.0316    0.042038    0.030179\n",
       "1930 -0.251236  0.0455    0.045409    0.005398"
      ]
     },
     "metadata": {},
     "output_type": "display_data"
    }
   ],
   "source": [
    "import pandas as pd\n",
    "df = pd.read_csv(\n",
    "    'https://www.dropbox.com/s/hgwte6swx57jqcv/nominal_sbb.csv?dl=1',\n",
    "    index_col=\"Year\" \n",
    ")\n",
    "df = df[[\"S&P 500\", \"Treasuries\", \"Corporates\"]]\n",
    "df.head(3)"
   ]
  },
  {
   "cell_type": "code",
   "execution_count": 12,
   "metadata": {},
   "outputs": [
    {
     "data": {
      "text/plain": [
       "S&P 500       0.118205\n",
       "Treasuries    0.051104\n",
       "Corporates    0.071861\n",
       "dtype: float64"
      ]
     },
     "execution_count": 12,
     "metadata": {},
     "output_type": "execute_result"
    }
   ],
   "source": [
    "mu = df.mean()\n",
    "mu"
   ]
  },
  {
   "cell_type": "code",
   "execution_count": 13,
   "metadata": {},
   "outputs": [
    {
     "data": {
      "text/html": [
       "<div>\n",
       "<style scoped>\n",
       "    .dataframe tbody tr th:only-of-type {\n",
       "        vertical-align: middle;\n",
       "    }\n",
       "\n",
       "    .dataframe tbody tr th {\n",
       "        vertical-align: top;\n",
       "    }\n",
       "\n",
       "    .dataframe thead th {\n",
       "        text-align: right;\n",
       "    }\n",
       "</style>\n",
       "<table border=\"1\" class=\"dataframe\">\n",
       "  <thead>\n",
       "    <tr style=\"text-align: right;\">\n",
       "      <th></th>\n",
       "      <th>S&amp;P 500</th>\n",
       "      <th>Treasuries</th>\n",
       "      <th>Corporates</th>\n",
       "    </tr>\n",
       "  </thead>\n",
       "  <tbody>\n",
       "    <tr>\n",
       "      <th>S&amp;P 500</th>\n",
       "      <td>0.037871</td>\n",
       "      <td>-0.000348</td>\n",
       "      <td>0.005779</td>\n",
       "    </tr>\n",
       "    <tr>\n",
       "      <th>Treasuries</th>\n",
       "      <td>-0.000348</td>\n",
       "      <td>0.005898</td>\n",
       "      <td>0.003439</td>\n",
       "    </tr>\n",
       "    <tr>\n",
       "      <th>Corporates</th>\n",
       "      <td>0.005779</td>\n",
       "      <td>0.003439</td>\n",
       "      <td>0.005643</td>\n",
       "    </tr>\n",
       "  </tbody>\n",
       "</table>\n",
       "</div>"
      ],
      "text/plain": [
       "             S&P 500  Treasuries  Corporates\n",
       "S&P 500     0.037871   -0.000348    0.005779\n",
       "Treasuries -0.000348    0.005898    0.003439\n",
       "Corporates  0.005779    0.003439    0.005643"
      ]
     },
     "execution_count": 13,
     "metadata": {},
     "output_type": "execute_result"
    }
   ],
   "source": [
    "Sigma = df.cov()\n",
    "Sigma"
   ]
  },
  {
   "cell_type": "code",
   "execution_count": 14,
   "metadata": {},
   "outputs": [],
   "source": [
    "Sigma = Sigma.to_numpy()\n",
    "mu = mu.to_numpy()"
   ]
  },
  {
   "cell_type": "markdown",
   "metadata": {},
   "source": [
    "2. Compute the global minimum variance portfolio."
   ]
  },
  {
   "cell_type": "code",
   "execution_count": 15,
   "metadata": {},
   "outputs": [
    {
     "data": {
      "text/plain": [
       "S&P 500       0.059949\n",
       "Treasuries    0.523070\n",
       "Corporates    0.416980\n",
       "dtype: float64"
      ]
     },
     "execution_count": 15,
     "metadata": {},
     "output_type": "execute_result"
    }
   ],
   "source": [
    "import numpy as np\n",
    "from cvxopt import matrix\n",
    "from cvxopt.solvers import qp\n",
    "\n",
    "P = Sigma\n",
    "q = np.zeros((3, 1))\n",
    "A = np.ones((1, 3))\n",
    "b = np.ones((1, 1))\n",
    "\n",
    "sol = qp(\n",
    "    P=matrix(P),\n",
    "    q=matrix(q),\n",
    "    A=matrix(A),\n",
    "    b=matrix(b)\n",
    ")\n",
    "\n",
    "gmv = pd.Series(sol[\"x\"], index=df.columns)\n",
    "gmv"
   ]
  },
  {
   "cell_type": "markdown",
   "metadata": {},
   "source": [
    "3. Vary the target expected return on a grid from 4% to 12% and compute the minimum risk portfolio, allowing short sales but not using cash.  Calculate the mean and standard deviation of each portfolio and plot them."
   ]
  },
  {
   "cell_type": "code",
   "execution_count": 17,
   "metadata": {
    "slideshow": {
     "slide_type": "slide"
    }
   },
   "outputs": [],
   "source": [
    "P = Sigma\n",
    "q = np.zeros((3, 1))\n",
    "A = np.array(\n",
    "    [\n",
    "        mu,\n",
    "        [1., 1., 1.]\n",
    "    ]\n",
    ")\n",
    "\n",
    "means = []\n",
    "stdevs = []\n",
    "for r in np.arange(0, .121, 0.001):\n",
    "    b = np.array([r, 1]).reshape(2, 1)\n",
    "    sol = qp(\n",
    "    P=matrix(P),\n",
    "    q=matrix(q),\n",
    "    A=matrix(A),\n",
    "    b=matrix(b)\n",
    "    )\n",
    "    w = np.array(sol[\"x\"]).reshape(3,)\n",
    "    means.append(mu @ w)\n",
    "    stdevs.append(np.sqrt(w @ Sigma @ w))"
   ]
  },
  {
   "cell_type": "code",
   "execution_count": 18,
   "metadata": {},
   "outputs": [
    {
     "data": {
      "image/png": "[encoded data removed]",
      "text/plain": [
       "<Figure size 640x480 with 1 Axes>"
      ]
     },
     "metadata": {},
     "output_type": "display_data"
    }
   ],
   "source": [
    "import matplotlib.pyplot as plt\n",
    "import seaborn as sns\n",
    "sns.set_style(\"whitegrid\")\n",
    "\n",
    "plt.plot(stdevs, means)\n",
    "plt.xlabel(\"Standard Deviation\")\n",
    "plt.ylabel(\"Expected Return\")\n",
    "plt.show()"
   ]
  },
  {
   "cell_type": "markdown",
   "metadata": {},
   "source": [
    "4.  Assume the risk-free rate is 3%.  What is the tangency portfolio, allowing short sales?"
   ]
  },
  {
   "cell_type": "code",
   "execution_count": 19,
   "metadata": {
    "slideshow": {
     "slide_type": "slide"
    }
   },
   "outputs": [
    {
     "data": {
      "text/plain": [
       "S&P 500       0.194152\n",
       "Treasuries    0.043220\n",
       "Corporates    0.762627\n",
       "dtype: float64"
      ]
     },
     "execution_count": 19,
     "metadata": {},
     "output_type": "execute_result"
    }
   ],
   "source": [
    "rf = 0.03\n",
    "r = 0.06\n",
    "\n",
    "P = Sigma\n",
    "q = np.zeros((3, 1))\n",
    "A = (mu - rf*np.ones(3)).reshape(1, 3)\n",
    "b = np.array([r-rf]).reshape(1, 1)\n",
    "\n",
    "sol = qp(\n",
    "    P=matrix(P),\n",
    "    q=matrix(q),\n",
    "    A=matrix(A),\n",
    "    b=matrix(b)\n",
    ")\n",
    "w = pd.Series(sol[\"x\"], index=df.columns)\n",
    "w = w / w.sum()\n",
    "w"
   ]
  }
 ],
 "metadata": {
  "kernelspec": {
   "display_name": "Python 3",
   "language": "python",
   "name": "python3"
  },
  "language_info": {
   "codemirror_mode": {
    "name": "ipython",
    "version": 3
   },
   "file_extension": ".py",
   "mimetype": "text/x-python",
   "name": "python",
   "nbconvert_exporter": "python",
   "pygments_lexer": "ipython3",
   "version": "3.10.8"
  }
 },
 "nbformat": 4,
 "nbformat_minor": 2
}
