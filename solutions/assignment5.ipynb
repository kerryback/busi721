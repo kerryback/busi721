{
 "cells": [
  {
   "cell_type": "markdown",
   "metadata": {},
   "source": [
    "1. Using adjusted closing prices from Yahoo, calculate daily returns for CVX, COP, WMT, and TGT.  Drop NaNs so that the returns of all stocks span the same time periods.  Compute the correlation matrix.  Of the six possible pairs of stocks, which two have the highest correlations?"
   ]
  },
  {
   "cell_type": "code",
   "execution_count": 1,
   "metadata": {},
   "outputs": [
    {
     "name": "stdout",
     "output_type": "stream",
     "text": [
      "[*********************100%***********************]  4 of 4 completed\n"
     ]
    },
    {
     "data": {
      "text/html": [
       "<div>\n",
       "<style scoped>\n",
       "    .dataframe tbody tr th:only-of-type {\n",
       "        vertical-align: middle;\n",
       "    }\n",
       "\n",
       "    .dataframe tbody tr th {\n",
       "        vertical-align: top;\n",
       "    }\n",
       "\n",
       "    .dataframe thead th {\n",
       "        text-align: right;\n",
       "    }\n",
       "</style>\n",
       "<table border=\"1\" class=\"dataframe\">\n",
       "  <thead>\n",
       "    <tr style=\"text-align: right;\">\n",
       "      <th></th>\n",
       "      <th>COP</th>\n",
       "      <th>CVX</th>\n",
       "      <th>TGT</th>\n",
       "      <th>WMT</th>\n",
       "    </tr>\n",
       "  </thead>\n",
       "  <tbody>\n",
       "    <tr>\n",
       "      <th>COP</th>\n",
       "      <td>1.000000</td>\n",
       "      <td>0.684637</td>\n",
       "      <td>0.229699</td>\n",
       "      <td>0.191767</td>\n",
       "    </tr>\n",
       "    <tr>\n",
       "      <th>CVX</th>\n",
       "      <td>0.684637</td>\n",
       "      <td>1.000000</td>\n",
       "      <td>0.269959</td>\n",
       "      <td>0.242137</td>\n",
       "    </tr>\n",
       "    <tr>\n",
       "      <th>TGT</th>\n",
       "      <td>0.229699</td>\n",
       "      <td>0.269959</td>\n",
       "      <td>1.000000</td>\n",
       "      <td>0.490002</td>\n",
       "    </tr>\n",
       "    <tr>\n",
       "      <th>WMT</th>\n",
       "      <td>0.191767</td>\n",
       "      <td>0.242137</td>\n",
       "      <td>0.490002</td>\n",
       "      <td>1.000000</td>\n",
       "    </tr>\n",
       "  </tbody>\n",
       "</table>\n",
       "</div>"
      ],
      "text/plain": [
       "          COP       CVX       TGT       WMT\n",
       "COP  1.000000  0.684637  0.229699  0.191767\n",
       "CVX  0.684637  1.000000  0.269959  0.242137\n",
       "TGT  0.229699  0.269959  1.000000  0.490002\n",
       "WMT  0.191767  0.242137  0.490002  1.000000"
      ]
     },
     "execution_count": 1,
     "metadata": {},
     "output_type": "execute_result"
    }
   ],
   "source": [
    "import numpy as np\n",
    "import yfinance as yf\n",
    "tickers = [\"CVX\", \"COP\", \"WMT\", \"TGT\"]\n",
    "prices = yf.download(tickers, start=\"1970-01-01\")[\"Adj Close\"]\n",
    "rets = prices.pct_change().dropna()\n",
    "rets.corr()"
   ]
  },
  {
   "cell_type": "markdown",
   "metadata": {},
   "source": [
    "The pair with the highest correlation is CVX and COP.  The correlation is 68.5%."
   ]
  },
  {
   "cell_type": "markdown",
   "metadata": {},
   "source": [
    "2.  Compute the annualized standard deviations of all four stocks."
   ]
  },
  {
   "cell_type": "code",
   "execution_count": 2,
   "metadata": {},
   "outputs": [
    {
     "data": {
      "text/plain": [
       "COP    0.330272\n",
       "CVX    0.269839\n",
       "TGT    0.322204\n",
       "WMT    0.269357\n",
       "dtype: float64"
      ]
     },
     "execution_count": 2,
     "metadata": {},
     "output_type": "execute_result"
    }
   ],
   "source": [
    "np.sqrt(252)*rets.std()"
   ]
  },
  {
   "cell_type": "markdown",
   "metadata": {},
   "source": [
    "3.  Compute the standard deviation of a portfolio that is 50% in CVX and 50% in COP.  Compute the standard deviation of a portfolio that is 50% in WMT and 50% in COP.  Explain why the WMT/COP portfolio has a lower risk than the CVX/COP portfolio.  Is it because WMT has less risk than CVX?"
   ]
  },
  {
   "cell_type": "markdown",
   "metadata": {},
   "source": [
    "Full credit is given for using either the annualized standard deviations for this exercise or the non-annualized daily standard deviations.  The WMT/COP portfolio has lower risk because the correlation between WMT and COP is lower than the correlation between CVX and COP, so the WMT/COP combination has better diversification."
   ]
  },
  {
   "cell_type": "code",
   "execution_count": 3,
   "metadata": {},
   "outputs": [
    {
     "data": {
      "text/plain": [
       "0.01736407171143566"
      ]
     },
     "execution_count": 3,
     "metadata": {},
     "output_type": "execute_result"
    }
   ],
   "source": [
    "# CVX and COP\n",
    "\n",
    "port_var = (\n",
    "    0.5**2 * rets.CVX.var() \n",
    "    + 0.5**2 * rets.COP.var() \n",
    "    + 2*0.5*0.5*rets.CVX.std()*rets.COP.std()*rets.CVX.corr(rets.COP)\n",
    ")\n",
    "\n",
    "np.sqrt(port_var)"
   ]
  },
  {
   "cell_type": "code",
   "execution_count": 4,
   "metadata": {},
   "outputs": [
    {
     "data": {
      "text/plain": [
       "0.014630108208680421"
      ]
     },
     "execution_count": 4,
     "metadata": {},
     "output_type": "execute_result"
    }
   ],
   "source": [
    "# WMT and COP\n",
    "\n",
    "port_var = (\n",
    "    0.5**2 * rets.WMT.var() \n",
    "    + 0.5**2 * rets.COP.var() \n",
    "    + 2*0.5*0.5*rets.WMT.std()*rets.COP.std()*rets.WMT.corr(rets.COP)\n",
    ")\n",
    "\n",
    "np.sqrt(port_var)"
   ]
  },
  {
   "cell_type": "markdown",
   "metadata": {},
   "source": [
    "## Extra\n",
    "\n",
    "Notice that we get the same answers by computing the daily portfolio returns (1/2 ret1 + 1/2 ret2) and then computing the standard deviation of the daily portfolio returns."
   ]
  },
  {
   "cell_type": "code",
   "execution_count": 6,
   "metadata": {},
   "outputs": [
    {
     "data": {
      "text/plain": [
       "0.017364071711435655"
      ]
     },
     "execution_count": 6,
     "metadata": {},
     "output_type": "execute_result"
    }
   ],
   "source": [
    "(0.5*rets.CVX + 0.5*rets.COP).std()"
   ]
  },
  {
   "cell_type": "code",
   "execution_count": 7,
   "metadata": {},
   "outputs": [
    {
     "data": {
      "text/plain": [
       "0.014630108208680421"
      ]
     },
     "execution_count": 7,
     "metadata": {},
     "output_type": "execute_result"
    }
   ],
   "source": [
    "(0.5*rets.WMT + 0.5*rets.COP).std()"
   ]
  }
 ],
 "metadata": {
  "kernelspec": {
   "display_name": "flask",
   "language": "python",
   "name": "python3"
  },
  "language_info": {
   "codemirror_mode": {
    "name": "ipython",
    "version": 3
   },
   "file_extension": ".py",
   "mimetype": "text/x-python",
   "name": "python",
   "nbconvert_exporter": "python",
   "pygments_lexer": "ipython3",
   "version": "3.10.5"
  }
 },
 "nbformat": 4,
 "nbformat_minor": 2
}
